{
 "cells": [
  {
   "cell_type": "markdown",
   "metadata": {},
   "source": [
    "# Building a chat bot"
   ]
  },
  {
   "cell_type": "markdown",
   "metadata": {
    "collapsed": false
   },
   "source": [
    "## Will have to do :\n",
    "install python;\n",
    "install jupyter notebook\n",
    "do pip install on alot of things!"
   ]
  },
  {
   "cell_type": "code",
   "execution_count": 7,
   "metadata": {
    "collapsed": false
   },
   "outputs": [],
   "source": [
    "## Import stuff\n",
    "import nltk, re, pprint\n",
    "import sys\n",
    "import os\n",
    "import csv\n",
    "import argparse\n",
    "from nltk.stem.snowball import SnowballStemmer\n",
    "import random\n",
    "from nltk.classify import SklearnClassifier\n",
    "from sklearn.naive_bayes import BernoulliNB\n",
    "from sklearn.svm import SVC\n",
    "from nltk.tokenize import RegexpTokenizer\n",
    "from nltk.corpus import stopwords"
   ]
  },
  {
   "cell_type": "code",
   "execution_count": 77,
   "metadata": {
    "collapsed": false
   },
   "outputs": [],
   "source": [
    "file = 'leaves.txt'\n",
    "\n",
    "# leaves_data = "
   ]
  },
  {
   "cell_type": "code",
   "execution_count": 9,
   "metadata": {
    "collapsed": true
   },
   "outputs": [],
   "source": [
    "## Stem words\n",
    "stemmer = SnowballStemmer(\"english\")"
   ]
  },
  {
   "cell_type": "code",
   "execution_count": 10,
   "metadata": {
    "collapsed": true
   },
   "outputs": [],
   "source": [
    "## split data into train and test sets\n",
    "split_ratio = 0.8\n"
   ]
  },
  {
   "cell_type": "markdown",
   "metadata": {},
   "source": [
    "## Get contents from file."
   ]
  },
  {
   "cell_type": "code",
   "execution_count": 11,
   "metadata": {
    "collapsed": true
   },
   "outputs": [],
   "source": [
    "def get_content(filename):\n",
    "    test_doc = os.path.join(filename)\n",
    "    with open(test_doc, 'r') as content_file:\n",
    "        lines = csv.reader(content_file,delimiter='|')\n",
    "        res = [x for x in lines if len(x) == 3]\n",
    "        return res"
   ]
  },
  {
   "cell_type": "code",
   "execution_count": 12,
   "metadata": {
    "collapsed": false
   },
   "outputs": [],
   "source": [
    "data = get_content(file_to_train)"
   ]
  },
  {
   "cell_type": "code",
   "execution_count": 13,
   "metadata": {
    "collapsed": false
   },
   "outputs": [
    {
     "data": {
      "text/plain": [
       "'Greetings'"
      ]
     },
     "execution_count": 13,
     "metadata": {},
     "output_type": "execute_result"
    }
   ],
   "source": [
    "#This data is a list\n",
    "data[1]\n",
    "data[1][1]"
   ]
  },
  {
   "cell_type": "markdown",
   "metadata": {},
   "source": [
    "## Preprocess"
   ]
  },
  {
   "cell_type": "code",
   "execution_count": 14,
   "metadata": {
    "collapsed": true
   },
   "outputs": [],
   "source": [
    "sentence = \"The big brown fox jumped over a lazy dog.\"\n",
    "sentence2 = \"Buffalo buffalo Buffalo buffalo buffalo buffalo Buffalo buffalo\""
   ]
  },
  {
   "cell_type": "code",
   "execution_count": 15,
   "metadata": {
    "collapsed": false
   },
   "outputs": [
    {
     "name": "stdout",
     "output_type": "stream",
     "text": [
      "abcdefgh\n"
     ]
    },
    {
     "data": {
      "text/plain": [
       "'the big brown fox jumped over a lazy dog.'"
      ]
     },
     "execution_count": 15,
     "metadata": {},
     "output_type": "execute_result"
    }
   ],
   "source": [
    "#convert sentence to lower case\n",
    "'This' == 'this'\n",
    "print('AbcdEFgH'.lower())\n",
    "sentence.lower()"
   ]
  },
  {
   "cell_type": "code",
   "execution_count": 16,
   "metadata": {
    "collapsed": false
   },
   "outputs": [
    {
     "data": {
      "text/plain": [
       "['The', 'big', 'brown', 'fox', 'jumped', 'over', 'a', 'lazy', 'dog']"
      ]
     },
     "execution_count": 16,
     "metadata": {},
     "output_type": "execute_result"
    }
   ],
   "source": [
    "# extract individual words\n",
    "tokenizer = RegexpTokenizer(r'\\w+')\n",
    "tokens = tokenizer.tokenize(sentence)\n",
    "tokens"
   ]
  },
  {
   "cell_type": "code",
   "execution_count": 17,
   "metadata": {
    "collapsed": false
   },
   "outputs": [
    {
     "data": {
      "text/plain": [
       "['The', 'big', 'brown', 'fox', 'jumped', 'lazy', 'dog']"
      ]
     },
     "execution_count": 17,
     "metadata": {},
     "output_type": "execute_result"
    }
   ],
   "source": [
    "filtered_words = [w for w in tokens if not w in stopwords.words('english')]\n",
    "filtered_words"
   ]
  },
  {
   "cell_type": "code",
   "execution_count": 18,
   "metadata": {
    "collapsed": true
   },
   "outputs": [],
   "source": [
    "  def preprocess(sentence):\n",
    "    sentence = sentence.lower()\n",
    "    tokenizer = RegexpTokenizer(r'\\w+')\n",
    "    tokens = tokenizer.tokenize(sentence)\n",
    "    filtered_words = [w for w in tokens if not w in stopwords.words('english')]\n",
    "    return filtered_words"
   ]
  },
  {
   "cell_type": "code",
   "execution_count": 36,
   "metadata": {
    "collapsed": false
   },
   "outputs": [
    {
     "name": "stdout",
     "output_type": "stream",
     "text": [
      "['big', 'brown', 'fox', 'jumped', 'lazy', 'dog']\n"
     ]
    }
   ],
   "source": [
    "preprocessed_sentence = preprocess(sentence)\n",
    "print(preprocessed_sentence)"
   ]
  },
  {
   "cell_type": "markdown",
   "metadata": {},
   "source": [
    "## Tagging"
   ]
  },
  {
   "cell_type": "code",
   "execution_count": 65,
   "metadata": {
    "collapsed": false
   },
   "outputs": [
    {
     "name": "stdout",
     "output_type": "stream",
     "text": [
      "[('big', 'JJ'), ('brown', 'NN'), ('fox', 'NN'), ('jumped', 'VBD'), ('lazy', 'JJ'), ('dog', 'NN')]\n"
     ]
    }
   ],
   "source": [
    "tags = nltk.pos_tag(preprocessed_sentence)\n",
    "print(tags)"
   ]
  },
  {
   "cell_type": "markdown",
   "metadata": {},
   "source": [
    "## Extracting only Nouns and Verb nouns"
   ]
  },
  {
   "cell_type": "code",
   "execution_count": 108,
   "metadata": {
    "collapsed": false
   },
   "outputs": [],
   "source": [
    "def extract_features(sentences):\n",
    "    features = []\n",
    "    for tagged_word in sentences:\n",
    "        word, tag = tagged_word\n",
    "        if tag=='NN' or tag == 'VBN' or tag == 'NNS' or tag == 'VBP' or tag == 'RB' or tag == 'VBZ' or tag == 'VBG' or tag =='PRP' or tag == 'JJ':\n",
    "            features.append(word)\n",
    "    return features"
   ]
  },
  {
   "cell_type": "code",
   "execution_count": 109,
   "metadata": {
    "collapsed": false
   },
   "outputs": [
    {
     "data": {
      "text/plain": [
       "['big', 'brown', 'fox', 'lazy', 'dog']"
      ]
     },
     "execution_count": 109,
     "metadata": {},
     "output_type": "execute_result"
    }
   ],
   "source": [
    "extract_features(tags)"
   ]
  },
  {
   "cell_type": "code",
   "execution_count": null,
   "metadata": {
    "collapsed": true
   },
   "outputs": [],
   "source": []
  },
  {
   "cell_type": "markdown",
   "metadata": {
    "collapsed": true
   },
   "source": [
    "## Lemmatize words"
   ]
  },
  {
   "cell_type": "code",
   "execution_count": 24,
   "metadata": {
    "collapsed": false
   },
   "outputs": [
    {
     "data": {
      "text/plain": [
       "'cactus'"
      ]
     },
     "execution_count": 24,
     "metadata": {},
     "output_type": "execute_result"
    }
   ],
   "source": [
    "from nltk.stem.wordnet import WordNetLemmatizer\n",
    "lmtzr = WordNetLemmatizer()\n",
    "lmtzr.lemmatize('cacti')"
   ]
  },
  {
   "cell_type": "code",
   "execution_count": 25,
   "metadata": {
    "collapsed": false
   },
   "outputs": [
    {
     "data": {
      "text/plain": [
       "'willing'"
      ]
     },
     "execution_count": 25,
     "metadata": {},
     "output_type": "execute_result"
    }
   ],
   "source": [
    "lmtzr.lemmatize('willing')"
   ]
  },
  {
   "cell_type": "code",
   "execution_count": 26,
   "metadata": {
    "collapsed": false
   },
   "outputs": [
    {
     "data": {
      "text/plain": [
       "'foot'"
      ]
     },
     "execution_count": 26,
     "metadata": {},
     "output_type": "execute_result"
    }
   ],
   "source": [
    "lmtzr.lemmatize('feet')"
   ]
  },
  {
   "cell_type": "code",
   "execution_count": 33,
   "metadata": {
    "collapsed": false
   },
   "outputs": [
    {
     "data": {
      "text/plain": [
       "'stemmed'"
      ]
     },
     "execution_count": 33,
     "metadata": {},
     "output_type": "execute_result"
    }
   ],
   "source": [
    "lmtzr.lemmatize('stemmed')"
   ]
  },
  {
   "cell_type": "code",
   "execution_count": null,
   "metadata": {
    "collapsed": true
   },
   "outputs": [],
   "source": []
  },
  {
   "cell_type": "code",
   "execution_count": null,
   "metadata": {
    "collapsed": true
   },
   "outputs": [],
   "source": []
  },
  {
   "cell_type": "markdown",
   "metadata": {},
   "source": [
    "## Stem words"
   ]
  },
  {
   "cell_type": "code",
   "execution_count": 27,
   "metadata": {
    "collapsed": true
   },
   "outputs": [],
   "source": [
    "words_for_stemming = ['stem', 'stemming', 'stemmed', 'stemmer', 'stems','feet','willing']"
   ]
  },
  {
   "cell_type": "code",
   "execution_count": 28,
   "metadata": {
    "collapsed": false
   },
   "outputs": [
    {
     "data": {
      "text/plain": [
       "['stem', 'stem', 'stem', 'stemmer', 'stem', 'feet', 'will']"
      ]
     },
     "execution_count": 28,
     "metadata": {},
     "output_type": "execute_result"
    }
   ],
   "source": [
    "[stemmer.stem(x) for x in words_for_stemming]"
   ]
  },
  {
   "cell_type": "code",
   "execution_count": 29,
   "metadata": {
    "collapsed": true
   },
   "outputs": [],
   "source": [
    "#using porter stemmer\n",
    "from nltk.stem.porter import PorterStemmer"
   ]
  },
  {
   "cell_type": "code",
   "execution_count": 30,
   "metadata": {
    "collapsed": false
   },
   "outputs": [
    {
     "data": {
      "text/plain": [
       "['stem', 'stem', 'stem', 'stemmer', 'stem', 'feet', 'will']"
      ]
     },
     "execution_count": 30,
     "metadata": {},
     "output_type": "execute_result"
    }
   ],
   "source": [
    "stemmer = PorterStemmer()\n",
    "[stemmer.stem(x) for x in words_for_stemming]"
   ]
  },
  {
   "cell_type": "code",
   "execution_count": null,
   "metadata": {
    "collapsed": false
   },
   "outputs": [],
   "source": []
  },
  {
   "cell_type": "code",
   "execution_count": null,
   "metadata": {
    "collapsed": true
   },
   "outputs": [],
   "source": []
  },
  {
   "cell_type": "code",
   "execution_count": null,
   "metadata": {
    "collapsed": true
   },
   "outputs": [],
   "source": []
  },
  {
   "cell_type": "code",
   "execution_count": 48,
   "metadata": {
    "collapsed": true
   },
   "outputs": [],
   "source": [
    "# def get_feature_set(sent_keys):\n",
    "#     return {'keywords': ' '.join(sent_keys)}"
   ]
  },
  {
   "cell_type": "markdown",
   "metadata": {},
   "source": [
    "## Putting it all together\n",
    "Extracting features from one sentence"
   ]
  },
  {
   "cell_type": "code",
   "execution_count": 110,
   "metadata": {
    "collapsed": true
   },
   "outputs": [],
   "source": [
    "def extract_feature(text):\n",
    "    words = preprocess(text)\n",
    "#     print('words: ',words)\n",
    "    tags = nltk.pos_tag(words)\n",
    "#     print('tags: ',tags)\n",
    "    extracted_features = extract_features(tags)#rename to extract keys based on tags\n",
    "#     print('Extracted features: ',extracted_features)\n",
    "    stemmed_words = [stemmer.stem(x) for x in extracted_features]\n",
    "#     print(stemmed_words)\n",
    "    return stemmed_words"
   ]
  },
  {
   "cell_type": "code",
   "execution_count": 111,
   "metadata": {
    "collapsed": false
   },
   "outputs": [
    {
     "data": {
      "text/plain": [
       "['big', 'brown', 'fox', 'lazi', 'dog']"
      ]
     },
     "execution_count": 111,
     "metadata": {},
     "output_type": "execute_result"
    }
   ],
   "source": [
    "extract_feature(sentence)"
   ]
  },
  {
   "cell_type": "code",
   "execution_count": null,
   "metadata": {
    "collapsed": true
   },
   "outputs": [],
   "source": []
  },
  {
   "cell_type": "markdown",
   "metadata": {
    "collapsed": true
   },
   "source": [
    "## Parsing the whole document"
   ]
  },
  {
   "cell_type": "code",
   "execution_count": 143,
   "metadata": {
    "collapsed": true
   },
   "outputs": [],
   "source": [
    "def extract_feature_from_doc(data):\n",
    "    result = []\n",
    "    for (text,category,answer) in data:\n",
    "        features = extract_feature(text)\n",
    "        # features.append((sent_features, category))\n",
    "        result.append((features, answer))\n",
    "    return result"
   ]
  },
  {
   "cell_type": "code",
   "execution_count": 144,
   "metadata": {
    "collapsed": true
   },
   "outputs": [],
   "source": [
    "def get_content(filename):\n",
    "    doc = os.path.join(filename)\n",
    "    with open(doc, 'r') as content_file:\n",
    "        lines = csv.reader(content_file,delimiter='|')\n",
    "        data = [x for x in lines if len(x) == 3]\n",
    "        return data"
   ]
  },
  {
   "cell_type": "code",
   "execution_count": 145,
   "metadata": {
    "collapsed": false
   },
   "outputs": [],
   "source": [
    "data = get_content(file)"
   ]
  },
  {
   "cell_type": "code",
   "execution_count": 146,
   "metadata": {
    "collapsed": false
   },
   "outputs": [],
   "source": [
    "d = extract_feature_from_doc(data)"
   ]
  },
  {
   "cell_type": "code",
   "execution_count": 126,
   "metadata": {
    "collapsed": false
   },
   "outputs": [
    {
     "name": "stdout",
     "output_type": "stream",
     "text": [
      "[['Hello', 'Greetings', 'Hello. I am Dexter. I will serve your leave enquiries as of %(date)s'], ['hi hello', 'Greetings', 'Hello. I am Dexter. I will serve your leave enquiries as of %(date)s'], ['hi ', 'Greetings', 'Hello. I am Dexter. I will serve your leave enquiries as of %(date)s'], ['hi', 'Greetings', 'Hello. I am Dexter. I will serve your leave enquiries as of %(date)s'], ['hi', 'Greetings', 'Hello. I am Dexter. I will serve your leave enquiries as of %(date)s'], ['hey', 'Greetings', 'Hello. I am Dexter. I will serve your leave enquiries as of %(date)s'], ['hello, hi', 'Greetings', 'Hello. I am Dexter. I will serve your leave enquiries as of %(date)s'], ['hey', 'Greetings', 'Hello. I am Dexter. I will serve your leave enquiries as of %(date)s'], ['hey, hi', 'Greetings', 'Hello. I am Dexter. I will serve your leave enquiries as of %(date)s'], ['hey, hello', 'Greetings', 'Hello. I am Dexter. I will serve your leave enquiries as of %(date)s'], ['Good morning', 'Morning', 'Good Morning. I am Dexter. I will serve your leave enquiries as of %(date)s'], ['Good afternoon', 'Afternoon', 'Good afternoon. I am Dexter. I will serve your leave enquiries as of %(date)s'], ['Good evening', 'Evening', 'Good evening. I am Dexter. I will serve your leave enquiries as of %(date)s'], ['Good night', 'Goodbye', 'Good night. Take care.'], ['_ ', 'NoFeatures', \"I am sorry, I don't understand.\"], ['__ ', 'NoFeatures', \"I am sorry, I don't understand.\"], ['', 'NoFeatures', \"I am sorry, I don't understand.\"], ['  ', 'NoFeatures', \"I am sorry, I don't understand.\"], [' ', 'NoFeatures', \"I am sorry, I don't understand.\"], [' ', 'NoFeatures', \"I am sorry, I don't understand.\"], ['How are you', 'Opening', \"I'm fine! Thank you. How can I help you?\"], ['How are you?', 'Opening', \"I'm fine! Thank you. How can I help you?\"], ['How are you today?', 'Opening', \"I'm fine! Thank you. How can I help you?\"], ['How do you do?', 'Opening', 'Thank you. How can I help you?'], ['want help', 'Help', 'How can I help you?'], ['need help', 'Help', 'How can I help you?'], ['help me', 'Help', 'How can I help you?'], [\"I don't want your help.\", 'No-Help', 'Ok sir/madam. No problem. Have a nice day.'], [\"I don't want your assistance\", 'No-Help', 'Ok sir/madam. No problem. Have a nice day.'], ['No help required', 'No-Help', 'Ok sir/madam. No problem. Have a nice day.'], ['What is my name?', 'KYC', 'Your name is %(name)s'], ['Tell me my name?', 'KYC', 'Your name is %(name)s'], ['my name?', 'KYC', 'Your name is %(name)s'], ['It has been great talking to you.', 'Closing', \"It's glad to know that I have been helpful. Have a good day!\"], ['great', 'Closing', \"It's glad to know that I have been helpful. Have a good day!\"], ['thank you for your help', 'Closing', \"It's glad to know that I have been helpful. Have a good day!\"], ['thank you', 'Closing', \"It's glad to know that I have been helpful. Have a good day!\"], ['thank you very much', 'Closing', \"It's glad to know that I have been helpful. Have a good day!\"], ['thanks.', 'Closing', \"You're welcome!It's glad to know that I have been helpful. Have a good day!\"], ['thanks very much', 'Closing', \"It's glad to know that I have been helpful. Have a good day!\"], ['How many types of leaves are there?', 'Leaves-Type', 'Currently I know about two: annual and optional leaves.'], ['types of leaves?', 'Leaves-Type', 'Currently I know about two: annual and optional leaves.'], ['type leaves?', 'Leaves-Type', 'Currently I know about two: annual and optional leaves.'], ['leave type?', 'Leaves-Type', 'Currently I know about two: annual and optional leaves.'], ['leaves type?', 'Leaves-Type', 'Currently I know about two: annual and optional leaves.'], ['How many leaves have I taken?', 'Default-Utilized-Annual-Leaves', 'You have used %(annual_leaves)s annual leaves.'], ['How many leaves I have already taken?', 'Default-Utilized-Annual-Leaves', 'You have used %(annual_leaves)s annual leaves.'], ['how many annual leaves I took?', 'Utilized-Annual-Leaves', 'You have taken %(annual_leaves)s annual leaves.'], ['How many annual leaves have I taken?', 'Utilized-Annual-Leaves', 'You have taken %(annual_leaves)s annual leaves.'], ['How many annual leaves I have already taken?', 'Utilized-Annual-Leaves', 'You have taken %(annual_leaves)s annual leaves.'], ['Tell me the annual leaves count I have taken?', 'Utilized-Annual-Leaves', 'You have taken %(annual_leaves)s annual leaves.'], ['How many annual leaves have I taken?', 'Utilized-Annual-Leaves', 'You have taken %(annual_leaves)s annual leaves.'], ['number of annual leaves taken?', 'Utilized-Annual-Leaves', 'You have taken %(annual_leaves)s annual leaves.'], ['annual leaves taken?', 'Utilized-Annual-Leaves', 'You have taken %(annual_leaves)s annual leaves.'], ['number of annual leaves already taken?', 'Utilized-Annual-Leaves', 'You have taken %(annual_leaves)s annual leaves.'], ['annual leaves taken?', 'Utilized-Annual-Leaves', 'You have taken %(annual_leaves)s annual leaves.'], ['annual leaves already taken?', 'Utilized-Annual-Leaves', 'You have taken %(annual_leaves)s annual leaves.'], ['Tell me number of annual leaves I have taken', 'Utilized-Annual-Leaves', 'You have taken %(annual_leaves)s annual leaves.'], ['number of annual leaves used?', 'Utilized-Annual-Leaves', 'You have taken %(annual_leaves)s annual leaves.'], ['my taken annual leaves', 'Utilized-Annual-Leaves', 'You have taken %(annual_leaves)s annual leaves.'], ['annual leaves used?', 'Utilized-Annual-Leaves', 'You have taken %(annual_leaves)s annual leaves.'], ['How many optional leaves have I taken', 'Utilized-Optional-Leaves', 'You have taken %(optional_leaves)s optional leaves.'], ['How many optional leaves I took', 'Utilized-Optional-Leaves', 'You have taken %(optional_leaves)s optional leaves.'], ['optional leaves taken', 'Utilized-Optional-Leaves', 'You have taken %(optional_leaves)s optional leaves.'], ['number of optional leaves I have taken?', 'Utilized-Optional-Leaves', 'You have taken %(optional_leaves)s optional leaves.'], ['tell me the optional leaves count I have taken', 'Utilized-Optional-Leaves', 'You have taken %(optional_leaves)s optional leaves.'], ['tell me number of optional leaves I have taken', 'Utilized-Optional-Leaves', 'You have taken %(optional_leaves)s optional leaves.'], ['can you tell me number of optional leaves I have taken', 'Utilized-Optional-Leaves', 'You have taken %(optional_leaves)s optional leaves.'], ['please tell me number of optional leaves I have taken', 'Utilized-Optional-Leaves', 'You have taken %(optional_leaves)s optional leaves.'], ['How many optional leaves have I taken?', 'Utilized-Optional-Leaves', 'You have taken %(optional_leaves)s optional leaves.'], ['number of optional leaves taken?', 'Utilized-Optional-Leaves', 'You have taken %(optional_leaves)s optional leaves.'], ['number of optional leaves already taken?', 'Utilized-Optional-Leaves', 'You have taken %(optional_leaves)s optional leaves.'], ['optional leaves taken?', 'Utilized-Optional-Leaves', 'You have taken %(optional_leaves)s optional leaves.'], ['optional leaves already taken?', 'Utilized-Optional-Leaves', 'You have taken %(optional_leaves)s optional leaves.'], ['please tell me number of optional leaves I have used.', 'Utilized-Optional-Leaves', 'You have taken %(optional_leaves)s optional leaves.'], ['please tell me number of optional leaves I have used', 'Utilized-Optional-Leaves', 'You have taken %(optional_leaves)s optional leaves.'], ['tell me the optional leaves count I have used.', 'Utilized-Optional-Leaves', 'You have taken %(optional_leaves)s optional leaves.'], ['tell me the optional leaves count I have used', 'Utilized-Optional-Leaves', 'You have taken %(optional_leaves)s optional leaves.'], ['the optional leaves count I have used', 'Utilized-Optional-Leaves', 'You have taken %(optional_leaves)s optional leaves.'], ['the optional leaves count I have used?', 'Utilized-Optional-Leaves', 'You have taken %(optional_leaves)s optional leaves.'], ['tell me the optional leaves count I have taken', 'Utilized-Optional-Leaves', 'You have taken %(optional_leaves)s optional leaves.'], ['tell me the optional leaves count I have taken', 'Utilized-Optional-Leaves', 'You have taken %(optional_leaves)s optional leaves.'], ['tell me the optional leaves count I have taken', 'Utilized-Optional-Leaves', 'You have taken %(optional_leaves)s optional leaves.'], ['How many optional leaves have I used', 'Utilized-Optional-Leaves', 'You have taken %(optional_leaves)s optional leaves.'], ['How many optional leaves have I used?', 'Utilized-Optional-Leaves', 'You have taken %(optional_leaves)s optional leaves.'], ['number of optional leaves used?', 'Utilized-Optional-Leaves', 'You have taken %(optional_leaves)s optional leaves.'], ['optional leaves used?', 'Utilized-Optional-Leaves', 'You have taken %(optional_leaves)s optional leaves.'], ['How many leaves do I have?', 'Default-Balance-Annual-Leaves', 'You have %(rem_annual)s annual leaves left.'], ['How many leaves can I take?', 'Default-Balance-Annual-Leaves', 'You have %(rem_annual)s annual leaves left.'], ['How many leaves are remaining?', 'Default-Balance-Annual-Leaves', 'You have %(rem_annual)s annual leaves left.'], ['remaining leaves.', 'Default-Balance-Annual-Leaves', 'You have %(rem_annual)s annual leaves left.'], ['What are my leaves?', 'Default-Balance-Annual-Leaves', 'You have %(rem_annual)s annual leaves left.'], ['Tell me my leave balance.', 'Default-Balance-Annual-Leaves', 'You have %(rem_annual)s annual leaves left.'], ['my remaining leaves.', 'Default-Balance-Annual-Leaves', 'You have %(rem_annual)s annual leaves left.'], ['leave balance.', 'Default-Balance-Annual-Leaves', 'You have %(rem_annual)s annual leaves left.'], ['leaves pending.', 'Default-Balance-Annual-Leaves', 'You have %(rem_annual)s annual leaves left.'], ['tell me the annual leaves count I have remaining', 'Balance-Annual-Leaves', 'You have %(rem_annual)s annual leaves remaining.'], ['How many annual leaves do I have?', 'Balance-Annual-Leaves', 'You have %(rem_annual)s annual leaves remaining.'], ['What are my annual leaves?', 'Balance-Annual-Leaves', 'You have %(rem_annual)s annual leaves remaining.'], ['What is my annual leave balance?', 'Balance-Annual-Leaves', 'You have %(rem_annual)s annual leaves remaining.'], ['Tell me my annual leaves.', 'Balance-Annual-Leaves', 'You have %(rem_annual)s annual leaves remaining.'], ['How many annual leaves are remaining?', 'Balance-Annual-Leaves', 'You have %(rem_annual)s annual leaves remaining.'], ['Tell me my annual leaves remaining', 'Balance-Annual-Leaves', 'You have %(rem_annual)s annual leaves remaining.'], ['remaining annual leaves.', 'Balance-Annual-Leaves', 'You have %(rem_annual)s annual leaves remaining.'], ['annual leaves remaining.', 'Balance-Annual-Leaves', 'You have %(rem_annual)s annual leaves remaining.'], ['number of annual leaves remaining.', 'Balance-Annual-Leaves', 'You have %(rem_annual)s annual leaves remaining.'], ['number of annual leaves I have?', 'Balance-Annual-Leaves', 'You have %(rem_annual)s annual leaves remaining.'], ['annual leaves remaining.', 'Balance-Annual-Leaves', 'You have %(rem_annual)s annual leaves remaining.'], ['Please tell me the annual leaves count I have remaining.', 'Balance-Annual-Leaves', 'You have %(rem_annual)s annual leaves remaining.'], ['Tell me the annual leaves count I have remaining.', 'Balance-Annual-Leaves', 'You have %(rem_annual)s annual leaves remaining.'], ['the annual leaves count I have remaining.', 'Balance-Annual-Leaves', 'You have %(rem_annual)s annual leaves remaining.'], ['my annual leaves count remaining.', 'Balance-Annual-Leaves', 'You have %(rem_annual)s annual leaves remaining.'], ['Tell me my annual leave balance.', 'Balance-Annual-Leaves', 'You have %(rem_annual)s annual leaves remaining.'], ['annual leave balance.', 'Balance-Annual-Leaves', 'You have %(rem_annual)s annual leaves remaining.'], ['annual leaves.', 'Balance-Annual-Leaves', 'You have %(rem_annual)s annual leaves remaining.'], ['can you tell me number of annual leaves I have remaining', 'Balance-Annual-Leaves', 'You have %(rem_annual)s annual leaves remaining.'], ['please tell me number of annual leaves I have remaining', 'Balance-Annual-Leaves', 'You have %(rem_annual)s annual leaves remaining.'], ['How many optional leaves are remaining?', 'Balance-Optional-Leaves', 'You have %(rem_optional)s optional leaves remaining.'], ['optional leaves remaining?', 'Balance-Optional-Leaves', 'You have %(rem_optional)s optional leaves remaining.'], ['number of optional leaves I have remaining?', 'Balance-Optional-Leaves', 'You have %(rem_optional)s optional leaves remaining.'], ['How many optional leaves do I have?', 'Balance-Optional-Leaves', 'You have %(rem_optional)s optional leaves remaining.'], ['How many optional leaves do I have', 'Balance-Optional-Leaves', 'You have %(rem_optional)s optional leaves remaining.'], ['Tell me my optional leave balance?', 'Balance-Optional-Leaves', 'You have %(rem_optional)s optional leaves remaining.'], ['Tell me my optional leaves left?', 'Balance-Optional-Leaves', 'You have %(rem_optional)s optional leaves remaining.'], ['How many optional leaves can I take?', 'Balance-Optional-Leaves', 'You have %(rem_optional)s optional leaves remaining.'], ['optional leaves take?', 'Balance-Optional-Leaves', 'You have %(rem_optional)s optional leaves remaining.'], ['How many optional leaves I have?', 'Balance-Optional-Leaves', 'You have %(rem_optional)s optional leaves remaining.'], ['Tell me my optional leave balance.', 'Balance-Optional-Leaves', 'You have %(rem_optional)s optional leaves remaining.'], ['tell me the optional leaves count I have remaining', 'Balance-Optional-Leaves', 'You have %(rem_optional)s optional leaves remaining.'], ['optional leaves.', 'Balance-Optional-Leaves', 'You have %(rem_optional)s optional leaves remaining.'], ['optional leaves?', 'Balance-Optional-Leaves', 'You have %(rem_optional)s optional leaves remaining.'], ['optional leave balance', 'Balance-Optional-Leaves', 'You have %(rem_optional)s optional leaves remaining.'], ['optional', 'Balance-Optional-Leaves', 'You have %(rem_optional)s optional leaves remaining.'], ['Tell me the optional leaves count I have remaining.', 'Balance-Optional-Leaves', 'You have %(rem_optional)s optional leaves remaining.'], ['the optional leaves count I have remaining?', 'Balance-Optional-Leaves', 'You have %(rem_optional)s optional leaves remaining.'], ['my optional leaves count remaining.', 'Balance-Optional-Leaves', 'You have %(rem_optional)s optional leaves remaining.'], ['please tell me number of optional leaves I have remaining', 'Balance-Optional-Leaves', 'You have %(rem_optional)s optional leaves remaining.'], ['please tell me number of optional leaves I have remaining.', 'Balance-Optional-Leaves', 'You have %(rem_optional)s optional leaves remaining.'], ['number of optional leaves I have remaining.', 'Balance-Optional-Leaves', 'You have %(rem_optional)s optional leaves remaining.'], ['number of optional leaves I have', 'Balance-Optional-Leaves', 'You have %(rem_optional)s optional leaves remaining.'], ['number of optional leaves?', 'Balance-Optional-Leaves', 'You have %(rem_optional)s optional leaves remaining.'], ['How many carry forward leaves do I have?', 'CF', 'You have %(carry_forward)s carry forward leaves.'], ['number of carry forward leaves I have?', 'CF', 'You have %(carry_forward)s carry forward leaves.'], ['tell me the carry forward leaves count I have', 'CF', 'You have %(carry_forward)s carry forward leaves.'], ['tell me number of carry forward leaves I have', 'CF', 'You have %(carry_forward)s carry forward leaves.'], ['can you tell me number of carry forward leaves I have', 'CF', 'You have %(carry_forward)s carry forward leaves.'], ['please tell me number of carry forward leaves I have', 'CF', 'You have %(carry_forward)s carry forward leaves.'], ['How many carry forwards do I have from previous year?', 'CF', 'You have %(carry_forward)s carry forward leaves.'], ['Tell me my carry forward leaves from previous year', 'CF', 'You have %(carry_forward)s carry forward leaves.'], ['Tell me my carry forward leaves', 'CF', 'You have %(carry_forward)s carry forward leaves.'], ['Tell me carry forward leaves', 'CF', 'You have %(carry_forward)s carry forward leaves.'], ['carry forward leaves', 'CF', 'You have %(carry_forward)s carry forward leaves.'], ['carry forward leave', 'CF', 'You have %(carry_forward)s carry forward leaves.'], ['carry forward', 'CF', 'You have %(carry_forward)s carry forward leaves.'], ['previous year carry forward leaves', 'CF', 'You have %(carry_forward)s carry forward leaves.']]\n"
     ]
    }
   ],
   "source": [
    "print(data)"
   ]
  },
  {
   "cell_type": "code",
   "execution_count": null,
   "metadata": {
    "collapsed": true
   },
   "outputs": [],
   "source": []
  },
  {
   "cell_type": "code",
   "execution_count": null,
   "metadata": {
    "collapsed": true
   },
   "outputs": [],
   "source": []
  },
  {
   "cell_type": "markdown",
   "metadata": {
    "collapsed": true
   },
   "source": [
    "## Bag of words"
   ]
  },
  {
   "cell_type": "code",
   "execution_count": null,
   "metadata": {
    "collapsed": true
   },
   "outputs": [],
   "source": []
  },
  {
   "cell_type": "code",
   "execution_count": null,
   "metadata": {
    "collapsed": true
   },
   "outputs": [],
   "source": []
  },
  {
   "cell_type": "code",
   "execution_count": null,
   "metadata": {
    "collapsed": true
   },
   "outputs": [],
   "source": []
  }
 ],
 "metadata": {
  "kernelspec": {
   "display_name": "Python 3",
   "language": "python",
   "name": "python3"
  },
  "language_info": {
   "codemirror_mode": {
    "name": "ipython",
    "version": 3
   },
   "file_extension": ".py",
   "mimetype": "text/x-python",
   "name": "python",
   "nbconvert_exporter": "python",
   "pygments_lexer": "ipython3",
   "version": "3.5.1"
  }
 },
 "nbformat": 4,
 "nbformat_minor": 1
}
