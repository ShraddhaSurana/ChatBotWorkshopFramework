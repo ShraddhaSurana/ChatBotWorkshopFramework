{
 "cells": [
  {
   "cell_type": "markdown",
   "metadata": {},
   "source": [
    "# Building a chat bot"
   ]
  },
  {
   "cell_type": "markdown",
   "metadata": {
    "collapsed": false
   },
   "source": [
    "## Will have to do :\n",
    "install python;\n",
    "install jupyter notebook\n",
    "do pip install on alot of things!"
   ]
  },
  {
   "cell_type": "code",
   "execution_count": 1,
   "metadata": {
    "collapsed": false
   },
   "outputs": [],
   "source": [
    "## Import stuff\n",
    "import nltk, re, pprint\n",
    "import sys\n",
    "import os\n",
    "import csv\n",
    "import argparse\n",
    "from nltk.stem.snowball import SnowballStemmer\n",
    "import random\n",
    "from nltk.classify import SklearnClassifier\n",
    "from sklearn.naive_bayes import BernoulliNB\n",
    "from sklearn.svm import SVC\n",
    "from nltk.tokenize import RegexpTokenizer\n",
    "from nltk.corpus import stopwords"
   ]
  },
  {
   "cell_type": "code",
   "execution_count": 2,
   "metadata": {
    "collapsed": false
   },
   "outputs": [],
   "source": [
    "file = 'leaves.txt'\n",
    "\n",
    "# leaves_data = "
   ]
  },
  {
   "cell_type": "code",
   "execution_count": 3,
   "metadata": {
    "collapsed": true
   },
   "outputs": [],
   "source": [
    "## Stem words\n",
    "stemmer = SnowballStemmer(\"english\")"
   ]
  },
  {
   "cell_type": "markdown",
   "metadata": {},
   "source": [
    "## Get contents from file."
   ]
  },
  {
   "cell_type": "code",
   "execution_count": 4,
   "metadata": {
    "collapsed": true
   },
   "outputs": [],
   "source": [
    "def get_content(filename):\n",
    "    test_doc = os.path.join(filename)\n",
    "    with open(test_doc, 'r') as content_file:\n",
    "        lines = csv.reader(content_file,delimiter='|')\n",
    "        res = [x for x in lines if len(x) == 3]\n",
    "        return res"
   ]
  },
  {
   "cell_type": "code",
   "execution_count": 5,
   "metadata": {
    "collapsed": false
   },
   "outputs": [
    {
     "ename": "NameError",
     "evalue": "name 'file_to_train' is not defined",
     "output_type": "error",
     "traceback": [
      "\u001b[0;31m---------------------------------------------------------------------------\u001b[0m",
      "\u001b[0;31mNameError\u001b[0m                                 Traceback (most recent call last)",
      "\u001b[0;32m<ipython-input-5-5a7e7225fd81>\u001b[0m in \u001b[0;36m<module>\u001b[0;34m()\u001b[0m\n\u001b[0;32m----> 1\u001b[0;31m \u001b[0mdata\u001b[0m \u001b[0;34m=\u001b[0m \u001b[0mget_content\u001b[0m\u001b[0;34m(\u001b[0m\u001b[0mfile_to_train\u001b[0m\u001b[0;34m)\u001b[0m\u001b[0;34m\u001b[0m\u001b[0m\n\u001b[0m",
      "\u001b[0;31mNameError\u001b[0m: name 'file_to_train' is not defined"
     ]
    }
   ],
   "source": [
    "data = get_content(file_to_train)"
   ]
  },
  {
   "cell_type": "code",
   "execution_count": 6,
   "metadata": {
    "collapsed": false
   },
   "outputs": [
    {
     "ename": "NameError",
     "evalue": "name 'data' is not defined",
     "output_type": "error",
     "traceback": [
      "\u001b[0;31m---------------------------------------------------------------------------\u001b[0m",
      "\u001b[0;31mNameError\u001b[0m                                 Traceback (most recent call last)",
      "\u001b[0;32m<ipython-input-6-a5659d23c791>\u001b[0m in \u001b[0;36m<module>\u001b[0;34m()\u001b[0m\n\u001b[1;32m      1\u001b[0m \u001b[0;31m#This data is a list\u001b[0m\u001b[0;34m\u001b[0m\u001b[0;34m\u001b[0m\u001b[0m\n\u001b[0;32m----> 2\u001b[0;31m \u001b[0mdata\u001b[0m\u001b[0;34m[\u001b[0m\u001b[0;36m1\u001b[0m\u001b[0;34m]\u001b[0m\u001b[0;34m\u001b[0m\u001b[0m\n\u001b[0m\u001b[1;32m      3\u001b[0m \u001b[0mdata\u001b[0m\u001b[0;34m[\u001b[0m\u001b[0;36m1\u001b[0m\u001b[0;34m]\u001b[0m\u001b[0;34m[\u001b[0m\u001b[0;36m1\u001b[0m\u001b[0;34m]\u001b[0m\u001b[0;34m\u001b[0m\u001b[0m\n",
      "\u001b[0;31mNameError\u001b[0m: name 'data' is not defined"
     ]
    }
   ],
   "source": [
    "#This data is a list\n",
    "data[1]\n",
    "data[1][1]"
   ]
  },
  {
   "cell_type": "markdown",
   "metadata": {},
   "source": [
    "## Preprocess"
   ]
  },
  {
   "cell_type": "code",
   "execution_count": 7,
   "metadata": {
    "collapsed": true
   },
   "outputs": [],
   "source": [
    "sentence = \"The big brown fox jumped over a lazy dog.\"\n",
    "sentence2 = \"Buffalo buffalo Buffalo buffalo buffalo buffalo Buffalo buffalo\""
   ]
  },
  {
   "cell_type": "code",
   "execution_count": 8,
   "metadata": {
    "collapsed": false
   },
   "outputs": [
    {
     "name": "stdout",
     "output_type": "stream",
     "text": [
      "abcdefgh\n"
     ]
    },
    {
     "data": {
      "text/plain": [
       "'the big brown fox jumped over a lazy dog.'"
      ]
     },
     "execution_count": 8,
     "metadata": {},
     "output_type": "execute_result"
    }
   ],
   "source": [
    "#convert sentence to lower case\n",
    "'This' == 'this'\n",
    "print('AbcdEFgH'.lower())\n",
    "sentence.lower()"
   ]
  },
  {
   "cell_type": "code",
   "execution_count": 9,
   "metadata": {
    "collapsed": false
   },
   "outputs": [
    {
     "data": {
      "text/plain": [
       "['The', 'big', 'brown', 'fox', 'jumped', 'over', 'a', 'lazy', 'dog']"
      ]
     },
     "execution_count": 9,
     "metadata": {},
     "output_type": "execute_result"
    }
   ],
   "source": [
    "# extract individual words\n",
    "tokenizer = RegexpTokenizer(r'\\w+')\n",
    "tokens = tokenizer.tokenize(sentence)\n",
    "tokens"
   ]
  },
  {
   "cell_type": "code",
   "execution_count": 10,
   "metadata": {
    "collapsed": false
   },
   "outputs": [
    {
     "data": {
      "text/plain": [
       "['The', 'big', 'brown', 'fox', 'jumped', 'lazy', 'dog']"
      ]
     },
     "execution_count": 10,
     "metadata": {},
     "output_type": "execute_result"
    }
   ],
   "source": [
    "filtered_words = [w for w in tokens if not w in stopwords.words('english')]\n",
    "filtered_words"
   ]
  },
  {
   "cell_type": "code",
   "execution_count": 11,
   "metadata": {
    "collapsed": true
   },
   "outputs": [],
   "source": [
    "  def preprocess(sentence):\n",
    "    sentence = sentence.lower()\n",
    "    tokenizer = RegexpTokenizer(r'\\w+')\n",
    "    tokens = tokenizer.tokenize(sentence)\n",
    "    filtered_words = [w for w in tokens if not w in stopwords.words('english')]\n",
    "    return filtered_words"
   ]
  },
  {
   "cell_type": "code",
   "execution_count": 12,
   "metadata": {
    "collapsed": false
   },
   "outputs": [
    {
     "name": "stdout",
     "output_type": "stream",
     "text": [
      "['big', 'brown', 'fox', 'jumped', 'lazy', 'dog']\n"
     ]
    }
   ],
   "source": [
    "preprocessed_sentence = preprocess(sentence)\n",
    "print(preprocessed_sentence)"
   ]
  },
  {
   "cell_type": "markdown",
   "metadata": {},
   "source": [
    "## Tagging"
   ]
  },
  {
   "cell_type": "code",
   "execution_count": 13,
   "metadata": {
    "collapsed": false
   },
   "outputs": [
    {
     "name": "stdout",
     "output_type": "stream",
     "text": [
      "[('big', 'JJ'), ('brown', 'NN'), ('fox', 'NN'), ('jumped', 'VBD'), ('lazy', 'JJ'), ('dog', 'NN')]\n"
     ]
    }
   ],
   "source": [
    "tags = nltk.pos_tag(preprocessed_sentence)\n",
    "print(tags)"
   ]
  },
  {
   "cell_type": "markdown",
   "metadata": {},
   "source": [
    "## Extracting only Nouns and Verb nouns"
   ]
  },
  {
   "cell_type": "code",
   "execution_count": 14,
   "metadata": {
    "collapsed": false
   },
   "outputs": [],
   "source": [
    "def extract_features(sentences):\n",
    "    features = []\n",
    "    for tagged_word in sentences:\n",
    "        word, tag = tagged_word\n",
    "        if tag=='NN' or tag == 'VBN' or tag == 'NNS' or tag == 'VBP' or tag == 'RB' or tag == 'VBZ' or tag == 'VBG' or tag =='PRP' or tag == 'JJ':\n",
    "            features.append(word)\n",
    "    return features"
   ]
  },
  {
   "cell_type": "code",
   "execution_count": 15,
   "metadata": {
    "collapsed": false
   },
   "outputs": [
    {
     "data": {
      "text/plain": [
       "['big', 'brown', 'fox', 'lazy', 'dog']"
      ]
     },
     "execution_count": 15,
     "metadata": {},
     "output_type": "execute_result"
    }
   ],
   "source": [
    "extract_features(tags)"
   ]
  },
  {
   "cell_type": "code",
   "execution_count": null,
   "metadata": {
    "collapsed": true
   },
   "outputs": [],
   "source": []
  },
  {
   "cell_type": "markdown",
   "metadata": {
    "collapsed": true
   },
   "source": [
    "## Lemmatize words"
   ]
  },
  {
   "cell_type": "code",
   "execution_count": 16,
   "metadata": {
    "collapsed": false
   },
   "outputs": [
    {
     "data": {
      "text/plain": [
       "'cactus'"
      ]
     },
     "execution_count": 16,
     "metadata": {},
     "output_type": "execute_result"
    }
   ],
   "source": [
    "from nltk.stem.wordnet import WordNetLemmatizer\n",
    "lmtzr = WordNetLemmatizer()\n",
    "lmtzr.lemmatize('cacti')"
   ]
  },
  {
   "cell_type": "code",
   "execution_count": 17,
   "metadata": {
    "collapsed": false
   },
   "outputs": [
    {
     "data": {
      "text/plain": [
       "'willing'"
      ]
     },
     "execution_count": 17,
     "metadata": {},
     "output_type": "execute_result"
    }
   ],
   "source": [
    "lmtzr.lemmatize('willing')"
   ]
  },
  {
   "cell_type": "code",
   "execution_count": 18,
   "metadata": {
    "collapsed": false
   },
   "outputs": [
    {
     "data": {
      "text/plain": [
       "'foot'"
      ]
     },
     "execution_count": 18,
     "metadata": {},
     "output_type": "execute_result"
    }
   ],
   "source": [
    "lmtzr.lemmatize('feet')"
   ]
  },
  {
   "cell_type": "code",
   "execution_count": 19,
   "metadata": {
    "collapsed": false
   },
   "outputs": [
    {
     "data": {
      "text/plain": [
       "'stemmed'"
      ]
     },
     "execution_count": 19,
     "metadata": {},
     "output_type": "execute_result"
    }
   ],
   "source": [
    "lmtzr.lemmatize('stemmed')"
   ]
  },
  {
   "cell_type": "code",
   "execution_count": null,
   "metadata": {
    "collapsed": true
   },
   "outputs": [],
   "source": []
  },
  {
   "cell_type": "code",
   "execution_count": null,
   "metadata": {
    "collapsed": true
   },
   "outputs": [],
   "source": []
  },
  {
   "cell_type": "markdown",
   "metadata": {},
   "source": [
    "## Stem words"
   ]
  },
  {
   "cell_type": "code",
   "execution_count": 20,
   "metadata": {
    "collapsed": true
   },
   "outputs": [],
   "source": [
    "words_for_stemming = ['stem', 'stemming', 'stemmed', 'stemmer', 'stems','feet','willing']"
   ]
  },
  {
   "cell_type": "code",
   "execution_count": 21,
   "metadata": {
    "collapsed": false
   },
   "outputs": [
    {
     "data": {
      "text/plain": [
       "['stem', 'stem', 'stem', 'stemmer', 'stem', 'feet', 'will']"
      ]
     },
     "execution_count": 21,
     "metadata": {},
     "output_type": "execute_result"
    }
   ],
   "source": [
    "[stemmer.stem(x) for x in words_for_stemming]"
   ]
  },
  {
   "cell_type": "code",
   "execution_count": 22,
   "metadata": {
    "collapsed": true
   },
   "outputs": [],
   "source": [
    "#using porter stemmer\n",
    "from nltk.stem.porter import PorterStemmer"
   ]
  },
  {
   "cell_type": "code",
   "execution_count": 23,
   "metadata": {
    "collapsed": false
   },
   "outputs": [
    {
     "data": {
      "text/plain": [
       "['stem', 'stem', 'stem', 'stemmer', 'stem', 'feet', 'will']"
      ]
     },
     "execution_count": 23,
     "metadata": {},
     "output_type": "execute_result"
    }
   ],
   "source": [
    "stemmer = PorterStemmer()\n",
    "[stemmer.stem(x) for x in words_for_stemming]"
   ]
  },
  {
   "cell_type": "code",
   "execution_count": null,
   "metadata": {
    "collapsed": false
   },
   "outputs": [],
   "source": []
  },
  {
   "cell_type": "code",
   "execution_count": null,
   "metadata": {
    "collapsed": true
   },
   "outputs": [],
   "source": []
  },
  {
   "cell_type": "code",
   "execution_count": null,
   "metadata": {
    "collapsed": true
   },
   "outputs": [],
   "source": []
  },
  {
   "cell_type": "code",
   "execution_count": 24,
   "metadata": {
    "collapsed": true
   },
   "outputs": [],
   "source": [
    "# def get_feature_set(sent_keys):\n",
    "#     return {'keywords': ' '.join(sent_keys)}"
   ]
  },
  {
   "cell_type": "markdown",
   "metadata": {},
   "source": [
    "## Putting it all together\n",
    "Extracting features from one sentence"
   ]
  },
  {
   "cell_type": "code",
   "execution_count": 25,
   "metadata": {
    "collapsed": true
   },
   "outputs": [],
   "source": [
    "def extract_feature(text):\n",
    "    words = preprocess(text)\n",
    "#     print('words: ',words)\n",
    "    tags = nltk.pos_tag(words)\n",
    "#     print('tags: ',tags)\n",
    "    extracted_features = extract_features(tags)#rename to extract keys based on tags\n",
    "#     print('Extracted features: ',extracted_features)\n",
    "    stemmed_words = [stemmer.stem(x) for x in extracted_features]\n",
    "#     print(stemmed_words)\n",
    "    # join with space\n",
    "#     return (\" \".join(stemmed_words))\n",
    "   \n",
    "    return stemmed_words\n",
    "\n",
    "# def extract_features(document):\n",
    "#     document_words = set(document)\n",
    "#     features = {}\n",
    "#     for word in word_features:\n",
    "#         features['contains(%s)' % word] = (word in document_words)\n",
    "#     return features"
   ]
  },
  {
   "cell_type": "code",
   "execution_count": 26,
   "metadata": {
    "collapsed": false
   },
   "outputs": [
    {
     "data": {
      "text/plain": [
       "['hi']"
      ]
     },
     "execution_count": 26,
     "metadata": {},
     "output_type": "execute_result"
    }
   ],
   "source": [
    "extract_feature('hi')"
   ]
  },
  {
   "cell_type": "code",
   "execution_count": 32,
   "metadata": {
    "collapsed": true
   },
   "outputs": [],
   "source": [
    "def word_feats(words):\n",
    "    return dict([(word, True) for word in words])"
   ]
  },
  {
   "cell_type": "markdown",
   "metadata": {
    "collapsed": true
   },
   "source": [
    "## Parsing the whole document"
   ]
  },
  {
   "cell_type": "code",
   "execution_count": 51,
   "metadata": {
    "collapsed": false
   },
   "outputs": [],
   "source": [
    "def extract_feature_from_doc(data):\n",
    "    result = []\n",
    "    corpus = []\n",
    "    for (text,category,answer) in data:\n",
    "#         corpus.append(text)\n",
    "#         print(corpus)\n",
    "        features = extract_feature(text)\n",
    "#         if len(features1) != 0:\n",
    "#             document_words = set(features1)\n",
    "#             features = {}\n",
    "#             for word in document_words:\n",
    "#                 features['contains(%s)' % word] = (word in document_words)\n",
    "#             return features\n",
    "        print('\\n', features)\n",
    "        corpus.append(features)\n",
    "        result.append((word_feats(features), category))\n",
    "#         result.append((\" \".join(features), answer))\n",
    "    return (result, sum(corpus,[]))"
   ]
  },
  {
   "cell_type": "code",
   "execution_count": 29,
   "metadata": {
    "collapsed": true
   },
   "outputs": [],
   "source": [
    "def get_content(filename):\n",
    "    doc = os.path.join(filename)\n",
    "    with open(doc, 'r') as content_file:\n",
    "        lines = csv.reader(content_file,delimiter='|')\n",
    "        data = [x for x in lines if len(x) == 3]\n",
    "        return data"
   ]
  },
  {
   "cell_type": "code",
   "execution_count": 53,
   "metadata": {
    "collapsed": false
   },
   "outputs": [],
   "source": [
    "data = get_content(file)"
   ]
  },
  {
   "cell_type": "code",
   "execution_count": 54,
   "metadata": {
    "collapsed": false
   },
   "outputs": [
    {
     "name": "stdout",
     "output_type": "stream",
     "text": [
      "\n",
      " ['hello']\n",
      "\n",
      " ['hi', 'hello']\n",
      "\n",
      " ['hi']\n",
      "\n",
      " ['hi']\n",
      "\n",
      " ['hi']\n",
      "\n",
      " ['hey']\n",
      "\n",
      " ['hello', 'hi']\n",
      "\n",
      " ['hey']\n",
      "\n",
      " ['hey', 'hi']\n",
      "\n",
      " ['hey', 'hello']\n",
      "\n",
      " ['good', 'morn']\n",
      "\n",
      " ['good', 'afternoon']\n",
      "\n",
      " ['good', 'even']\n",
      "\n",
      " ['good', 'night']\n",
      "\n",
      " ['today']\n",
      "\n",
      " ['want', 'help']\n",
      "\n",
      " ['need', 'help']\n",
      "\n",
      " ['help']\n",
      "\n",
      " ['want', 'help']\n",
      "\n",
      " ['want', 'assist']\n",
      "\n",
      " ['help']\n",
      "\n",
      " ['name']\n",
      "\n",
      " ['tell', 'name']\n",
      "\n",
      " ['name']\n",
      "\n",
      " ['great', 'talk']\n",
      "\n",
      " ['great']\n",
      "\n",
      " ['thank', 'help']\n",
      "\n",
      " ['thank']\n",
      "\n",
      " ['thank', 'much']\n",
      "\n",
      " ['thank']\n",
      "\n",
      " ['thank', 'much']\n",
      "\n",
      " ['mani', 'type', 'leav']\n",
      "\n",
      " ['type', 'leav']\n",
      "\n",
      " ['type', 'leav']\n",
      "\n",
      " ['type']\n",
      "\n",
      " ['leav', 'type']\n",
      "\n",
      " ['mani', 'leav', 'taken']\n",
      "\n",
      " ['mani', 'leav', 'alreadi', 'taken']\n",
      "\n",
      " ['mani', 'annual', 'leav']\n",
      "\n",
      " ['mani', 'annual', 'leav', 'taken']\n",
      "\n",
      " ['mani', 'annual', 'leav', 'alreadi', 'taken']\n",
      "\n",
      " ['annual', 'leav', 'count', 'taken']\n",
      "\n",
      " ['mani', 'annual', 'leav', 'taken']\n",
      "\n",
      " ['number', 'annual', 'leav', 'taken']\n",
      "\n",
      " ['annual', 'leav', 'taken']\n",
      "\n",
      " ['number', 'annual', 'leav', 'alreadi', 'taken']\n",
      "\n",
      " ['annual', 'leav', 'taken']\n",
      "\n",
      " ['annual', 'leav', 'alreadi', 'taken']\n",
      "\n",
      " ['number', 'annual', 'leav', 'taken']\n",
      "\n",
      " ['number', 'annual', 'leav']\n",
      "\n",
      " ['taken', 'annual', 'leav']\n",
      "\n",
      " ['annual', 'leav']\n",
      "\n",
      " ['mani', 'option', 'leav', 'taken']\n",
      "\n",
      " ['mani', 'option', 'leav']\n",
      "\n",
      " ['option', 'leav', 'taken']\n",
      "\n",
      " ['number', 'option', 'leav', 'taken']\n",
      "\n",
      " ['option', 'leav', 'count', 'taken']\n",
      "\n",
      " ['number', 'option', 'leav', 'taken']\n",
      "\n",
      " ['number', 'option', 'leav', 'taken']\n",
      "\n",
      " ['number', 'option', 'leav', 'taken']\n",
      "\n",
      " ['mani', 'option', 'leav', 'taken']\n",
      "\n",
      " ['number', 'option', 'leav', 'taken']\n",
      "\n",
      " ['number', 'option', 'leav', 'alreadi', 'taken']\n",
      "\n",
      " ['option', 'leav', 'taken']\n",
      "\n",
      " ['option', 'leav', 'alreadi', 'taken']\n",
      "\n",
      " ['number', 'option', 'leav']\n",
      "\n",
      " ['number', 'option', 'leav']\n",
      "\n",
      " ['option', 'leav', 'count', 'use']\n",
      "\n",
      " ['option', 'leav', 'count', 'use']\n",
      "\n",
      " ['option', 'leav', 'count', 'use']\n",
      "\n",
      " ['option', 'leav', 'count', 'use']\n",
      "\n",
      " ['option', 'leav', 'count', 'taken']\n",
      "\n",
      " ['option', 'leav', 'count', 'taken']\n",
      "\n",
      " ['option', 'leav', 'count', 'taken']\n",
      "\n",
      " ['mani', 'option', 'leav']\n",
      "\n",
      " ['mani', 'option', 'leav']\n",
      "\n",
      " ['number', 'option', 'leav']\n",
      "\n",
      " ['option', 'leav']\n",
      "\n",
      " ['mani', 'leav']\n",
      "\n",
      " ['mani', 'leav', 'take']\n",
      "\n",
      " ['mani', 'leav', 'remain']\n",
      "\n",
      " ['remain', 'leav']\n",
      "\n",
      " ['leav']\n",
      "\n",
      " ['tell', 'leav', 'balanc']\n",
      "\n",
      " ['remain', 'leav']\n",
      "\n",
      " ['leav', 'balanc']\n",
      "\n",
      " ['leav', 'pend']\n",
      "\n",
      " ['annual', 'leav', 'count', 'remain']\n",
      "\n",
      " ['mani', 'annual', 'leav']\n",
      "\n",
      " ['annual', 'leav']\n",
      "\n",
      " ['annual', 'leav', 'balanc']\n",
      "\n",
      " ['annual', 'leav']\n",
      "\n",
      " ['mani', 'annual', 'leav', 'remain']\n",
      "\n",
      " ['annual', 'leav', 'remain']\n",
      "\n",
      " ['remain', 'annual', 'leav']\n",
      "\n",
      " ['annual', 'leav', 'remain']\n",
      "\n",
      " ['number', 'annual', 'leav', 'remain']\n",
      "\n",
      " ['number', 'annual', 'leav']\n",
      "\n",
      " ['annual', 'leav', 'remain']\n",
      "\n",
      " ['annual', 'leav', 'count', 'remain']\n",
      "\n",
      " ['annual', 'leav', 'count', 'remain']\n",
      "\n",
      " ['annual', 'leav', 'count', 'remain']\n",
      "\n",
      " ['annual', 'leav', 'count', 'remain']\n",
      "\n",
      " ['annual', 'leav', 'balanc']\n",
      "\n",
      " ['annual', 'leav', 'balanc']\n",
      "\n",
      " ['annual', 'leav']\n",
      "\n",
      " ['number', 'annual', 'leav', 'remain']\n",
      "\n",
      " ['number', 'annual', 'leav', 'remain']\n",
      "\n",
      " ['mani', 'option', 'leav', 'remain']\n",
      "\n",
      " ['option', 'leav', 'remain']\n",
      "\n",
      " ['number', 'option', 'leav', 'remain']\n",
      "\n",
      " ['mani', 'option', 'leav']\n",
      "\n",
      " ['mani', 'option', 'leav']\n",
      "\n",
      " ['option', 'leav', 'balanc']\n",
      "\n",
      " ['option', 'leav']\n",
      "\n",
      " ['mani', 'option', 'leav', 'take']\n",
      "\n",
      " ['option', 'leav', 'take']\n",
      "\n",
      " ['mani', 'option', 'leav']\n",
      "\n",
      " ['option', 'leav', 'balanc']\n",
      "\n",
      " ['option', 'leav', 'count', 'remain']\n",
      "\n",
      " ['option', 'leav']\n",
      "\n",
      " ['option', 'leav']\n",
      "\n",
      " ['option', 'leav', 'balanc']\n",
      "\n",
      " ['option']\n",
      "\n",
      " ['option', 'leav', 'count', 'remain']\n",
      "\n",
      " ['option', 'leav', 'count', 'remain']\n",
      "\n",
      " ['option', 'leav', 'count', 'remain']\n",
      "\n",
      " ['number', 'option', 'leav', 'remain']\n",
      "\n",
      " ['number', 'option', 'leav', 'remain']\n",
      "\n",
      " ['number', 'option', 'leav', 'remain']\n",
      "\n",
      " ['number', 'option', 'leav']\n",
      "\n",
      " ['number', 'option', 'leav']\n",
      "\n",
      " ['mani', 'carri', 'forward', 'leav']\n",
      "\n",
      " ['number', 'carri', 'forward', 'leav']\n",
      "\n",
      " ['tell', 'carri', 'forward', 'leav', 'count']\n",
      "\n",
      " ['number', 'forward', 'leav']\n",
      "\n",
      " ['number', 'forward', 'leav']\n",
      "\n",
      " ['number', 'forward', 'leav']\n",
      "\n",
      " ['mani', 'carri', 'forward', 'previou', 'year']\n",
      "\n",
      " ['tell', 'carri', 'forward', 'leav', 'previou', 'year']\n",
      "\n",
      " ['tell', 'carri', 'forward', 'leav']\n",
      "\n",
      " ['tell', 'carri', 'forward', 'leav']\n",
      "\n",
      " ['forward', 'leav']\n",
      "\n",
      " ['carri', 'forward', 'leav']\n",
      "\n",
      " ['carri', 'forward']\n",
      "\n",
      " ['previou', 'year', 'carri', 'forward', 'leav']\n"
     ]
    }
   ],
   "source": [
    "features_data, corpus = extract_feature_from_doc(data)"
   ]
  },
  {
   "cell_type": "code",
   "execution_count": 34,
   "metadata": {
    "collapsed": false
   },
   "outputs": [
    {
     "name": "stdout",
     "output_type": "stream",
     "text": [
      "[({'hello': True}, 'Greetings'), ({'hi': True, 'hello': True}, 'Greetings'), ({'hi': True}, 'Greetings'), ({'hi': True}, 'Greetings'), ({'hi': True}, 'Greetings'), ({'hey': True}, 'Greetings'), ({'hi': True, 'hello': True}, 'Greetings'), ({'hey': True}, 'Greetings'), ({'hi': True, 'hey': True}, 'Greetings'), ({'hello': True, 'hey': True}, 'Greetings'), ({'good': True, 'morn': True}, 'Morning'), ({'afternoon': True, 'good': True}, 'Afternoon'), ({'even': True, 'good': True}, 'Evening'), ({'night': True, 'good': True}, 'Goodbye'), ({}, 'Opening'), ({}, 'Opening'), ({'today': True}, 'Opening'), ({}, 'Opening'), ({'help': True, 'want': True}, 'Help'), ({'help': True, 'need': True}, 'Help'), ({'help': True}, 'Help'), ({'help': True, 'want': True}, 'No-Help'), ({'assist': True, 'want': True}, 'No-Help'), ({'help': True}, 'No-Help'), ({'name': True}, 'KYC'), ({'tell': True, 'name': True}, 'KYC'), ({'name': True}, 'KYC'), ({'talk': True, 'great': True}, 'Closing'), ({'great': True}, 'Closing'), ({'help': True, 'thank': True}, 'Closing'), ({'thank': True}, 'Closing'), ({'much': True, 'thank': True}, 'Closing'), ({'thank': True}, 'Closing'), ({'much': True, 'thank': True}, 'Closing'), ({'type': True, 'mani': True, 'leav': True}, 'Leaves-Type'), ({'type': True, 'leav': True}, 'Leaves-Type'), ({'type': True, 'leav': True}, 'Leaves-Type'), ({'type': True}, 'Leaves-Type'), ({'type': True, 'leav': True}, 'Leaves-Type'), ({'taken': True, 'mani': True, 'leav': True}, 'Default-Utilized-Annual-Leaves'), ({'alreadi': True, 'taken': True, 'mani': True, 'leav': True}, 'Default-Utilized-Annual-Leaves'), ({'annual': True, 'mani': True, 'leav': True}, 'Utilized-Annual-Leaves'), ({'annual': True, 'taken': True, 'mani': True, 'leav': True}, 'Utilized-Annual-Leaves'), ({'annual': True, 'alreadi': True, 'taken': True, 'mani': True, 'leav': True}, 'Utilized-Annual-Leaves'), ({'annual': True, 'count': True, 'taken': True, 'leav': True}, 'Utilized-Annual-Leaves'), ({'annual': True, 'taken': True, 'mani': True, 'leav': True}, 'Utilized-Annual-Leaves'), ({'number': True, 'annual': True, 'taken': True, 'leav': True}, 'Utilized-Annual-Leaves'), ({'annual': True, 'taken': True, 'leav': True}, 'Utilized-Annual-Leaves'), ({'number': True, 'annual': True, 'alreadi': True, 'taken': True, 'leav': True}, 'Utilized-Annual-Leaves'), ({'annual': True, 'taken': True, 'leav': True}, 'Utilized-Annual-Leaves'), ({'annual': True, 'alreadi': True, 'taken': True, 'leav': True}, 'Utilized-Annual-Leaves'), ({'number': True, 'annual': True, 'taken': True, 'leav': True}, 'Utilized-Annual-Leaves'), ({'number': True, 'annual': True, 'leav': True}, 'Utilized-Annual-Leaves'), ({'annual': True, 'leav': True, 'taken': True}, 'Utilized-Annual-Leaves'), ({'annual': True, 'leav': True}, 'Utilized-Annual-Leaves'), ({'taken': True, 'option': True, 'mani': True, 'leav': True}, 'Utilized-Optional-Leaves'), ({'option': True, 'mani': True, 'leav': True}, 'Utilized-Optional-Leaves'), ({'taken': True, 'option': True, 'leav': True}, 'Utilized-Optional-Leaves'), ({'number': True, 'taken': True, 'option': True, 'leav': True}, 'Utilized-Optional-Leaves'), ({'count': True, 'taken': True, 'option': True, 'leav': True}, 'Utilized-Optional-Leaves'), ({'number': True, 'taken': True, 'option': True, 'leav': True}, 'Utilized-Optional-Leaves'), ({'number': True, 'taken': True, 'option': True, 'leav': True}, 'Utilized-Optional-Leaves'), ({'number': True, 'taken': True, 'option': True, 'leav': True}, 'Utilized-Optional-Leaves'), ({'taken': True, 'option': True, 'mani': True, 'leav': True}, 'Utilized-Optional-Leaves'), ({'number': True, 'taken': True, 'option': True, 'leav': True}, 'Utilized-Optional-Leaves'), ({'number': True, 'alreadi': True, 'taken': True, 'option': True, 'leav': True}, 'Utilized-Optional-Leaves'), ({'taken': True, 'option': True, 'leav': True}, 'Utilized-Optional-Leaves'), ({'alreadi': True, 'taken': True, 'option': True, 'leav': True}, 'Utilized-Optional-Leaves'), ({'number': True, 'option': True, 'leav': True}, 'Utilized-Optional-Leaves'), ({'number': True, 'option': True, 'leav': True}, 'Utilized-Optional-Leaves'), ({'use': True, 'count': True, 'option': True, 'leav': True}, 'Utilized-Optional-Leaves'), ({'use': True, 'count': True, 'option': True, 'leav': True}, 'Utilized-Optional-Leaves'), ({'use': True, 'count': True, 'option': True, 'leav': True}, 'Utilized-Optional-Leaves'), ({'use': True, 'count': True, 'option': True, 'leav': True}, 'Utilized-Optional-Leaves'), ({'count': True, 'taken': True, 'option': True, 'leav': True}, 'Utilized-Optional-Leaves'), ({'count': True, 'taken': True, 'option': True, 'leav': True}, 'Utilized-Optional-Leaves'), ({'count': True, 'taken': True, 'option': True, 'leav': True}, 'Utilized-Optional-Leaves'), ({'option': True, 'mani': True, 'leav': True}, 'Utilized-Optional-Leaves'), ({'option': True, 'mani': True, 'leav': True}, 'Utilized-Optional-Leaves'), ({'number': True, 'option': True, 'leav': True}, 'Utilized-Optional-Leaves'), ({'option': True, 'leav': True}, 'Utilized-Optional-Leaves'), ({'mani': True, 'leav': True}, 'Default-Balance-Annual-Leaves'), ({'take': True, 'mani': True, 'leav': True}, 'Default-Balance-Annual-Leaves'), ({'remain': True, 'mani': True, 'leav': True}, 'Default-Balance-Annual-Leaves'), ({'remain': True, 'leav': True}, 'Default-Balance-Annual-Leaves'), ({'leav': True}, 'Default-Balance-Annual-Leaves'), ({'tell': True, 'balanc': True, 'leav': True}, 'Default-Balance-Annual-Leaves'), ({'remain': True, 'leav': True}, 'Default-Balance-Annual-Leaves'), ({'balanc': True, 'leav': True}, 'Default-Balance-Annual-Leaves'), ({'pend': True, 'leav': True}, 'Default-Balance-Annual-Leaves'), ({'annual': True, 'count': True, 'remain': True, 'leav': True}, 'Balance-Annual-Leaves'), ({'annual': True, 'mani': True, 'leav': True}, 'Balance-Annual-Leaves'), ({'annual': True, 'leav': True}, 'Balance-Annual-Leaves'), ({'annual': True, 'balanc': True, 'leav': True}, 'Balance-Annual-Leaves'), ({'annual': True, 'leav': True}, 'Balance-Annual-Leaves'), ({'annual': True, 'remain': True, 'mani': True, 'leav': True}, 'Balance-Annual-Leaves'), ({'annual': True, 'remain': True, 'leav': True}, 'Balance-Annual-Leaves'), ({'annual': True, 'remain': True, 'leav': True}, 'Balance-Annual-Leaves'), ({'annual': True, 'remain': True, 'leav': True}, 'Balance-Annual-Leaves'), ({'number': True, 'annual': True, 'remain': True, 'leav': True}, 'Balance-Annual-Leaves'), ({'number': True, 'annual': True, 'leav': True}, 'Balance-Annual-Leaves'), ({'annual': True, 'remain': True, 'leav': True}, 'Balance-Annual-Leaves'), ({'annual': True, 'count': True, 'remain': True, 'leav': True}, 'Balance-Annual-Leaves'), ({'annual': True, 'count': True, 'remain': True, 'leav': True}, 'Balance-Annual-Leaves'), ({'annual': True, 'count': True, 'remain': True, 'leav': True}, 'Balance-Annual-Leaves'), ({'annual': True, 'count': True, 'remain': True, 'leav': True}, 'Balance-Annual-Leaves'), ({'annual': True, 'balanc': True, 'leav': True}, 'Balance-Annual-Leaves'), ({'annual': True, 'balanc': True, 'leav': True}, 'Balance-Annual-Leaves'), ({'annual': True, 'leav': True}, 'Balance-Annual-Leaves'), ({'number': True, 'annual': True, 'remain': True, 'leav': True}, 'Balance-Annual-Leaves'), ({'number': True, 'annual': True, 'remain': True, 'leav': True}, 'Balance-Annual-Leaves'), ({'remain': True, 'option': True, 'mani': True, 'leav': True}, 'Balance-Optional-Leaves'), ({'remain': True, 'option': True, 'leav': True}, 'Balance-Optional-Leaves'), ({'number': True, 'remain': True, 'option': True, 'leav': True}, 'Balance-Optional-Leaves'), ({'option': True, 'mani': True, 'leav': True}, 'Balance-Optional-Leaves'), ({'option': True, 'mani': True, 'leav': True}, 'Balance-Optional-Leaves'), ({'balanc': True, 'option': True, 'leav': True}, 'Balance-Optional-Leaves'), ({'option': True, 'leav': True}, 'Balance-Optional-Leaves'), ({'take': True, 'option': True, 'mani': True, 'leav': True}, 'Balance-Optional-Leaves'), ({'take': True, 'option': True, 'leav': True}, 'Balance-Optional-Leaves'), ({'option': True, 'mani': True, 'leav': True}, 'Balance-Optional-Leaves'), ({'balanc': True, 'option': True, 'leav': True}, 'Balance-Optional-Leaves'), ({'count': True, 'remain': True, 'option': True, 'leav': True}, 'Balance-Optional-Leaves'), ({'option': True, 'leav': True}, 'Balance-Optional-Leaves'), ({'option': True, 'leav': True}, 'Balance-Optional-Leaves'), ({'balanc': True, 'option': True, 'leav': True}, 'Balance-Optional-Leaves'), ({'option': True}, 'Balance-Optional-Leaves'), ({'count': True, 'remain': True, 'option': True, 'leav': True}, 'Balance-Optional-Leaves'), ({'count': True, 'remain': True, 'option': True, 'leav': True}, 'Balance-Optional-Leaves'), ({'count': True, 'remain': True, 'option': True, 'leav': True}, 'Balance-Optional-Leaves'), ({'number': True, 'remain': True, 'option': True, 'leav': True}, 'Balance-Optional-Leaves'), ({'number': True, 'remain': True, 'option': True, 'leav': True}, 'Balance-Optional-Leaves'), ({'number': True, 'remain': True, 'option': True, 'leav': True}, 'Balance-Optional-Leaves'), ({'number': True, 'option': True, 'leav': True}, 'Balance-Optional-Leaves'), ({'number': True, 'option': True, 'leav': True}, 'Balance-Optional-Leaves'), ({'forward': True, 'carri': True, 'mani': True, 'leav': True}, 'CF'), ({'number': True, 'forward': True, 'carri': True, 'leav': True}, 'CF'), ({'tell': True, 'count': True, 'forward': True, 'carri': True, 'leav': True}, 'CF'), ({'number': True, 'forward': True, 'leav': True}, 'CF'), ({'number': True, 'forward': True, 'leav': True}, 'CF'), ({'number': True, 'forward': True, 'leav': True}, 'CF'), ({'year': True, 'forward': True, 'carri': True, 'mani': True, 'previou': True}, 'CF'), ({'tell': True, 'carri': True, 'previou': True, 'year': True, 'forward': True, 'leav': True}, 'CF'), ({'tell': True, 'forward': True, 'carri': True, 'leav': True}, 'CF'), ({'tell': True, 'forward': True, 'carri': True, 'leav': True}, 'CF'), ({'forward': True, 'leav': True}, 'CF'), ({'forward': True, 'carri': True, 'leav': True}, 'CF'), ({'forward': True, 'carri': True}, 'CF'), ({'previou': True, 'leav': True, 'forward': True, 'carri': True, 'year': True}, 'CF')]\n"
     ]
    }
   ],
   "source": [
    "print(features_data)"
   ]
  },
  {
   "cell_type": "code",
   "execution_count": 36,
   "metadata": {
    "collapsed": false
   },
   "outputs": [
    {
     "name": "stdout",
     "output_type": "stream",
     "text": [
      "[{'use': True, 'count': True, 'option': True, 'leav': True}\n",
      " {'use': True, 'count': True, 'option': True, 'leav': True}\n",
      " {'use': True, 'count': True, 'option': True, 'leav': True}\n",
      " {'use': True, 'count': True, 'option': True, 'leav': True}\n",
      " {'count': True, 'taken': True, 'option': True, 'leav': True}\n",
      " {'count': True, 'taken': True, 'option': True, 'leav': True}\n",
      " {'count': True, 'taken': True, 'option': True, 'leav': True}\n",
      " {'option': True, 'mani': True, 'leav': True}\n",
      " {'option': True, 'mani': True, 'leav': True}\n",
      " {'number': True, 'option': True, 'leav': True}]\n",
      "[{} {'today': True} {} {'help': True, 'want': True}\n",
      " {'help': True, 'need': True} {'help': True} {'help': True, 'want': True}\n",
      " {'assist': True, 'want': True} {'help': True} {'name': True}]\n",
      "[{'today': True}, {'help': True, 'want': True}, {'help': True, 'need': True}, {'help': True}, {'help': True, 'want': True}, {'assist': True, 'want': True}, {'help': True}, {'name': True}]\n"
     ]
    }
   ],
   "source": [
    "import numpy as np\n",
    "features_data_with_labels = np.array(features_data)\n",
    "extracted_features_only = (features_data_with_labels[:,0])\n",
    "type(extracted_features_only)\n",
    "print(extracted_features_only[70:80])\n",
    "print(extracted_features_only[15:25])\n",
    "a = filter(None, extracted_features_only[15:25])\n",
    "print(list(a))"
   ]
  },
  {
   "cell_type": "code",
   "execution_count": 37,
   "metadata": {
    "collapsed": false,
    "scrolled": true
   },
   "outputs": [
    {
     "name": "stdout",
     "output_type": "stream",
     "text": [
      "[({'hello': True}, 'Greetings'), ({'hi': True, 'hello': True}, 'Greetings'), ({'hi': True}, 'Greetings'), ({'hi': True}, 'Greetings'), ({'hi': True}, 'Greetings'), ({'hey': True}, 'Greetings'), ({'hi': True, 'hello': True}, 'Greetings'), ({'hey': True}, 'Greetings'), ({'hi': True, 'hey': True}, 'Greetings'), ({'hello': True, 'hey': True}, 'Greetings'), ({'good': True, 'morn': True}, 'Morning'), ({'afternoon': True, 'good': True}, 'Afternoon'), ({'even': True, 'good': True}, 'Evening'), ({'night': True, 'good': True}, 'Goodbye'), ({}, 'Opening'), ({}, 'Opening'), ({'today': True}, 'Opening'), ({}, 'Opening'), ({'help': True, 'want': True}, 'Help'), ({'help': True, 'need': True}, 'Help'), ({'help': True}, 'Help'), ({'help': True, 'want': True}, 'No-Help'), ({'assist': True, 'want': True}, 'No-Help'), ({'help': True}, 'No-Help'), ({'name': True}, 'KYC'), ({'tell': True, 'name': True}, 'KYC'), ({'name': True}, 'KYC'), ({'talk': True, 'great': True}, 'Closing'), ({'great': True}, 'Closing'), ({'help': True, 'thank': True}, 'Closing'), ({'thank': True}, 'Closing'), ({'much': True, 'thank': True}, 'Closing'), ({'thank': True}, 'Closing'), ({'much': True, 'thank': True}, 'Closing'), ({'type': True, 'mani': True, 'leav': True}, 'Leaves-Type'), ({'type': True, 'leav': True}, 'Leaves-Type'), ({'type': True, 'leav': True}, 'Leaves-Type'), ({'type': True}, 'Leaves-Type'), ({'type': True, 'leav': True}, 'Leaves-Type'), ({'taken': True, 'mani': True, 'leav': True}, 'Default-Utilized-Annual-Leaves'), ({'alreadi': True, 'taken': True, 'mani': True, 'leav': True}, 'Default-Utilized-Annual-Leaves'), ({'annual': True, 'mani': True, 'leav': True}, 'Utilized-Annual-Leaves'), ({'annual': True, 'taken': True, 'mani': True, 'leav': True}, 'Utilized-Annual-Leaves'), ({'annual': True, 'alreadi': True, 'taken': True, 'mani': True, 'leav': True}, 'Utilized-Annual-Leaves'), ({'annual': True, 'count': True, 'taken': True, 'leav': True}, 'Utilized-Annual-Leaves'), ({'annual': True, 'taken': True, 'mani': True, 'leav': True}, 'Utilized-Annual-Leaves'), ({'number': True, 'annual': True, 'taken': True, 'leav': True}, 'Utilized-Annual-Leaves'), ({'annual': True, 'taken': True, 'leav': True}, 'Utilized-Annual-Leaves'), ({'number': True, 'annual': True, 'alreadi': True, 'taken': True, 'leav': True}, 'Utilized-Annual-Leaves'), ({'annual': True, 'taken': True, 'leav': True}, 'Utilized-Annual-Leaves'), ({'annual': True, 'alreadi': True, 'taken': True, 'leav': True}, 'Utilized-Annual-Leaves'), ({'number': True, 'annual': True, 'taken': True, 'leav': True}, 'Utilized-Annual-Leaves'), ({'number': True, 'annual': True, 'leav': True}, 'Utilized-Annual-Leaves'), ({'annual': True, 'leav': True, 'taken': True}, 'Utilized-Annual-Leaves'), ({'annual': True, 'leav': True}, 'Utilized-Annual-Leaves'), ({'taken': True, 'option': True, 'mani': True, 'leav': True}, 'Utilized-Optional-Leaves'), ({'option': True, 'mani': True, 'leav': True}, 'Utilized-Optional-Leaves'), ({'taken': True, 'option': True, 'leav': True}, 'Utilized-Optional-Leaves'), ({'number': True, 'taken': True, 'option': True, 'leav': True}, 'Utilized-Optional-Leaves'), ({'count': True, 'taken': True, 'option': True, 'leav': True}, 'Utilized-Optional-Leaves'), ({'number': True, 'taken': True, 'option': True, 'leav': True}, 'Utilized-Optional-Leaves'), ({'number': True, 'taken': True, 'option': True, 'leav': True}, 'Utilized-Optional-Leaves'), ({'number': True, 'taken': True, 'option': True, 'leav': True}, 'Utilized-Optional-Leaves'), ({'taken': True, 'option': True, 'mani': True, 'leav': True}, 'Utilized-Optional-Leaves'), ({'number': True, 'taken': True, 'option': True, 'leav': True}, 'Utilized-Optional-Leaves'), ({'number': True, 'alreadi': True, 'taken': True, 'option': True, 'leav': True}, 'Utilized-Optional-Leaves'), ({'taken': True, 'option': True, 'leav': True}, 'Utilized-Optional-Leaves'), ({'alreadi': True, 'taken': True, 'option': True, 'leav': True}, 'Utilized-Optional-Leaves'), ({'number': True, 'option': True, 'leav': True}, 'Utilized-Optional-Leaves'), ({'number': True, 'option': True, 'leav': True}, 'Utilized-Optional-Leaves'), ({'use': True, 'count': True, 'option': True, 'leav': True}, 'Utilized-Optional-Leaves'), ({'use': True, 'count': True, 'option': True, 'leav': True}, 'Utilized-Optional-Leaves'), ({'use': True, 'count': True, 'option': True, 'leav': True}, 'Utilized-Optional-Leaves'), ({'use': True, 'count': True, 'option': True, 'leav': True}, 'Utilized-Optional-Leaves'), ({'count': True, 'taken': True, 'option': True, 'leav': True}, 'Utilized-Optional-Leaves'), ({'count': True, 'taken': True, 'option': True, 'leav': True}, 'Utilized-Optional-Leaves'), ({'count': True, 'taken': True, 'option': True, 'leav': True}, 'Utilized-Optional-Leaves'), ({'option': True, 'mani': True, 'leav': True}, 'Utilized-Optional-Leaves'), ({'option': True, 'mani': True, 'leav': True}, 'Utilized-Optional-Leaves'), ({'number': True, 'option': True, 'leav': True}, 'Utilized-Optional-Leaves'), ({'option': True, 'leav': True}, 'Utilized-Optional-Leaves'), ({'mani': True, 'leav': True}, 'Default-Balance-Annual-Leaves'), ({'take': True, 'mani': True, 'leav': True}, 'Default-Balance-Annual-Leaves'), ({'remain': True, 'mani': True, 'leav': True}, 'Default-Balance-Annual-Leaves'), ({'remain': True, 'leav': True}, 'Default-Balance-Annual-Leaves'), ({'leav': True}, 'Default-Balance-Annual-Leaves'), ({'tell': True, 'balanc': True, 'leav': True}, 'Default-Balance-Annual-Leaves'), ({'remain': True, 'leav': True}, 'Default-Balance-Annual-Leaves'), ({'balanc': True, 'leav': True}, 'Default-Balance-Annual-Leaves'), ({'pend': True, 'leav': True}, 'Default-Balance-Annual-Leaves'), ({'annual': True, 'count': True, 'remain': True, 'leav': True}, 'Balance-Annual-Leaves'), ({'annual': True, 'mani': True, 'leav': True}, 'Balance-Annual-Leaves'), ({'annual': True, 'leav': True}, 'Balance-Annual-Leaves'), ({'annual': True, 'balanc': True, 'leav': True}, 'Balance-Annual-Leaves'), ({'annual': True, 'leav': True}, 'Balance-Annual-Leaves'), ({'annual': True, 'remain': True, 'mani': True, 'leav': True}, 'Balance-Annual-Leaves'), ({'annual': True, 'remain': True, 'leav': True}, 'Balance-Annual-Leaves'), ({'annual': True, 'remain': True, 'leav': True}, 'Balance-Annual-Leaves'), ({'annual': True, 'remain': True, 'leav': True}, 'Balance-Annual-Leaves'), ({'number': True, 'annual': True, 'remain': True, 'leav': True}, 'Balance-Annual-Leaves'), ({'number': True, 'annual': True, 'leav': True}, 'Balance-Annual-Leaves'), ({'annual': True, 'remain': True, 'leav': True}, 'Balance-Annual-Leaves'), ({'annual': True, 'count': True, 'remain': True, 'leav': True}, 'Balance-Annual-Leaves'), ({'annual': True, 'count': True, 'remain': True, 'leav': True}, 'Balance-Annual-Leaves'), ({'annual': True, 'count': True, 'remain': True, 'leav': True}, 'Balance-Annual-Leaves'), ({'annual': True, 'count': True, 'remain': True, 'leav': True}, 'Balance-Annual-Leaves'), ({'annual': True, 'balanc': True, 'leav': True}, 'Balance-Annual-Leaves'), ({'annual': True, 'balanc': True, 'leav': True}, 'Balance-Annual-Leaves'), ({'annual': True, 'leav': True}, 'Balance-Annual-Leaves'), ({'number': True, 'annual': True, 'remain': True, 'leav': True}, 'Balance-Annual-Leaves'), ({'number': True, 'annual': True, 'remain': True, 'leav': True}, 'Balance-Annual-Leaves'), ({'remain': True, 'option': True, 'mani': True, 'leav': True}, 'Balance-Optional-Leaves'), ({'remain': True, 'option': True, 'leav': True}, 'Balance-Optional-Leaves'), ({'number': True, 'remain': True, 'option': True, 'leav': True}, 'Balance-Optional-Leaves'), ({'option': True, 'mani': True, 'leav': True}, 'Balance-Optional-Leaves'), ({'option': True, 'mani': True, 'leav': True}, 'Balance-Optional-Leaves'), ({'balanc': True, 'option': True, 'leav': True}, 'Balance-Optional-Leaves'), ({'option': True, 'leav': True}, 'Balance-Optional-Leaves'), ({'take': True, 'option': True, 'mani': True, 'leav': True}, 'Balance-Optional-Leaves'), ({'take': True, 'option': True, 'leav': True}, 'Balance-Optional-Leaves'), ({'option': True, 'mani': True, 'leav': True}, 'Balance-Optional-Leaves'), ({'balanc': True, 'option': True, 'leav': True}, 'Balance-Optional-Leaves'), ({'count': True, 'remain': True, 'option': True, 'leav': True}, 'Balance-Optional-Leaves'), ({'option': True, 'leav': True}, 'Balance-Optional-Leaves'), ({'option': True, 'leav': True}, 'Balance-Optional-Leaves'), ({'balanc': True, 'option': True, 'leav': True}, 'Balance-Optional-Leaves'), ({'option': True}, 'Balance-Optional-Leaves'), ({'count': True, 'remain': True, 'option': True, 'leav': True}, 'Balance-Optional-Leaves'), ({'count': True, 'remain': True, 'option': True, 'leav': True}, 'Balance-Optional-Leaves'), ({'count': True, 'remain': True, 'option': True, 'leav': True}, 'Balance-Optional-Leaves'), ({'number': True, 'remain': True, 'option': True, 'leav': True}, 'Balance-Optional-Leaves'), ({'number': True, 'remain': True, 'option': True, 'leav': True}, 'Balance-Optional-Leaves'), ({'number': True, 'remain': True, 'option': True, 'leav': True}, 'Balance-Optional-Leaves'), ({'number': True, 'option': True, 'leav': True}, 'Balance-Optional-Leaves'), ({'number': True, 'option': True, 'leav': True}, 'Balance-Optional-Leaves'), ({'forward': True, 'carri': True, 'mani': True, 'leav': True}, 'CF'), ({'number': True, 'forward': True, 'carri': True, 'leav': True}, 'CF'), ({'tell': True, 'count': True, 'forward': True, 'carri': True, 'leav': True}, 'CF'), ({'number': True, 'forward': True, 'leav': True}, 'CF'), ({'number': True, 'forward': True, 'leav': True}, 'CF'), ({'number': True, 'forward': True, 'leav': True}, 'CF'), ({'year': True, 'forward': True, 'carri': True, 'mani': True, 'previou': True}, 'CF'), ({'tell': True, 'carri': True, 'previou': True, 'year': True, 'forward': True, 'leav': True}, 'CF'), ({'tell': True, 'forward': True, 'carri': True, 'leav': True}, 'CF'), ({'tell': True, 'forward': True, 'carri': True, 'leav': True}, 'CF'), ({'forward': True, 'leav': True}, 'CF'), ({'forward': True, 'carri': True, 'leav': True}, 'CF'), ({'forward': True, 'carri': True}, 'CF'), ({'previou': True, 'leav': True, 'forward': True, 'carri': True, 'year': True}, 'CF')]\n"
     ]
    }
   ],
   "source": [
    "# features_data = list(filter(None, features_data))\n",
    "print(features_data)"
   ]
  },
  {
   "cell_type": "code",
   "execution_count": 38,
   "metadata": {
    "collapsed": false
   },
   "outputs": [
    {
     "name": "stdout",
     "output_type": "stream",
     "text": [
      "430\n"
     ]
    },
    {
     "data": {
      "text/plain": [
       "['hello', 'hi', 'hello', 'hi', 'hi']"
      ]
     },
     "execution_count": 38,
     "metadata": {},
     "output_type": "execute_result"
    }
   ],
   "source": [
    "print(len(corpus))\n",
    "corpus[0:5]"
   ]
  },
  {
   "cell_type": "code",
   "execution_count": null,
   "metadata": {
    "collapsed": true
   },
   "outputs": [],
   "source": []
  },
  {
   "cell_type": "code",
   "execution_count": null,
   "metadata": {
    "collapsed": true
   },
   "outputs": [],
   "source": [
    "# try on 21st"
   ]
  },
  {
   "cell_type": "code",
   "execution_count": 423,
   "metadata": {
    "collapsed": true
   },
   "outputs": [],
   "source": [
    "\n"
   ]
  },
  {
   "cell_type": "code",
   "execution_count": 39,
   "metadata": {
    "collapsed": false
   },
   "outputs": [
    {
     "data": {
      "text/plain": [
       "{'count': True, 'leav': True, 'option': True, 'use': True}"
      ]
     },
     "execution_count": 39,
     "metadata": {},
     "output_type": "execute_result"
    }
   ],
   "source": [
    "word_feats(extracted_features_only[70])"
   ]
  },
  {
   "cell_type": "code",
   "execution_count": null,
   "metadata": {
    "collapsed": true
   },
   "outputs": [],
   "source": [
    "# add labels as comma separated"
   ]
  },
  {
   "cell_type": "code",
   "execution_count": 444,
   "metadata": {
    "collapsed": true
   },
   "outputs": [],
   "source": [
    "ip_features_ex = word_feats(extracted_features_only[70])"
   ]
  },
  {
   "cell_type": "code",
   "execution_count": null,
   "metadata": {
    "collapsed": true
   },
   "outputs": [],
   "source": [
    "#delete above"
   ]
  },
  {
   "cell_type": "code",
   "execution_count": null,
   "metadata": {
    "collapsed": true
   },
   "outputs": [],
   "source": [
    "#features_data is all my data. Classify this."
   ]
  },
  {
   "cell_type": "code",
   "execution_count": null,
   "metadata": {
    "collapsed": true
   },
   "outputs": [],
   "source": [
    "\n"
   ]
  },
  {
   "cell_type": "code",
   "execution_count": null,
   "metadata": {
    "collapsed": true
   },
   "outputs": [],
   "source": []
  },
  {
   "cell_type": "code",
   "execution_count": null,
   "metadata": {
    "collapsed": true
   },
   "outputs": [],
   "source": []
  },
  {
   "cell_type": "markdown",
   "metadata": {
    "collapsed": true
   },
   "source": [
    "## Bag of words"
   ]
  },
  {
   "cell_type": "code",
   "execution_count": 156,
   "metadata": {
    "collapsed": true
   },
   "outputs": [],
   "source": [
    "from sklearn.feature_extraction.text import CountVectorizer"
   ]
  },
  {
   "cell_type": "code",
   "execution_count": 157,
   "metadata": {
    "collapsed": false
   },
   "outputs": [
    {
     "data": {
      "text/plain": [
       "CountVectorizer(analyzer='word', binary=False, decode_error='strict',\n",
       "        dtype=<class 'numpy.int64'>, encoding='utf-8', input='content',\n",
       "        lowercase=True, max_df=1.0, max_features=None, min_df=1,\n",
       "        ngram_range=(1, 1), preprocessor=None, stop_words=None,\n",
       "        strip_accents=None, token_pattern='(?u)\\\\b\\\\w\\\\w+\\\\b',\n",
       "        tokenizer=None, vocabulary=None)"
      ]
     },
     "execution_count": 157,
     "metadata": {},
     "output_type": "execute_result"
    }
   ],
   "source": [
    "vectorizer = CountVectorizer(min_df=1)\n",
    "vectorizer                     "
   ]
  },
  {
   "cell_type": "code",
   "execution_count": 159,
   "metadata": {
    "collapsed": true
   },
   "outputs": [],
   "source": [
    "# Following is an example of the corpus\n",
    "# corpus = [\n",
    "# ...     'This is the first document.',\n",
    "# ...     'This is the second second document.',\n",
    "# ...     'And the third one.',\n",
    "# ...     'Is this the first document?',\n",
    "# ... ]\n",
    "# corpus"
   ]
  },
  {
   "cell_type": "code",
   "execution_count": 353,
   "metadata": {
    "collapsed": false
   },
   "outputs": [
    {
     "name": "stdout",
     "output_type": "stream",
     "text": [
      "['hello' 'hi hello' 'hi' 'hi' 'hi' 'hey' 'hello hi' 'hey' 'hey hi'\n",
      " 'hey hello' 'good morn' 'good afternoon' 'good even' 'good night' '_' '__'\n",
      " '' '' '' '' '' '' 'today' '' 'want help' 'need help' 'help' 'want help'\n",
      " 'want assist' 'help' 'name' 'tell name' 'name' 'great talk' 'great'\n",
      " 'thank help' 'thank' 'thank much' 'thank' 'thank much' 'mani type leav'\n",
      " 'type leav' 'type leav' 'type' 'leav type' 'mani leav taken'\n",
      " 'mani leav alreadi taken' 'mani annual leav' 'mani annual leav taken'\n",
      " 'mani annual leav alreadi taken' 'annual leav count taken'\n",
      " 'mani annual leav taken' 'number annual leav taken' 'annual leav taken'\n",
      " 'number annual leav alreadi taken' 'annual leav taken'\n",
      " 'annual leav alreadi taken' 'number annual leav taken'\n",
      " 'number annual leav' 'taken annual leav' 'annual leav'\n",
      " 'mani option leav taken' 'mani option leav' 'option leav taken'\n",
      " 'number option leav taken' 'option leav count taken'\n",
      " 'number option leav taken' 'number option leav taken'\n",
      " 'number option leav taken' 'mani option leav taken'\n",
      " 'number option leav taken' 'number option leav alreadi taken'\n",
      " 'option leav taken' 'option leav alreadi taken' 'number option leav'\n",
      " 'number option leav' 'option leav count use' 'option leav count use'\n",
      " 'option leav count use' 'option leav count use' 'option leav count taken'\n",
      " 'option leav count taken' 'option leav count taken' 'mani option leav'\n",
      " 'mani option leav' 'number option leav' 'option leav' 'mani leav'\n",
      " 'mani leav take' 'mani leav remain' 'remain leav' 'leav'\n",
      " 'tell leav balanc' 'remain leav' 'leav balanc' 'leav pend'\n",
      " 'annual leav count remain' 'mani annual leav' 'annual leav'\n",
      " 'annual leav balanc' 'annual leav' 'mani annual leav remain'\n",
      " 'annual leav remain' 'remain annual leav' 'annual leav remain'\n",
      " 'number annual leav remain' 'number annual leav' 'annual leav remain'\n",
      " 'annual leav count remain' 'annual leav count remain'\n",
      " 'annual leav count remain' 'annual leav count remain' 'annual leav balanc'\n",
      " 'annual leav balanc' 'annual leav' 'number annual leav remain'\n",
      " 'number annual leav remain' 'mani option leav remain' 'option leav remain'\n",
      " 'number option leav remain' 'mani option leav' 'mani option leav'\n",
      " 'option leav balanc' 'option leav' 'mani option leav take'\n",
      " 'option leav take' 'mani option leav' 'option leav balanc'\n",
      " 'option leav count remain' 'option leav' 'option leav'\n",
      " 'option leav balanc' 'option' 'option leav count remain'\n",
      " 'option leav count remain' 'option leav count remain'\n",
      " 'number option leav remain' 'number option leav remain'\n",
      " 'number option leav remain' 'number option leav' 'number option leav'\n",
      " 'mani carri forward leav' 'number carri forward leav'\n",
      " 'tell carri forward leav count' 'number forward leav'\n",
      " 'number forward leav' 'number forward leav'\n",
      " 'mani carri forward previou year' 'tell carri forward leav previou year'\n",
      " 'tell carri forward leav' 'tell carri forward leav' 'forward leav'\n",
      " 'carri forward leav' 'carri forward' 'previou year carri forward leav']\n"
     ]
    },
    {
     "data": {
      "text/plain": [
       "<155x38 sparse matrix of type '<class 'numpy.int64'>'\n",
       "\twith 431 stored elements in Compressed Sparse Row format>"
      ]
     },
     "execution_count": 353,
     "metadata": {},
     "output_type": "execute_result"
    }
   ],
   "source": [
    "print(extracted_features_only)\n",
    "X = vectorizer.fit_transform(extracted_features_only)\n",
    "X"
   ]
  },
  {
   "cell_type": "code",
   "execution_count": 354,
   "metadata": {
    "collapsed": false
   },
   "outputs": [
    {
     "data": {
      "text/plain": [
       "True"
      ]
     },
     "execution_count": 354,
     "metadata": {},
     "output_type": "execute_result"
    }
   ],
   "source": [
    "analyze = vectorizer.build_analyzer()\n",
    "analyze(\"This is a text document to analyze.\") == (['this', 'is', 'text', 'document', 'to', 'analyze'])"
   ]
  },
  {
   "cell_type": "code",
   "execution_count": 355,
   "metadata": {
    "collapsed": false
   },
   "outputs": [
    {
     "data": {
      "text/plain": [
       "['__',\n",
       " 'afternoon',\n",
       " 'alreadi',\n",
       " 'annual',\n",
       " 'assist',\n",
       " 'balanc',\n",
       " 'carri',\n",
       " 'count',\n",
       " 'even',\n",
       " 'forward',\n",
       " 'good',\n",
       " 'great',\n",
       " 'hello',\n",
       " 'help',\n",
       " 'hey',\n",
       " 'hi',\n",
       " 'leav',\n",
       " 'mani',\n",
       " 'morn',\n",
       " 'much',\n",
       " 'name',\n",
       " 'need',\n",
       " 'night',\n",
       " 'number',\n",
       " 'option',\n",
       " 'pend',\n",
       " 'previou',\n",
       " 'remain',\n",
       " 'take',\n",
       " 'taken',\n",
       " 'talk',\n",
       " 'tell',\n",
       " 'thank',\n",
       " 'today',\n",
       " 'type',\n",
       " 'use',\n",
       " 'want',\n",
       " 'year']"
      ]
     },
     "execution_count": 355,
     "metadata": {},
     "output_type": "execute_result"
    }
   ],
   "source": [
    "vectorizer.get_feature_names()"
   ]
  },
  {
   "cell_type": "code",
   "execution_count": 356,
   "metadata": {
    "collapsed": false
   },
   "outputs": [
    {
     "name": "stdout",
     "output_type": "stream",
     "text": [
      "(155, 38)\n"
     ]
    },
    {
     "data": {
      "text/plain": [
       "431"
      ]
     },
     "execution_count": 356,
     "metadata": {},
     "output_type": "execute_result"
    }
   ],
   "source": [
    "print(X.shape)\n",
    "sum(sum(X.toarray()))"
   ]
  },
  {
   "cell_type": "code",
   "execution_count": 357,
   "metadata": {
    "collapsed": false
   },
   "outputs": [
    {
     "data": {
      "text/plain": [
       "array([[0, 0, 0, 0, 0, 0, 0, 0, 0, 0, 0, 0, 0, 0, 0, 0, 1, 0, 0, 0, 0, 0,\n",
       "        0, 1, 1, 0, 0, 0, 0, 1, 0, 0, 0, 0, 0, 0, 0, 0],\n",
       "       [0, 0, 1, 0, 0, 0, 0, 0, 0, 0, 0, 0, 0, 0, 0, 0, 1, 0, 0, 0, 0, 0,\n",
       "        0, 1, 1, 0, 0, 0, 0, 1, 0, 0, 0, 0, 0, 0, 0, 0],\n",
       "       [0, 0, 0, 0, 0, 0, 0, 0, 0, 0, 0, 0, 0, 0, 0, 0, 1, 0, 0, 0, 0, 0,\n",
       "        0, 0, 1, 0, 0, 0, 0, 1, 0, 0, 0, 0, 0, 0, 0, 0],\n",
       "       [0, 0, 1, 0, 0, 0, 0, 0, 0, 0, 0, 0, 0, 0, 0, 0, 1, 0, 0, 0, 0, 0,\n",
       "        0, 0, 1, 0, 0, 0, 0, 1, 0, 0, 0, 0, 0, 0, 0, 0],\n",
       "       [0, 0, 0, 0, 0, 0, 0, 0, 0, 0, 0, 0, 0, 0, 0, 0, 1, 0, 0, 0, 0, 0,\n",
       "        0, 1, 1, 0, 0, 0, 0, 0, 0, 0, 0, 0, 0, 0, 0, 0],\n",
       "       [0, 0, 0, 0, 0, 0, 0, 0, 0, 0, 0, 0, 0, 0, 0, 0, 1, 0, 0, 0, 0, 0,\n",
       "        0, 1, 1, 0, 0, 0, 0, 0, 0, 0, 0, 0, 0, 0, 0, 0],\n",
       "       [0, 0, 0, 0, 0, 0, 0, 1, 0, 0, 0, 0, 0, 0, 0, 0, 1, 0, 0, 0, 0, 0,\n",
       "        0, 0, 1, 0, 0, 0, 0, 0, 0, 0, 0, 0, 0, 1, 0, 0],\n",
       "       [0, 0, 0, 0, 0, 0, 0, 1, 0, 0, 0, 0, 0, 0, 0, 0, 1, 0, 0, 0, 0, 0,\n",
       "        0, 0, 1, 0, 0, 0, 0, 0, 0, 0, 0, 0, 0, 1, 0, 0],\n",
       "       [0, 0, 0, 0, 0, 0, 0, 1, 0, 0, 0, 0, 0, 0, 0, 0, 1, 0, 0, 0, 0, 0,\n",
       "        0, 0, 1, 0, 0, 0, 0, 0, 0, 0, 0, 0, 0, 1, 0, 0],\n",
       "       [0, 0, 0, 0, 0, 0, 0, 1, 0, 0, 0, 0, 0, 0, 0, 0, 1, 0, 0, 0, 0, 0,\n",
       "        0, 0, 1, 0, 0, 0, 0, 0, 0, 0, 0, 0, 0, 1, 0, 0]], dtype=int64)"
      ]
     },
     "execution_count": 357,
     "metadata": {},
     "output_type": "execute_result"
    }
   ],
   "source": [
    "X.toarray()[70:80,]"
   ]
  },
  {
   "cell_type": "code",
   "execution_count": 358,
   "metadata": {
    "collapsed": false
   },
   "outputs": [
    {
     "data": {
      "text/plain": [
       "16"
      ]
     },
     "execution_count": 358,
     "metadata": {},
     "output_type": "execute_result"
    }
   ],
   "source": [
    "vectorizer.vocabulary_.get('leav')"
   ]
  },
  {
   "cell_type": "code",
   "execution_count": 359,
   "metadata": {
    "collapsed": true
   },
   "outputs": [],
   "source": [
    "# !! words that were not seen in the training corpus will be completely ignored in future calls to the transform method\n",
    "\n",
    "# To do next - try Bi-grams"
   ]
  },
  {
   "cell_type": "code",
   "execution_count": 360,
   "metadata": {
    "collapsed": false
   },
   "outputs": [
    {
     "name": "stdout",
     "output_type": "stream",
     "text": [
      "Hello. I am Dexter. I will serve your leave enquiries as of %(date)s\n"
     ]
    }
   ],
   "source": [
    "print(d[1][1])"
   ]
  },
  {
   "cell_type": "markdown",
   "metadata": {},
   "source": [
    "## Combine the bag_of_words result with the labels"
   ]
  },
  {
   "cell_type": "code",
   "execution_count": 363,
   "metadata": {
    "collapsed": false
   },
   "outputs": [],
   "source": [
    "# result = X.toarray() + d[][1]\n",
    "input_features = X.toarray()"
   ]
  },
  {
   "cell_type": "code",
   "execution_count": 362,
   "metadata": {
    "collapsed": false
   },
   "outputs": [
    {
     "name": "stdout",
     "output_type": "stream",
     "text": [
      "CPU times: user 131 µs, sys: 24 µs, total: 155 µs\n",
      "Wall time: 151 µs\n",
      "CPU times: user 6 µs, sys: 0 ns, total: 6 µs\n",
      "Wall time: 7.87 µs\n"
     ]
    }
   ],
   "source": [
    "# experiment\n",
    "# import numpy as np\n",
    "%time temp = np.array(d)\n",
    "%time a = temp[:,1]"
   ]
  },
  {
   "cell_type": "code",
   "execution_count": 361,
   "metadata": {
    "collapsed": false
   },
   "outputs": [
    {
     "name": "stdout",
     "output_type": "stream",
     "text": [
      "CPU times: user 26 µs, sys: 10 µs, total: 36 µs\n",
      "Wall time: 38.9 µs\n"
     ]
    }
   ],
   "source": [
    "# experiment\n",
    "# asd= X.toarray() + d[:,1]\n",
    "%time a = list(list(zip(*d))[1]) # zip is faster!!"
   ]
  },
  {
   "cell_type": "code",
   "execution_count": null,
   "metadata": {
    "collapsed": true
   },
   "outputs": [],
   "source": []
  },
  {
   "cell_type": "code",
   "execution_count": 375,
   "metadata": {
    "collapsed": false
   },
   "outputs": [],
   "source": [
    "# labels = np.array(list(list(zip(*d))[1]))\n",
    "# len(labels)\n",
    "labels = np.array(d)[:,1]"
   ]
  },
  {
   "cell_type": "code",
   "execution_count": 386,
   "metadata": {
    "collapsed": false
   },
   "outputs": [
    {
     "name": "stdout",
     "output_type": "stream",
     "text": [
      "[0 0 0 0 0 0 0 0 0 0 0 0 1 0 0 1 0 0 0 0 0 0 0 0 0 0 0 0 0 0 0 0 0 0 0 0 0\n",
      " 0]\n",
      "Hello. I am Dexter. I will serve your leave enquiries as of %(date)s\n",
      "<class 'numpy.ndarray'>\n",
      "<class 'str'>\n"
     ]
    }
   ],
   "source": [
    "print(input_features[1])\n",
    "print(labels[1])\n",
    "print(type(input_features[1]))\n",
    "print(type(labels[1]))"
   ]
  },
  {
   "cell_type": "code",
   "execution_count": 396,
   "metadata": {
    "collapsed": false
   },
   "outputs": [],
   "source": [
    "labels = np.reshape(labels, (len(labels),1))\n",
    "# print(labels)\n",
    "data = np.concatenate([input_features, labels], axis = 1)\n",
    "# input_features[1].shape\n",
    "# [labels[1]].shape"
   ]
  },
  {
   "cell_type": "code",
   "execution_count": 422,
   "metadata": {
    "collapsed": false
   },
   "outputs": [
    {
     "name": "stdout",
     "output_type": "stream",
     "text": [
      "39\n"
     ]
    }
   ],
   "source": [
    "print(len(data[1]))"
   ]
  },
  {
   "cell_type": "code",
   "execution_count": null,
   "metadata": {
    "collapsed": true
   },
   "outputs": [],
   "source": []
  },
  {
   "cell_type": "code",
   "execution_count": null,
   "metadata": {
    "collapsed": true
   },
   "outputs": [],
   "source": []
  },
  {
   "cell_type": "code",
   "execution_count": null,
   "metadata": {
    "collapsed": true
   },
   "outputs": [],
   "source": []
  },
  {
   "cell_type": "code",
   "execution_count": 40,
   "metadata": {
    "collapsed": true
   },
   "outputs": [],
   "source": [
    "## split data into train and test sets\n",
    "split_ratio = 0.8\n"
   ]
  },
  {
   "cell_type": "code",
   "execution_count": 41,
   "metadata": {
    "collapsed": true
   },
   "outputs": [],
   "source": [
    "def split_dataset(data, split_ratio):\n",
    "    random.shuffle(data)\n",
    "    data_length = len(data)\n",
    "    train_split = int(data_length * split_ratio)\n",
    "    return (data[:train_split]), (data[train_split:])"
   ]
  },
  {
   "cell_type": "code",
   "execution_count": 42,
   "metadata": {
    "collapsed": false
   },
   "outputs": [],
   "source": [
    "training_data, test_data = split_dataset(features_data, split_ratio)"
   ]
  },
  {
   "cell_type": "code",
   "execution_count": 43,
   "metadata": {
    "collapsed": true
   },
   "outputs": [],
   "source": [
    "from nltk.classify import SklearnClassifier"
   ]
  },
  {
   "cell_type": "code",
   "execution_count": 44,
   "metadata": {
    "collapsed": false
   },
   "outputs": [],
   "source": [
    "import nltk\n",
    "def train_using_decision_tree(training_data, test_data):\n",
    "    # entropy_cutoff=0.1,support_cutoff=0.7 gives awesome results\n",
    "    classifier = nltk.classify.DecisionTreeClassifier.train(training_data, verbose = True)\n",
    "#     print(classifier)\n",
    "#     print(classifier.pretty_format(width=70, prefix='', depth=4))\n",
    "    classifier_name = type(classifier).__name__\n",
    "    training_set_accuracy = nltk.classify.accuracy(classifier, training_data)\n",
    "    test_set_accuracy = nltk.classify.accuracy(classifier, test_data)\n",
    "    return classifier, classifier_name, test_set_accuracy, training_set_accuracy"
   ]
  },
  {
   "cell_type": "code",
   "execution_count": 55,
   "metadata": {
    "collapsed": false
   },
   "outputs": [
    {
     "name": "stdout",
     "output_type": "stream",
     "text": [
      "best stump for    119 toks uses annual               err=0.6891\n",
      "best stump for     29 toks uses taken                err=0.1034\n",
      "best stump for     20 toks uses None                 err=0.1500\n",
      "best stump for     90 toks uses taken                err=0.6444\n",
      "best stump for     14 toks uses option               err=0.0000\n",
      "best stump for     76 toks uses option               err=0.5921\n",
      "best stump for     26 toks uses use                  err=0.1538\n",
      "best stump for     24 toks uses None                 err=0.1667\n",
      "best stump for     50 toks uses forward              err=0.5800\n",
      "best stump for     39 toks uses leav                 err=0.5128\n",
      "best stump for     12 toks uses type                 err=0.0000\n",
      "best stump for     27 toks uses thank                err=0.4444\n",
      "best stump for     22 toks uses name                 err=0.4091\n",
      "best stump for     19 toks uses great                err=0.3684\n",
      "best stump for     17 toks uses night                err=0.3529\n",
      "best stump for     16 toks uses help                 err=0.3125\n",
      "best stump for     15 toks uses today                err=0.2667\n",
      "best stump for     14 toks uses good                 err=0.2143\n",
      "best stump for      2 toks uses even                 err=0.0000\n",
      "best stump for     12 toks uses want                 err=0.0833\n",
      "best stump for     11 toks uses None                 err=0.0909\n"
     ]
    }
   ],
   "source": [
    "classifier, classifier_name, test_set_accuracy, training_set_accuracy = train_using_decision_tree(training_data, test_data)"
   ]
  },
  {
   "cell_type": "code",
   "execution_count": 56,
   "metadata": {
    "collapsed": false
   },
   "outputs": [
    {
     "data": {
      "text/plain": [
       "0.9327731092436975"
      ]
     },
     "execution_count": 56,
     "metadata": {},
     "output_type": "execute_result"
    }
   ],
   "source": [
    "training_set_accuracy"
   ]
  },
  {
   "cell_type": "code",
   "execution_count": 57,
   "metadata": {
    "collapsed": false
   },
   "outputs": [
    {
     "data": {
      "text/plain": [
       "0.7"
      ]
     },
     "execution_count": 57,
     "metadata": {},
     "output_type": "execute_result"
    }
   ],
   "source": [
    "test_set_accuracy"
   ]
  },
  {
   "cell_type": "code",
   "execution_count": 58,
   "metadata": {
    "collapsed": false
   },
   "outputs": [
    {
     "ename": "TypeError",
     "evalue": "unorderable types: NoneType() < bool()",
     "output_type": "error",
     "traceback": [
      "\u001b[0;31m---------------------------------------------------------------------------\u001b[0m",
      "\u001b[0;31mTypeError\u001b[0m                                 Traceback (most recent call last)",
      "\u001b[0;32m<ipython-input-58-dc64618292e3>\u001b[0m in \u001b[0;36m<module>\u001b[0;34m()\u001b[0m\n\u001b[0;32m----> 1\u001b[0;31m \u001b[0mclassifier\u001b[0m\u001b[0;34m.\u001b[0m\u001b[0mpretty_format\u001b[0m\u001b[0;34m(\u001b[0m\u001b[0;34m)\u001b[0m\u001b[0;34m\u001b[0m\u001b[0m\n\u001b[0m",
      "\u001b[0;32m/Library/Frameworks/Python.framework/Versions/3.5/lib/python3.5/site-packages/nltk/classify/decisiontree.py\u001b[0m in \u001b[0;36mpretty_format\u001b[0;34m(self, width, prefix, depth)\u001b[0m\n\u001b[1;32m     84\u001b[0m             \u001b[0;32mreturn\u001b[0m \u001b[0;34m'%s%s %s\\n'\u001b[0m \u001b[0;34m%\u001b[0m \u001b[0;34m(\u001b[0m\u001b[0mprefix\u001b[0m\u001b[0;34m,\u001b[0m \u001b[0;34m'.'\u001b[0m\u001b[0;34m*\u001b[0m\u001b[0mn\u001b[0m\u001b[0;34m,\u001b[0m \u001b[0mself\u001b[0m\u001b[0;34m.\u001b[0m\u001b[0m_label\u001b[0m\u001b[0;34m)\u001b[0m\u001b[0;34m\u001b[0m\u001b[0m\n\u001b[1;32m     85\u001b[0m         \u001b[0ms\u001b[0m \u001b[0;34m=\u001b[0m \u001b[0;34m''\u001b[0m\u001b[0;34m\u001b[0m\u001b[0m\n\u001b[0;32m---> 86\u001b[0;31m         \u001b[0;32mfor\u001b[0m \u001b[0mi\u001b[0m\u001b[0;34m,\u001b[0m \u001b[0;34m(\u001b[0m\u001b[0mfval\u001b[0m\u001b[0;34m,\u001b[0m \u001b[0mresult\u001b[0m\u001b[0;34m)\u001b[0m \u001b[0;32min\u001b[0m \u001b[0menumerate\u001b[0m\u001b[0;34m(\u001b[0m\u001b[0msorted\u001b[0m\u001b[0;34m(\u001b[0m\u001b[0mself\u001b[0m\u001b[0;34m.\u001b[0m\u001b[0m_decisions\u001b[0m\u001b[0;34m.\u001b[0m\u001b[0mitems\u001b[0m\u001b[0;34m(\u001b[0m\u001b[0;34m)\u001b[0m\u001b[0;34m)\u001b[0m\u001b[0;34m)\u001b[0m\u001b[0;34m:\u001b[0m\u001b[0;34m\u001b[0m\u001b[0m\n\u001b[0m\u001b[1;32m     87\u001b[0m             \u001b[0mhdr\u001b[0m \u001b[0;34m=\u001b[0m \u001b[0;34m'%s%s=%s? '\u001b[0m \u001b[0;34m%\u001b[0m \u001b[0;34m(\u001b[0m\u001b[0mprefix\u001b[0m\u001b[0;34m,\u001b[0m \u001b[0mself\u001b[0m\u001b[0;34m.\u001b[0m\u001b[0m_fname\u001b[0m\u001b[0;34m,\u001b[0m \u001b[0mfval\u001b[0m\u001b[0;34m)\u001b[0m\u001b[0;34m\u001b[0m\u001b[0m\n\u001b[1;32m     88\u001b[0m             \u001b[0mn\u001b[0m \u001b[0;34m=\u001b[0m \u001b[0mwidth\u001b[0m\u001b[0;34m-\u001b[0m\u001b[0;36m15\u001b[0m\u001b[0;34m-\u001b[0m\u001b[0mlen\u001b[0m\u001b[0;34m(\u001b[0m\u001b[0mhdr\u001b[0m\u001b[0;34m)\u001b[0m\u001b[0;34m\u001b[0m\u001b[0m\n",
      "\u001b[0;31mTypeError\u001b[0m: unorderable types: NoneType() < bool()"
     ]
    }
   ],
   "source": [
    "classifier.pretty_format()"
   ]
  },
  {
   "cell_type": "code",
   "execution_count": 417,
   "metadata": {
    "collapsed": true
   },
   "outputs": [],
   "source": [
    "??nltk.classify.DecisionTreeClassifier.train"
   ]
  },
  {
   "cell_type": "code",
   "execution_count": 460,
   "metadata": {
    "collapsed": false
   },
   "outputs": [
    {
     "ename": "TypeError",
     "evalue": "unorderable types: NoneType() < bool()",
     "output_type": "error",
     "traceback": [
      "\u001b[0;31m---------------------------------------------------------------------------\u001b[0m",
      "\u001b[0;31mTypeError\u001b[0m                                 Traceback (most recent call last)",
      "\u001b[0;32m<ipython-input-460-40ebd0614fb4>\u001b[0m in \u001b[0;36m<module>\u001b[0;34m()\u001b[0m\n\u001b[0;32m----> 1\u001b[0;31m \u001b[0mclassifier\u001b[0m\u001b[0;34m.\u001b[0m\u001b[0mpseudocode\u001b[0m\u001b[0;34m(\u001b[0m\u001b[0mprefix\u001b[0m\u001b[0;34m=\u001b[0m\u001b[0;34m''\u001b[0m\u001b[0;34m,\u001b[0m \u001b[0mdepth\u001b[0m\u001b[0;34m=\u001b[0m\u001b[0;36m4\u001b[0m\u001b[0;34m)\u001b[0m\u001b[0;34m\u001b[0m\u001b[0m\n\u001b[0m",
      "\u001b[0;32m/Library/Frameworks/Python.framework/Versions/3.5/lib/python3.5/site-packages/nltk/classify/decisiontree.py\u001b[0m in \u001b[0;36mpseudocode\u001b[0;34m(self, prefix, depth)\u001b[0m\n\u001b[1;32m    106\u001b[0m             \u001b[0;32mreturn\u001b[0m \u001b[0;34m\"%sreturn %r\\n\"\u001b[0m \u001b[0;34m%\u001b[0m \u001b[0;34m(\u001b[0m\u001b[0mprefix\u001b[0m\u001b[0;34m,\u001b[0m \u001b[0mself\u001b[0m\u001b[0;34m.\u001b[0m\u001b[0m_label\u001b[0m\u001b[0;34m)\u001b[0m\u001b[0;34m\u001b[0m\u001b[0m\n\u001b[1;32m    107\u001b[0m         \u001b[0ms\u001b[0m \u001b[0;34m=\u001b[0m \u001b[0;34m''\u001b[0m\u001b[0;34m\u001b[0m\u001b[0m\n\u001b[0;32m--> 108\u001b[0;31m         \u001b[0;32mfor\u001b[0m \u001b[0;34m(\u001b[0m\u001b[0mfval\u001b[0m\u001b[0;34m,\u001b[0m \u001b[0mresult\u001b[0m\u001b[0;34m)\u001b[0m \u001b[0;32min\u001b[0m \u001b[0msorted\u001b[0m\u001b[0;34m(\u001b[0m\u001b[0mself\u001b[0m\u001b[0;34m.\u001b[0m\u001b[0m_decisions\u001b[0m\u001b[0;34m.\u001b[0m\u001b[0mitems\u001b[0m\u001b[0;34m(\u001b[0m\u001b[0;34m)\u001b[0m\u001b[0;34m)\u001b[0m\u001b[0;34m:\u001b[0m\u001b[0;34m\u001b[0m\u001b[0m\n\u001b[0m\u001b[1;32m    109\u001b[0m             \u001b[0ms\u001b[0m \u001b[0;34m+=\u001b[0m \u001b[0;34m'%sif %s == %r: '\u001b[0m \u001b[0;34m%\u001b[0m \u001b[0;34m(\u001b[0m\u001b[0mprefix\u001b[0m\u001b[0;34m,\u001b[0m \u001b[0mself\u001b[0m\u001b[0;34m.\u001b[0m\u001b[0m_fname\u001b[0m\u001b[0;34m,\u001b[0m \u001b[0mfval\u001b[0m\u001b[0;34m)\u001b[0m\u001b[0;34m\u001b[0m\u001b[0m\n\u001b[1;32m    110\u001b[0m             \u001b[0;32mif\u001b[0m \u001b[0mresult\u001b[0m\u001b[0;34m.\u001b[0m\u001b[0m_fname\u001b[0m \u001b[0;32mis\u001b[0m \u001b[0;32mnot\u001b[0m \u001b[0;32mNone\u001b[0m \u001b[0;32mand\u001b[0m \u001b[0mdepth\u001b[0m\u001b[0;34m>\u001b[0m\u001b[0;36m1\u001b[0m\u001b[0;34m:\u001b[0m\u001b[0;34m\u001b[0m\u001b[0m\n",
      "\u001b[0;31mTypeError\u001b[0m: unorderable types: NoneType() < bool()"
     ]
    }
   ],
   "source": [
    "classifier."
   ]
  },
  {
   "cell_type": "code",
   "execution_count": null,
   "metadata": {
    "collapsed": true
   },
   "outputs": [],
   "source": []
  },
  {
   "cell_type": "code",
   "execution_count": 49,
   "metadata": {
    "collapsed": true
   },
   "outputs": [],
   "source": [
    "def train_using_naive_bayes(training_data, test_data):\n",
    "    classifier = nltk.NaiveBayesClassifier.train(training_data)\n",
    "    classifier_name = type(classifier).__name__\n",
    "    training_set_accuracy = nltk.classify.accuracy(classifier, training_data)\n",
    "    test_set_accuracy = nltk.classify.accuracy(classifier, test_data)\n",
    "    return classifier, classifier_name, test_set_accuracy, training_set_accuracy"
   ]
  },
  {
   "cell_type": "code",
   "execution_count": 50,
   "metadata": {
    "collapsed": false
   },
   "outputs": [
    {
     "name": "stdout",
     "output_type": "stream",
     "text": [
      "0.865546218487395\n",
      "0.7\n",
      "70\n",
      "Most Informative Features\n",
      "                    leav = None           Greeti : Balanc =     13.4 : 1.0\n",
      "                    mani = True           Defaul : CF     =      6.7 : 1.0\n",
      "                    help = True             Help : Closin =      4.0 : 1.0\n",
      "                 alreadi = True           Defaul : Utiliz =      3.8 : 1.0\n",
      "                   taken = None           Balanc : Utiliz =      3.6 : 1.0\n",
      "                   thank = None           Balanc : Closin =      3.1 : 1.0\n",
      "                  remain = None           Utiliz : Balanc =      2.7 : 1.0\n",
      "                   carri = None           Balanc : CF     =      2.6 : 1.0\n",
      "                    tell = True              KYC : Defaul =      2.5 : 1.0\n",
      "                   count = True           Utiliz : Balanc =      2.4 : 1.0\n"
     ]
    }
   ],
   "source": [
    "classifier, classifier_name, test_set_accuracy, training_set_accuracy = train_using_naive_bayes(training_data, test_data)\n",
    "print(training_set_accuracy)\n",
    "print(test_set_accuracy)\n",
    "print(len(classifier.most_informative_features()))\n",
    "classifier.show_most_informative_features()"
   ]
  },
  {
   "cell_type": "code",
   "execution_count": null,
   "metadata": {
    "collapsed": true
   },
   "outputs": [],
   "source": []
  }
 ],
 "metadata": {
  "kernelspec": {
   "display_name": "Python 3",
   "language": "python",
   "name": "python3"
  },
  "language_info": {
   "codemirror_mode": {
    "name": "ipython",
    "version": 3
   },
   "file_extension": ".py",
   "mimetype": "text/x-python",
   "name": "python",
   "nbconvert_exporter": "python",
   "pygments_lexer": "ipython3",
   "version": "3.5.1"
  }
 },
 "nbformat": 4,
 "nbformat_minor": 1
}
