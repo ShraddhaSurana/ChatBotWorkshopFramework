{
 "cells": [
  {
   "cell_type": "markdown",
   "metadata": {},
   "source": [
    "# Building a chat bot"
   ]
  },
  {
   "cell_type": "markdown",
   "metadata": {
    "collapsed": false
   },
   "source": [
    "## Will have to do :\n",
    "install python;\n",
    "install jupyter notebook\n",
    "do pip install on alot of things!"
   ]
  },
  {
   "cell_type": "code",
   "execution_count": 7,
   "metadata": {
    "collapsed": false
   },
   "outputs": [],
   "source": [
    "## Import stuff\n",
    "import nltk, re, pprint\n",
    "import sys\n",
    "import os\n",
    "import csv\n",
    "import argparse\n",
    "from nltk.stem.snowball import SnowballStemmer\n",
    "import random\n",
    "from nltk.classify import SklearnClassifier\n",
    "from sklearn.naive_bayes import BernoulliNB\n",
    "from sklearn.svm import SVC\n",
    "from nltk.tokenize import RegexpTokenizer\n",
    "from nltk.corpus import stopwords"
   ]
  },
  {
   "cell_type": "code",
   "execution_count": 77,
   "metadata": {
    "collapsed": false
   },
   "outputs": [],
   "source": [
    "file = 'leaves.txt'\n",
    "\n",
    "# leaves_data = "
   ]
  },
  {
   "cell_type": "code",
   "execution_count": 9,
   "metadata": {
    "collapsed": true
   },
   "outputs": [],
   "source": [
    "## Stem words\n",
    "stemmer = SnowballStemmer(\"english\")"
   ]
  },
  {
   "cell_type": "markdown",
   "metadata": {},
   "source": [
    "## Get contents from file."
   ]
  },
  {
   "cell_type": "code",
   "execution_count": 11,
   "metadata": {
    "collapsed": true
   },
   "outputs": [],
   "source": [
    "def get_content(filename):\n",
    "    test_doc = os.path.join(filename)\n",
    "    with open(test_doc, 'r') as content_file:\n",
    "        lines = csv.reader(content_file,delimiter='|')\n",
    "        res = [x for x in lines if len(x) == 3]\n",
    "        return res"
   ]
  },
  {
   "cell_type": "code",
   "execution_count": 12,
   "metadata": {
    "collapsed": false
   },
   "outputs": [],
   "source": [
    "data = get_content(file_to_train)"
   ]
  },
  {
   "cell_type": "code",
   "execution_count": 13,
   "metadata": {
    "collapsed": false
   },
   "outputs": [
    {
     "data": {
      "text/plain": [
       "'Greetings'"
      ]
     },
     "execution_count": 13,
     "metadata": {},
     "output_type": "execute_result"
    }
   ],
   "source": [
    "#This data is a list\n",
    "data[1]\n",
    "data[1][1]"
   ]
  },
  {
   "cell_type": "markdown",
   "metadata": {},
   "source": [
    "## Preprocess"
   ]
  },
  {
   "cell_type": "code",
   "execution_count": 14,
   "metadata": {
    "collapsed": true
   },
   "outputs": [],
   "source": [
    "sentence = \"The big brown fox jumped over a lazy dog.\"\n",
    "sentence2 = \"Buffalo buffalo Buffalo buffalo buffalo buffalo Buffalo buffalo\""
   ]
  },
  {
   "cell_type": "code",
   "execution_count": 15,
   "metadata": {
    "collapsed": false
   },
   "outputs": [
    {
     "name": "stdout",
     "output_type": "stream",
     "text": [
      "abcdefgh\n"
     ]
    },
    {
     "data": {
      "text/plain": [
       "'the big brown fox jumped over a lazy dog.'"
      ]
     },
     "execution_count": 15,
     "metadata": {},
     "output_type": "execute_result"
    }
   ],
   "source": [
    "#convert sentence to lower case\n",
    "'This' == 'this'\n",
    "print('AbcdEFgH'.lower())\n",
    "sentence.lower()"
   ]
  },
  {
   "cell_type": "code",
   "execution_count": 16,
   "metadata": {
    "collapsed": false
   },
   "outputs": [
    {
     "data": {
      "text/plain": [
       "['The', 'big', 'brown', 'fox', 'jumped', 'over', 'a', 'lazy', 'dog']"
      ]
     },
     "execution_count": 16,
     "metadata": {},
     "output_type": "execute_result"
    }
   ],
   "source": [
    "# extract individual words\n",
    "tokenizer = RegexpTokenizer(r'\\w+')\n",
    "tokens = tokenizer.tokenize(sentence)\n",
    "tokens"
   ]
  },
  {
   "cell_type": "code",
   "execution_count": 17,
   "metadata": {
    "collapsed": false
   },
   "outputs": [
    {
     "data": {
      "text/plain": [
       "['The', 'big', 'brown', 'fox', 'jumped', 'lazy', 'dog']"
      ]
     },
     "execution_count": 17,
     "metadata": {},
     "output_type": "execute_result"
    }
   ],
   "source": [
    "filtered_words = [w for w in tokens if not w in stopwords.words('english')]\n",
    "filtered_words"
   ]
  },
  {
   "cell_type": "code",
   "execution_count": 18,
   "metadata": {
    "collapsed": true
   },
   "outputs": [],
   "source": [
    "  def preprocess(sentence):\n",
    "    sentence = sentence.lower()\n",
    "    tokenizer = RegexpTokenizer(r'\\w+')\n",
    "    tokens = tokenizer.tokenize(sentence)\n",
    "    filtered_words = [w for w in tokens if not w in stopwords.words('english')]\n",
    "    return filtered_words"
   ]
  },
  {
   "cell_type": "code",
   "execution_count": 36,
   "metadata": {
    "collapsed": false
   },
   "outputs": [
    {
     "name": "stdout",
     "output_type": "stream",
     "text": [
      "['big', 'brown', 'fox', 'jumped', 'lazy', 'dog']\n"
     ]
    }
   ],
   "source": [
    "preprocessed_sentence = preprocess(sentence)\n",
    "print(preprocessed_sentence)"
   ]
  },
  {
   "cell_type": "markdown",
   "metadata": {},
   "source": [
    "## Tagging"
   ]
  },
  {
   "cell_type": "code",
   "execution_count": 65,
   "metadata": {
    "collapsed": false
   },
   "outputs": [
    {
     "name": "stdout",
     "output_type": "stream",
     "text": [
      "[('big', 'JJ'), ('brown', 'NN'), ('fox', 'NN'), ('jumped', 'VBD'), ('lazy', 'JJ'), ('dog', 'NN')]\n"
     ]
    }
   ],
   "source": [
    "tags = nltk.pos_tag(preprocessed_sentence)\n",
    "print(tags)"
   ]
  },
  {
   "cell_type": "markdown",
   "metadata": {},
   "source": [
    "## Extracting only Nouns and Verb nouns"
   ]
  },
  {
   "cell_type": "code",
   "execution_count": 108,
   "metadata": {
    "collapsed": false
   },
   "outputs": [],
   "source": [
    "def extract_features(sentences):\n",
    "    features = []\n",
    "    for tagged_word in sentences:\n",
    "        word, tag = tagged_word\n",
    "        if tag=='NN' or tag == 'VBN' or tag == 'NNS' or tag == 'VBP' or tag == 'RB' or tag == 'VBZ' or tag == 'VBG' or tag =='PRP' or tag == 'JJ':\n",
    "            features.append(word)\n",
    "    return features"
   ]
  },
  {
   "cell_type": "code",
   "execution_count": 109,
   "metadata": {
    "collapsed": false
   },
   "outputs": [
    {
     "data": {
      "text/plain": [
       "['big', 'brown', 'fox', 'lazy', 'dog']"
      ]
     },
     "execution_count": 109,
     "metadata": {},
     "output_type": "execute_result"
    }
   ],
   "source": [
    "extract_features(tags)"
   ]
  },
  {
   "cell_type": "code",
   "execution_count": null,
   "metadata": {
    "collapsed": true
   },
   "outputs": [],
   "source": []
  },
  {
   "cell_type": "markdown",
   "metadata": {
    "collapsed": true
   },
   "source": [
    "## Lemmatize words"
   ]
  },
  {
   "cell_type": "code",
   "execution_count": 24,
   "metadata": {
    "collapsed": false
   },
   "outputs": [
    {
     "data": {
      "text/plain": [
       "'cactus'"
      ]
     },
     "execution_count": 24,
     "metadata": {},
     "output_type": "execute_result"
    }
   ],
   "source": [
    "from nltk.stem.wordnet import WordNetLemmatizer\n",
    "lmtzr = WordNetLemmatizer()\n",
    "lmtzr.lemmatize('cacti')"
   ]
  },
  {
   "cell_type": "code",
   "execution_count": 25,
   "metadata": {
    "collapsed": false
   },
   "outputs": [
    {
     "data": {
      "text/plain": [
       "'willing'"
      ]
     },
     "execution_count": 25,
     "metadata": {},
     "output_type": "execute_result"
    }
   ],
   "source": [
    "lmtzr.lemmatize('willing')"
   ]
  },
  {
   "cell_type": "code",
   "execution_count": 26,
   "metadata": {
    "collapsed": false
   },
   "outputs": [
    {
     "data": {
      "text/plain": [
       "'foot'"
      ]
     },
     "execution_count": 26,
     "metadata": {},
     "output_type": "execute_result"
    }
   ],
   "source": [
    "lmtzr.lemmatize('feet')"
   ]
  },
  {
   "cell_type": "code",
   "execution_count": 33,
   "metadata": {
    "collapsed": false
   },
   "outputs": [
    {
     "data": {
      "text/plain": [
       "'stemmed'"
      ]
     },
     "execution_count": 33,
     "metadata": {},
     "output_type": "execute_result"
    }
   ],
   "source": [
    "lmtzr.lemmatize('stemmed')"
   ]
  },
  {
   "cell_type": "code",
   "execution_count": null,
   "metadata": {
    "collapsed": true
   },
   "outputs": [],
   "source": []
  },
  {
   "cell_type": "code",
   "execution_count": null,
   "metadata": {
    "collapsed": true
   },
   "outputs": [],
   "source": []
  },
  {
   "cell_type": "markdown",
   "metadata": {},
   "source": [
    "## Stem words"
   ]
  },
  {
   "cell_type": "code",
   "execution_count": 27,
   "metadata": {
    "collapsed": true
   },
   "outputs": [],
   "source": [
    "words_for_stemming = ['stem', 'stemming', 'stemmed', 'stemmer', 'stems','feet','willing']"
   ]
  },
  {
   "cell_type": "code",
   "execution_count": 28,
   "metadata": {
    "collapsed": false
   },
   "outputs": [
    {
     "data": {
      "text/plain": [
       "['stem', 'stem', 'stem', 'stemmer', 'stem', 'feet', 'will']"
      ]
     },
     "execution_count": 28,
     "metadata": {},
     "output_type": "execute_result"
    }
   ],
   "source": [
    "[stemmer.stem(x) for x in words_for_stemming]"
   ]
  },
  {
   "cell_type": "code",
   "execution_count": 29,
   "metadata": {
    "collapsed": true
   },
   "outputs": [],
   "source": [
    "#using porter stemmer\n",
    "from nltk.stem.porter import PorterStemmer"
   ]
  },
  {
   "cell_type": "code",
   "execution_count": 30,
   "metadata": {
    "collapsed": false
   },
   "outputs": [
    {
     "data": {
      "text/plain": [
       "['stem', 'stem', 'stem', 'stemmer', 'stem', 'feet', 'will']"
      ]
     },
     "execution_count": 30,
     "metadata": {},
     "output_type": "execute_result"
    }
   ],
   "source": [
    "stemmer = PorterStemmer()\n",
    "[stemmer.stem(x) for x in words_for_stemming]"
   ]
  },
  {
   "cell_type": "code",
   "execution_count": null,
   "metadata": {
    "collapsed": false
   },
   "outputs": [],
   "source": []
  },
  {
   "cell_type": "code",
   "execution_count": null,
   "metadata": {
    "collapsed": true
   },
   "outputs": [],
   "source": []
  },
  {
   "cell_type": "code",
   "execution_count": null,
   "metadata": {
    "collapsed": true
   },
   "outputs": [],
   "source": []
  },
  {
   "cell_type": "code",
   "execution_count": 48,
   "metadata": {
    "collapsed": true
   },
   "outputs": [],
   "source": [
    "# def get_feature_set(sent_keys):\n",
    "#     return {'keywords': ' '.join(sent_keys)}"
   ]
  },
  {
   "cell_type": "markdown",
   "metadata": {},
   "source": [
    "## Putting it all together\n",
    "Extracting features from one sentence"
   ]
  },
  {
   "cell_type": "code",
   "execution_count": 339,
   "metadata": {
    "collapsed": true
   },
   "outputs": [],
   "source": [
    "def extract_feature(text):\n",
    "    words = preprocess(text)\n",
    "#     print('words: ',words)\n",
    "    tags = nltk.pos_tag(words)\n",
    "#     print('tags: ',tags)\n",
    "    extracted_features = extract_features(tags)#rename to extract keys based on tags\n",
    "#     print('Extracted features: ',extracted_features)\n",
    "    stemmed_words = [stemmer.stem(x) for x in extracted_features]\n",
    "#     print(stemmed_words)\n",
    "    # join with space\n",
    "#     return (\" \".join(stemmed_words))\n",
    "    return stemmed_words"
   ]
  },
  {
   "cell_type": "code",
   "execution_count": 464,
   "metadata": {
    "collapsed": false
   },
   "outputs": [
    {
     "data": {
      "text/plain": [
       "[]"
      ]
     },
     "execution_count": 464,
     "metadata": {},
     "output_type": "execute_result"
    }
   ],
   "source": [
    "extract_feature('a')"
   ]
  },
  {
   "cell_type": "code",
   "execution_count": null,
   "metadata": {
    "collapsed": true
   },
   "outputs": [],
   "source": []
  },
  {
   "cell_type": "markdown",
   "metadata": {
    "collapsed": true
   },
   "source": [
    "## Parsing the whole document"
   ]
  },
  {
   "cell_type": "code",
   "execution_count": 563,
   "metadata": {
    "collapsed": false
   },
   "outputs": [],
   "source": [
    "def extract_feature_from_doc(data):\n",
    "    result = []\n",
    "    corpus = []\n",
    "    for (text,category,answer) in data:\n",
    "#         corpus.append(text)\n",
    "#         print(corpus)\n",
    "        features = extract_feature(text)\n",
    "        if len(features) != 0:\n",
    "            corpus.append(features)\n",
    "            result.append((word_feats(features), category))\n",
    "#         result.append((\" \".join(features), answer))\n",
    "    return (result, sum(corpus,[]))"
   ]
  },
  {
   "cell_type": "code",
   "execution_count": 560,
   "metadata": {
    "collapsed": true
   },
   "outputs": [],
   "source": [
    "def get_content(filename):\n",
    "    doc = os.path.join(filename)\n",
    "    with open(doc, 'r') as content_file:\n",
    "        lines = csv.reader(content_file,delimiter='|')\n",
    "        data = [x for x in lines if len(x) == 3]\n",
    "        return data"
   ]
  },
  {
   "cell_type": "code",
   "execution_count": 561,
   "metadata": {
    "collapsed": false
   },
   "outputs": [],
   "source": [
    "data = get_content(file)"
   ]
  },
  {
   "cell_type": "code",
   "execution_count": 565,
   "metadata": {
    "collapsed": false
   },
   "outputs": [
    {
     "name": "stdout",
     "output_type": "stream",
     "text": [
      "1\n",
      "2\n",
      "1\n",
      "1\n",
      "1\n",
      "1\n",
      "2\n",
      "1\n",
      "2\n",
      "2\n",
      "2\n",
      "2\n",
      "2\n",
      "2\n",
      "1\n",
      "1\n",
      "0\n",
      "0\n",
      "0\n",
      "0\n",
      "0\n",
      "0\n",
      "1\n",
      "0\n",
      "2\n",
      "2\n",
      "1\n",
      "2\n",
      "2\n",
      "1\n",
      "1\n",
      "2\n",
      "1\n",
      "2\n",
      "1\n",
      "2\n",
      "1\n",
      "2\n",
      "1\n",
      "2\n",
      "3\n",
      "2\n",
      "2\n",
      "1\n",
      "2\n",
      "3\n",
      "4\n",
      "3\n",
      "4\n",
      "5\n",
      "4\n",
      "4\n",
      "4\n",
      "3\n",
      "5\n",
      "3\n",
      "4\n",
      "4\n",
      "3\n",
      "3\n",
      "2\n",
      "4\n",
      "3\n",
      "3\n",
      "4\n",
      "4\n",
      "4\n",
      "4\n",
      "4\n",
      "4\n",
      "4\n",
      "5\n",
      "3\n",
      "4\n",
      "3\n",
      "3\n",
      "4\n",
      "4\n",
      "4\n",
      "4\n",
      "4\n",
      "4\n",
      "4\n",
      "3\n",
      "3\n",
      "3\n",
      "2\n",
      "2\n",
      "3\n",
      "3\n",
      "2\n",
      "1\n",
      "3\n",
      "2\n",
      "2\n",
      "2\n",
      "4\n",
      "3\n",
      "2\n",
      "3\n",
      "2\n",
      "4\n",
      "3\n",
      "3\n",
      "3\n",
      "4\n",
      "3\n",
      "3\n",
      "4\n",
      "4\n",
      "4\n",
      "4\n",
      "3\n",
      "3\n",
      "2\n",
      "4\n",
      "4\n",
      "4\n",
      "3\n",
      "4\n",
      "3\n",
      "3\n",
      "3\n",
      "2\n",
      "4\n",
      "3\n",
      "3\n",
      "3\n",
      "4\n",
      "2\n",
      "2\n",
      "3\n",
      "1\n",
      "4\n",
      "4\n",
      "4\n",
      "4\n",
      "4\n",
      "4\n",
      "3\n",
      "3\n",
      "4\n",
      "4\n",
      "5\n",
      "3\n",
      "3\n",
      "3\n",
      "5\n",
      "6\n",
      "4\n",
      "4\n",
      "2\n",
      "3\n",
      "2\n",
      "5\n"
     ]
    }
   ],
   "source": [
    "features_data, corpus = extract_feature_from_doc(data)"
   ]
  },
  {
   "cell_type": "code",
   "execution_count": 566,
   "metadata": {
    "collapsed": false
   },
   "outputs": [
    {
     "name": "stdout",
     "output_type": "stream",
     "text": [
      "[({'hello': True}, 'Greetings'), ({'hi': True, 'hello': True}, 'Greetings'), ({'hi': True}, 'Greetings'), ({'hi': True}, 'Greetings'), ({'hi': True}, 'Greetings'), ({'hey': True}, 'Greetings'), ({'hi': True, 'hello': True}, 'Greetings'), ({'hey': True}, 'Greetings'), ({'hey': True, 'hi': True}, 'Greetings'), ({'hey': True, 'hello': True}, 'Greetings'), ({'good': True, 'morn': True}, 'Morning'), ({'good': True, 'afternoon': True}, 'Afternoon'), ({'good': True, 'even': True}, 'Evening'), ({'good': True, 'night': True}, 'Goodbye'), ({'_': True}, 'NoFeatures'), ({'__': True}, 'NoFeatures'), ({'today': True}, 'Opening'), ({'want': True, 'help': True}, 'Help'), ({'help': True, 'need': True}, 'Help'), ({'help': True}, 'Help'), ({'want': True, 'help': True}, 'No-Help'), ({'assist': True, 'want': True}, 'No-Help'), ({'help': True}, 'No-Help'), ({'name': True}, 'KYC'), ({'tell': True, 'name': True}, 'KYC'), ({'name': True}, 'KYC'), ({'great': True, 'talk': True}, 'Closing'), ({'great': True}, 'Closing'), ({'thank': True, 'help': True}, 'Closing'), ({'thank': True}, 'Closing'), ({'thank': True, 'much': True}, 'Closing'), ({'thank': True}, 'Closing'), ({'thank': True, 'much': True}, 'Closing'), ({'leav': True, 'type': True, 'mani': True}, 'Leaves-Type'), ({'leav': True, 'type': True}, 'Leaves-Type'), ({'leav': True, 'type': True}, 'Leaves-Type'), ({'type': True}, 'Leaves-Type'), ({'leav': True, 'type': True}, 'Leaves-Type'), ({'leav': True, 'mani': True, 'taken': True}, 'Default-Utilized-Annual-Leaves'), ({'leav': True, 'alreadi': True, 'mani': True, 'taken': True}, 'Default-Utilized-Annual-Leaves'), ({'leav': True, 'annual': True, 'mani': True}, 'Utilized-Annual-Leaves'), ({'leav': True, 'annual': True, 'mani': True, 'taken': True}, 'Utilized-Annual-Leaves'), ({'leav': True, 'annual': True, 'alreadi': True, 'mani': True, 'taken': True}, 'Utilized-Annual-Leaves'), ({'leav': True, 'taken': True, 'annual': True, 'count': True}, 'Utilized-Annual-Leaves'), ({'leav': True, 'annual': True, 'mani': True, 'taken': True}, 'Utilized-Annual-Leaves'), ({'leav': True, 'taken': True, 'annual': True, 'number': True}, 'Utilized-Annual-Leaves'), ({'leav': True, 'annual': True, 'taken': True}, 'Utilized-Annual-Leaves'), ({'leav': True, 'taken': True, 'annual': True, 'alreadi': True, 'number': True}, 'Utilized-Annual-Leaves'), ({'leav': True, 'annual': True, 'taken': True}, 'Utilized-Annual-Leaves'), ({'leav': True, 'annual': True, 'alreadi': True, 'taken': True}, 'Utilized-Annual-Leaves'), ({'leav': True, 'taken': True, 'annual': True, 'number': True}, 'Utilized-Annual-Leaves'), ({'leav': True, 'annual': True, 'number': True}, 'Utilized-Annual-Leaves'), ({'leav': True, 'annual': True, 'taken': True}, 'Utilized-Annual-Leaves'), ({'leav': True, 'annual': True}, 'Utilized-Annual-Leaves'), ({'option': True, 'leav': True, 'mani': True, 'taken': True}, 'Utilized-Optional-Leaves'), ({'option': True, 'leav': True, 'mani': True}, 'Utilized-Optional-Leaves'), ({'option': True, 'leav': True, 'taken': True}, 'Utilized-Optional-Leaves'), ({'option': True, 'leav': True, 'taken': True, 'number': True}, 'Utilized-Optional-Leaves'), ({'option': True, 'leav': True, 'taken': True, 'count': True}, 'Utilized-Optional-Leaves'), ({'option': True, 'leav': True, 'taken': True, 'number': True}, 'Utilized-Optional-Leaves'), ({'option': True, 'leav': True, 'taken': True, 'number': True}, 'Utilized-Optional-Leaves'), ({'option': True, 'leav': True, 'taken': True, 'number': True}, 'Utilized-Optional-Leaves'), ({'option': True, 'leav': True, 'mani': True, 'taken': True}, 'Utilized-Optional-Leaves'), ({'option': True, 'leav': True, 'taken': True, 'number': True}, 'Utilized-Optional-Leaves'), ({'option': True, 'leav': True, 'taken': True, 'alreadi': True, 'number': True}, 'Utilized-Optional-Leaves'), ({'option': True, 'leav': True, 'taken': True}, 'Utilized-Optional-Leaves'), ({'option': True, 'leav': True, 'alreadi': True, 'taken': True}, 'Utilized-Optional-Leaves'), ({'option': True, 'leav': True, 'number': True}, 'Utilized-Optional-Leaves'), ({'option': True, 'leav': True, 'number': True}, 'Utilized-Optional-Leaves'), ({'option': True, 'leav': True, 'use': True, 'count': True}, 'Utilized-Optional-Leaves'), ({'option': True, 'leav': True, 'use': True, 'count': True}, 'Utilized-Optional-Leaves'), ({'option': True, 'leav': True, 'use': True, 'count': True}, 'Utilized-Optional-Leaves'), ({'option': True, 'leav': True, 'use': True, 'count': True}, 'Utilized-Optional-Leaves'), ({'option': True, 'leav': True, 'taken': True, 'count': True}, 'Utilized-Optional-Leaves'), ({'option': True, 'leav': True, 'taken': True, 'count': True}, 'Utilized-Optional-Leaves'), ({'option': True, 'leav': True, 'taken': True, 'count': True}, 'Utilized-Optional-Leaves'), ({'option': True, 'leav': True, 'mani': True}, 'Utilized-Optional-Leaves'), ({'option': True, 'leav': True, 'mani': True}, 'Utilized-Optional-Leaves'), ({'option': True, 'leav': True, 'number': True}, 'Utilized-Optional-Leaves'), ({'option': True, 'leav': True}, 'Utilized-Optional-Leaves'), ({'leav': True, 'mani': True}, 'Default-Balance-Annual-Leaves'), ({'leav': True, 'take': True, 'mani': True}, 'Default-Balance-Annual-Leaves'), ({'leav': True, 'remain': True, 'mani': True}, 'Default-Balance-Annual-Leaves'), ({'leav': True, 'remain': True}, 'Default-Balance-Annual-Leaves'), ({'leav': True}, 'Default-Balance-Annual-Leaves'), ({'tell': True, 'leav': True, 'balanc': True}, 'Default-Balance-Annual-Leaves'), ({'leav': True, 'remain': True}, 'Default-Balance-Annual-Leaves'), ({'leav': True, 'balanc': True}, 'Default-Balance-Annual-Leaves'), ({'leav': True, 'pend': True}, 'Default-Balance-Annual-Leaves'), ({'leav': True, 'remain': True, 'annual': True, 'count': True}, 'Balance-Annual-Leaves'), ({'leav': True, 'annual': True, 'mani': True}, 'Balance-Annual-Leaves'), ({'leav': True, 'annual': True}, 'Balance-Annual-Leaves'), ({'leav': True, 'annual': True, 'balanc': True}, 'Balance-Annual-Leaves'), ({'leav': True, 'annual': True}, 'Balance-Annual-Leaves'), ({'leav': True, 'annual': True, 'mani': True, 'remain': True}, 'Balance-Annual-Leaves'), ({'leav': True, 'annual': True, 'remain': True}, 'Balance-Annual-Leaves'), ({'leav': True, 'remain': True, 'annual': True}, 'Balance-Annual-Leaves'), ({'leav': True, 'annual': True, 'remain': True}, 'Balance-Annual-Leaves'), ({'leav': True, 'remain': True, 'annual': True, 'number': True}, 'Balance-Annual-Leaves'), ({'leav': True, 'annual': True, 'number': True}, 'Balance-Annual-Leaves'), ({'leav': True, 'annual': True, 'remain': True}, 'Balance-Annual-Leaves'), ({'leav': True, 'remain': True, 'annual': True, 'count': True}, 'Balance-Annual-Leaves'), ({'leav': True, 'remain': True, 'annual': True, 'count': True}, 'Balance-Annual-Leaves'), ({'leav': True, 'remain': True, 'annual': True, 'count': True}, 'Balance-Annual-Leaves'), ({'leav': True, 'remain': True, 'annual': True, 'count': True}, 'Balance-Annual-Leaves'), ({'leav': True, 'annual': True, 'balanc': True}, 'Balance-Annual-Leaves'), ({'leav': True, 'annual': True, 'balanc': True}, 'Balance-Annual-Leaves'), ({'leav': True, 'annual': True}, 'Balance-Annual-Leaves'), ({'leav': True, 'remain': True, 'annual': True, 'number': True}, 'Balance-Annual-Leaves'), ({'leav': True, 'remain': True, 'annual': True, 'number': True}, 'Balance-Annual-Leaves'), ({'option': True, 'leav': True, 'remain': True, 'mani': True}, 'Balance-Optional-Leaves'), ({'option': True, 'leav': True, 'remain': True}, 'Balance-Optional-Leaves'), ({'option': True, 'leav': True, 'remain': True, 'number': True}, 'Balance-Optional-Leaves'), ({'option': True, 'leav': True, 'mani': True}, 'Balance-Optional-Leaves'), ({'option': True, 'leav': True, 'mani': True}, 'Balance-Optional-Leaves'), ({'option': True, 'leav': True, 'balanc': True}, 'Balance-Optional-Leaves'), ({'option': True, 'leav': True}, 'Balance-Optional-Leaves'), ({'option': True, 'leav': True, 'take': True, 'mani': True}, 'Balance-Optional-Leaves'), ({'option': True, 'leav': True, 'take': True}, 'Balance-Optional-Leaves'), ({'option': True, 'leav': True, 'mani': True}, 'Balance-Optional-Leaves'), ({'option': True, 'leav': True, 'balanc': True}, 'Balance-Optional-Leaves'), ({'option': True, 'leav': True, 'remain': True, 'count': True}, 'Balance-Optional-Leaves'), ({'option': True, 'leav': True}, 'Balance-Optional-Leaves'), ({'option': True, 'leav': True}, 'Balance-Optional-Leaves'), ({'option': True, 'leav': True, 'balanc': True}, 'Balance-Optional-Leaves'), ({'option': True}, 'Balance-Optional-Leaves'), ({'option': True, 'leav': True, 'remain': True, 'count': True}, 'Balance-Optional-Leaves'), ({'option': True, 'leav': True, 'remain': True, 'count': True}, 'Balance-Optional-Leaves'), ({'option': True, 'leav': True, 'remain': True, 'count': True}, 'Balance-Optional-Leaves'), ({'option': True, 'leav': True, 'remain': True, 'number': True}, 'Balance-Optional-Leaves'), ({'option': True, 'leav': True, 'remain': True, 'number': True}, 'Balance-Optional-Leaves'), ({'option': True, 'leav': True, 'remain': True, 'number': True}, 'Balance-Optional-Leaves'), ({'option': True, 'leav': True, 'number': True}, 'Balance-Optional-Leaves'), ({'option': True, 'leav': True, 'number': True}, 'Balance-Optional-Leaves'), ({'leav': True, 'forward': True, 'mani': True, 'carri': True}, 'CF'), ({'leav': True, 'carri': True, 'forward': True, 'number': True}, 'CF'), ({'tell': True, 'leav': True, 'count': True, 'forward': True, 'carri': True}, 'CF'), ({'leav': True, 'forward': True, 'number': True}, 'CF'), ({'leav': True, 'forward': True, 'number': True}, 'CF'), ({'leav': True, 'forward': True, 'number': True}, 'CF'), ({'previou': True, 'year': True, 'forward': True, 'mani': True, 'carri': True}, 'CF'), ({'leav': True, 'year': True, 'previou': True, 'tell': True, 'forward': True, 'carri': True}, 'CF'), ({'tell': True, 'leav': True, 'forward': True, 'carri': True}, 'CF'), ({'tell': True, 'leav': True, 'forward': True, 'carri': True}, 'CF'), ({'leav': True, 'forward': True}, 'CF'), ({'leav': True, 'forward': True, 'carri': True}, 'CF'), ({'forward': True, 'carri': True}, 'CF'), ({'leav': True, 'previou': True, 'year': True, 'forward': True, 'carri': True}, 'CF')]\n"
     ]
    }
   ],
   "source": [
    "print(features_data)"
   ]
  },
  {
   "cell_type": "code",
   "execution_count": 578,
   "metadata": {
    "collapsed": false
   },
   "outputs": [
    {
     "name": "stdout",
     "output_type": "stream",
     "text": [
      "[{'thank': True, 'much': True} {'leav': True} {'hi': True, 'hello': True}\n",
      " {'option': True, 'leav': True}\n",
      " {'option': True, 'leav': True, 'balanc': True} {'name': True}\n",
      " {'option': True, 'leav': True, 'take': True}\n",
      " {'option': True, 'leav': True, 'taken': True, 'count': True}\n",
      " {'option': True, 'leav': True, 'remain': True, 'number': True}\n",
      " {'leav': True, 'annual': True, 'balanc': True}]\n",
      "[{'option': True, 'leav': True, 'mani': True} {'hey': True, 'hello': True}\n",
      " {'good': True, 'morn': True} {'leav': True, 'annual': True} {'hi': True}\n",
      " {'leav': True, 'annual': True, 'remain': True}\n",
      " {'tell': True, 'leav': True, 'forward': True, 'carri': True} {'__': True}\n",
      " {'option': True, 'leav': True, 'taken': True, 'number': True}\n",
      " {'option': True, 'leav': True, 'remain': True}]\n",
      "[{'option': True, 'leav': True, 'mani': True}, {'hey': True, 'hello': True}, {'good': True, 'morn': True}, {'leav': True, 'annual': True}, {'hi': True}, {'leav': True, 'annual': True, 'remain': True}, {'tell': True, 'leav': True, 'forward': True, 'carri': True}, {'__': True}, {'option': True, 'leav': True, 'taken': True, 'number': True}, {'option': True, 'leav': True, 'remain': True}]\n"
     ]
    }
   ],
   "source": [
    "features_data_with_labels = np.array(features_data)\n",
    "extracted_features_only = (features_data_with_labels[:,0])\n",
    "type(extracted_features_only)\n",
    "print(extracted_features_only[70:80])\n",
    "print(extracted_features_only[15:25])\n",
    "a = filter(None, extracted_features_only[15:25])\n",
    "print(list(a))"
   ]
  },
  {
   "cell_type": "code",
   "execution_count": 579,
   "metadata": {
    "collapsed": false,
    "scrolled": true
   },
   "outputs": [
    {
     "name": "stdout",
     "output_type": "stream",
     "text": [
      "[({'type': True}, 'Leaves-Type'), ({'leav': True, 'annual': True}, 'Balance-Annual-Leaves'), ({'leav': True, 'type': True, 'mani': True}, 'Leaves-Type'), ({'option': True, 'leav': True, 'mani': True}, 'Utilized-Optional-Leaves'), ({'option': True, 'leav': True, 'remain': True, 'count': True}, 'Balance-Optional-Leaves'), ({'leav': True, 'remain': True, 'annual': True, 'count': True}, 'Balance-Annual-Leaves'), ({'help': True}, 'No-Help'), ({'leav': True, 'mani': True}, 'Default-Balance-Annual-Leaves'), ({'leav': True, 'remain': True, 'mani': True}, 'Default-Balance-Annual-Leaves'), ({'leav': True, 'forward': True, 'number': True}, 'CF'), ({'want': True, 'help': True}, 'No-Help'), ({'leav': True, 'forward': True, 'mani': True, 'carri': True}, 'CF'), ({'option': True, 'leav': True, 'taken': True, 'number': True}, 'Utilized-Optional-Leaves'), ({'good': True, 'even': True}, 'Evening'), ({'hey': True}, 'Greetings'), ({'option': True, 'leav': True, 'mani': True}, 'Utilized-Optional-Leaves'), ({'hey': True, 'hello': True}, 'Greetings'), ({'good': True, 'morn': True}, 'Morning'), ({'leav': True, 'annual': True}, 'Balance-Annual-Leaves'), ({'hi': True}, 'Greetings'), ({'leav': True, 'annual': True, 'remain': True}, 'Balance-Annual-Leaves'), ({'tell': True, 'leav': True, 'forward': True, 'carri': True}, 'CF'), ({'__': True}, 'NoFeatures'), ({'option': True, 'leav': True, 'taken': True, 'number': True}, 'Utilized-Optional-Leaves'), ({'option': True, 'leav': True, 'remain': True}, 'Balance-Optional-Leaves'), ({'leav': True, 'taken': True, 'annual': True, 'number': True}, 'Utilized-Annual-Leaves'), ({'leav': True, 'remain': True, 'annual': True}, 'Balance-Annual-Leaves'), ({'thank': True}, 'Closing'), ({'leav': True, 'annual': True, 'taken': True}, 'Utilized-Annual-Leaves'), ({'good': True, 'afternoon': True}, 'Afternoon'), ({'leav': True, 'annual': True, 'alreadi': True, 'taken': True}, 'Utilized-Annual-Leaves'), ({'option': True, 'leav': True, 'remain': True, 'number': True}, 'Balance-Optional-Leaves'), ({'option': True, 'leav': True, 'mani': True}, 'Balance-Optional-Leaves'), ({'leav': True, 'year': True, 'previou': True, 'tell': True, 'forward': True, 'carri': True}, 'CF'), ({'leav': True, 'remain': True, 'annual': True, 'number': True}, 'Balance-Annual-Leaves'), ({'good': True, 'night': True}, 'Goodbye'), ({'option': True, 'leav': True, 'mani': True}, 'Balance-Optional-Leaves'), ({'hello': True}, 'Greetings'), ({'leav': True, 'previou': True, 'year': True, 'forward': True, 'carri': True}, 'CF'), ({'option': True, 'leav': True, 'taken': True, 'count': True}, 'Utilized-Optional-Leaves'), ({'leav': True, 'taken': True, 'annual': True, 'alreadi': True, 'number': True}, 'Utilized-Annual-Leaves'), ({'tell': True, 'name': True}, 'KYC'), ({'hey': True, 'hi': True}, 'Greetings'), ({'option': True, 'leav': True, 'remain': True, 'number': True}, 'Balance-Optional-Leaves'), ({'leav': True, 'annual': True, 'mani': True}, 'Utilized-Annual-Leaves'), ({'leav': True, 'annual': True}, 'Utilized-Annual-Leaves'), ({'_': True}, 'NoFeatures'), ({'tell': True, 'leav': True, 'balanc': True}, 'Default-Balance-Annual-Leaves'), ({'option': True, 'leav': True, 'remain': True, 'count': True}, 'Balance-Optional-Leaves'), ({'leav': True, 'annual': True, 'alreadi': True, 'mani': True, 'taken': True}, 'Utilized-Annual-Leaves'), ({'thank': True, 'much': True}, 'Closing'), ({'option': True, 'leav': True, 'number': True}, 'Balance-Optional-Leaves'), ({'option': True, 'leav': True, 'remain': True, 'number': True}, 'Balance-Optional-Leaves'), ({'option': True, 'leav': True}, 'Utilized-Optional-Leaves'), ({'option': True, 'leav': True}, 'Balance-Optional-Leaves'), ({'help': True}, 'Help'), ({'option': True, 'leav': True, 'taken': True, 'count': True}, 'Utilized-Optional-Leaves'), ({'help': True, 'need': True}, 'Help'), ({'hey': True}, 'Greetings'), ({'leav': True, 'type': True}, 'Leaves-Type'), ({'option': True, 'leav': True, 'taken': True, 'number': True}, 'Utilized-Optional-Leaves'), ({'hi': True}, 'Greetings'), ({'option': True, 'leav': True, 'taken': True, 'number': True}, 'Utilized-Optional-Leaves'), ({'leav': True, 'type': True}, 'Leaves-Type'), ({'leav': True, 'forward': True}, 'CF'), ({'tell': True, 'leav': True, 'count': True, 'forward': True, 'carri': True}, 'CF'), ({'leav': True, 'annual': True, 'balanc': True}, 'Balance-Annual-Leaves'), ({'leav': True, 'annual': True}, 'Balance-Annual-Leaves'), ({'today': True}, 'Opening'), ({'option': True, 'leav': True, 'number': True}, 'Utilized-Optional-Leaves'), ({'thank': True, 'much': True}, 'Closing'), ({'leav': True}, 'Default-Balance-Annual-Leaves'), ({'hi': True, 'hello': True}, 'Greetings'), ({'option': True, 'leav': True}, 'Balance-Optional-Leaves'), ({'option': True, 'leav': True, 'balanc': True}, 'Balance-Optional-Leaves'), ({'name': True}, 'KYC'), ({'option': True, 'leav': True, 'take': True}, 'Balance-Optional-Leaves'), ({'option': True, 'leav': True, 'taken': True, 'count': True}, 'Utilized-Optional-Leaves'), ({'option': True, 'leav': True, 'remain': True, 'number': True}, 'Balance-Optional-Leaves'), ({'leav': True, 'annual': True, 'balanc': True}, 'Balance-Annual-Leaves'), ({'leav': True, 'annual': True, 'remain': True}, 'Balance-Annual-Leaves'), ({'option': True, 'leav': True, 'taken': True}, 'Utilized-Optional-Leaves'), ({'leav': True, 'forward': True, 'number': True}, 'CF'), ({'thank': True, 'help': True}, 'Closing'), ({'option': True, 'leav': True, 'number': True}, 'Utilized-Optional-Leaves'), ({'option': True, 'leav': True, 'number': True}, 'Balance-Optional-Leaves'), ({'forward': True, 'carri': True}, 'CF'), ({'option': True, 'leav': True, 'remain': True, 'count': True}, 'Balance-Optional-Leaves'), ({'option': True, 'leav': True, 'mani': True}, 'Utilized-Optional-Leaves'), ({'leav': True, 'take': True, 'mani': True}, 'Default-Balance-Annual-Leaves'), ({'option': True, 'leav': True, 'mani': True}, 'Balance-Optional-Leaves'), ({'leav': True, 'taken': True, 'annual': True, 'number': True}, 'Utilized-Annual-Leaves'), ({'leav': True, 'forward': True, 'number': True}, 'CF'), ({'option': True, 'leav': True, 'balanc': True}, 'Balance-Optional-Leaves'), ({'leav': True, 'remain': True, 'annual': True, 'count': True}, 'Balance-Annual-Leaves'), ({'option': True}, 'Balance-Optional-Leaves'), ({'option': True, 'leav': True}, 'Balance-Optional-Leaves'), ({'option': True, 'leav': True, 'balanc': True}, 'Balance-Optional-Leaves'), ({'leav': True, 'annual': True, 'taken': True}, 'Utilized-Annual-Leaves'), ({'option': True, 'leav': True, 'remain': True, 'count': True}, 'Balance-Optional-Leaves'), ({'option': True, 'leav': True, 'alreadi': True, 'taken': True}, 'Utilized-Optional-Leaves'), ({'option': True, 'leav': True, 'number': True}, 'Utilized-Optional-Leaves'), ({'hi': True}, 'Greetings'), ({'option': True, 'leav': True, 'use': True, 'count': True}, 'Utilized-Optional-Leaves'), ({'option': True, 'leav': True, 'take': True, 'mani': True}, 'Balance-Optional-Leaves'), ({'leav': True, 'annual': True, 'remain': True}, 'Balance-Annual-Leaves'), ({'leav': True, 'annual': True, 'number': True}, 'Balance-Annual-Leaves'), ({'leav': True, 'annual': True, 'balanc': True}, 'Balance-Annual-Leaves'), ({'leav': True, 'carri': True, 'forward': True, 'number': True}, 'CF'), ({'option': True, 'leav': True, 'use': True, 'count': True}, 'Utilized-Optional-Leaves'), ({'leav': True, 'annual': True, 'mani': True, 'taken': True}, 'Utilized-Annual-Leaves'), ({'option': True, 'leav': True, 'taken': True, 'alreadi': True, 'number': True}, 'Utilized-Optional-Leaves'), ({'leav': True, 'annual': True, 'mani': True, 'taken': True}, 'Utilized-Annual-Leaves'), ({'option': True, 'leav': True, 'mani': True, 'taken': True}, 'Utilized-Optional-Leaves'), ({'option': True, 'leav': True, 'use': True, 'count': True}, 'Utilized-Optional-Leaves'), ({'great': True}, 'Closing'), ({'leav': True, 'remain': True}, 'Default-Balance-Annual-Leaves'), ({'option': True, 'leav': True, 'mani': True, 'taken': True}, 'Utilized-Optional-Leaves'), ({'assist': True, 'want': True}, 'No-Help'), ({'leav': True, 'remain': True, 'annual': True, 'count': True}, 'Balance-Annual-Leaves'), ({'option': True, 'leav': True, 'taken': True, 'count': True}, 'Utilized-Optional-Leaves'), ({'great': True, 'talk': True}, 'Closing'), ({'leav': True, 'remain': True}, 'Default-Balance-Annual-Leaves'), ({'option': True, 'leav': True, 'use': True, 'count': True}, 'Utilized-Optional-Leaves'), ({'leav': True, 'annual': True, 'mani': True, 'remain': True}, 'Balance-Annual-Leaves'), ({'leav': True, 'annual': True, 'taken': True}, 'Utilized-Annual-Leaves'), ({'tell': True, 'leav': True, 'forward': True, 'carri': True}, 'CF'), ({'leav': True, 'remain': True, 'annual': True, 'number': True}, 'Balance-Annual-Leaves'), ({'hi': True, 'hello': True}, 'Greetings'), ({'option': True, 'leav': True, 'taken': True, 'number': True}, 'Utilized-Optional-Leaves'), ({'leav': True, 'mani': True, 'taken': True}, 'Default-Utilized-Annual-Leaves'), ({'leav': True, 'annual': True, 'mani': True}, 'Balance-Annual-Leaves'), ({'previou': True, 'year': True, 'forward': True, 'mani': True, 'carri': True}, 'CF'), ({'leav': True, 'annual': True, 'number': True}, 'Utilized-Annual-Leaves'), ({'leav': True, 'pend': True}, 'Default-Balance-Annual-Leaves'), ({'leav': True, 'balanc': True}, 'Default-Balance-Annual-Leaves'), ({'leav': True, 'taken': True, 'annual': True, 'count': True}, 'Utilized-Annual-Leaves'), ({'leav': True, 'alreadi': True, 'mani': True, 'taken': True}, 'Default-Utilized-Annual-Leaves'), ({'leav': True, 'type': True}, 'Leaves-Type'), ({'name': True}, 'KYC'), ({'leav': True, 'remain': True, 'annual': True, 'count': True}, 'Balance-Annual-Leaves'), ({'thank': True}, 'Closing'), ({'leav': True, 'remain': True, 'annual': True, 'count': True}, 'Balance-Annual-Leaves'), ({'option': True, 'leav': True, 'taken': True}, 'Utilized-Optional-Leaves'), ({'leav': True, 'remain': True, 'annual': True, 'number': True}, 'Balance-Annual-Leaves'), ({'leav': True, 'forward': True, 'carri': True}, 'CF'), ({'want': True, 'help': True}, 'Help'), ({'option': True, 'leav': True, 'remain': True, 'mani': True}, 'Balance-Optional-Leaves')]\n"
     ]
    }
   ],
   "source": [
    "# features_data = list(filter(None, features_data))\n",
    "print(features_data)"
   ]
  },
  {
   "cell_type": "code",
   "execution_count": 577,
   "metadata": {
    "collapsed": false
   },
   "outputs": [
    {
     "name": "stdout",
     "output_type": "stream",
     "text": [
      "432\n"
     ]
    },
    {
     "data": {
      "text/plain": [
       "['hello', 'hi', 'hello', 'hi', 'hi']"
      ]
     },
     "execution_count": 577,
     "metadata": {},
     "output_type": "execute_result"
    }
   ],
   "source": [
    "print(len(corpus))\n",
    "corpus[0:5]"
   ]
  },
  {
   "cell_type": "code",
   "execution_count": null,
   "metadata": {
    "collapsed": true
   },
   "outputs": [],
   "source": []
  },
  {
   "cell_type": "code",
   "execution_count": null,
   "metadata": {
    "collapsed": true
   },
   "outputs": [],
   "source": [
    "# try on 21st"
   ]
  },
  {
   "cell_type": "code",
   "execution_count": 423,
   "metadata": {
    "collapsed": true
   },
   "outputs": [],
   "source": [
    "def word_feats(words):\n",
    "    return dict([(word, True) for word in words])\n"
   ]
  },
  {
   "cell_type": "code",
   "execution_count": 443,
   "metadata": {
    "collapsed": false
   },
   "outputs": [
    {
     "data": {
      "text/plain": [
       "{'leav': True, 'number': True, 'option': True, 'taken': True}"
      ]
     },
     "execution_count": 443,
     "metadata": {},
     "output_type": "execute_result"
    }
   ],
   "source": [
    "word_feats(extracted_features_only[70])"
   ]
  },
  {
   "cell_type": "code",
   "execution_count": null,
   "metadata": {
    "collapsed": true
   },
   "outputs": [],
   "source": [
    "# add labels as comma separated"
   ]
  },
  {
   "cell_type": "code",
   "execution_count": 444,
   "metadata": {
    "collapsed": true
   },
   "outputs": [],
   "source": [
    "ip_features_ex = word_feats(extracted_features_only[70])"
   ]
  },
  {
   "cell_type": "code",
   "execution_count": null,
   "metadata": {
    "collapsed": true
   },
   "outputs": [],
   "source": [
    "#delete above"
   ]
  },
  {
   "cell_type": "code",
   "execution_count": null,
   "metadata": {
    "collapsed": true
   },
   "outputs": [],
   "source": [
    "#features_data is all my data. Classify this."
   ]
  },
  {
   "cell_type": "code",
   "execution_count": null,
   "metadata": {
    "collapsed": true
   },
   "outputs": [],
   "source": []
  },
  {
   "cell_type": "code",
   "execution_count": null,
   "metadata": {
    "collapsed": true
   },
   "outputs": [],
   "source": []
  },
  {
   "cell_type": "code",
   "execution_count": null,
   "metadata": {
    "collapsed": true
   },
   "outputs": [],
   "source": []
  },
  {
   "cell_type": "markdown",
   "metadata": {
    "collapsed": true
   },
   "source": [
    "## Bag of words"
   ]
  },
  {
   "cell_type": "code",
   "execution_count": 156,
   "metadata": {
    "collapsed": true
   },
   "outputs": [],
   "source": [
    "from sklearn.feature_extraction.text import CountVectorizer"
   ]
  },
  {
   "cell_type": "code",
   "execution_count": 157,
   "metadata": {
    "collapsed": false
   },
   "outputs": [
    {
     "data": {
      "text/plain": [
       "CountVectorizer(analyzer='word', binary=False, decode_error='strict',\n",
       "        dtype=<class 'numpy.int64'>, encoding='utf-8', input='content',\n",
       "        lowercase=True, max_df=1.0, max_features=None, min_df=1,\n",
       "        ngram_range=(1, 1), preprocessor=None, stop_words=None,\n",
       "        strip_accents=None, token_pattern='(?u)\\\\b\\\\w\\\\w+\\\\b',\n",
       "        tokenizer=None, vocabulary=None)"
      ]
     },
     "execution_count": 157,
     "metadata": {},
     "output_type": "execute_result"
    }
   ],
   "source": [
    "vectorizer = CountVectorizer(min_df=1)\n",
    "vectorizer                     "
   ]
  },
  {
   "cell_type": "code",
   "execution_count": 159,
   "metadata": {
    "collapsed": true
   },
   "outputs": [],
   "source": [
    "# Following is an example of the corpus\n",
    "# corpus = [\n",
    "# ...     'This is the first document.',\n",
    "# ...     'This is the second second document.',\n",
    "# ...     'And the third one.',\n",
    "# ...     'Is this the first document?',\n",
    "# ... ]\n",
    "# corpus"
   ]
  },
  {
   "cell_type": "code",
   "execution_count": 353,
   "metadata": {
    "collapsed": false
   },
   "outputs": [
    {
     "name": "stdout",
     "output_type": "stream",
     "text": [
      "['hello' 'hi hello' 'hi' 'hi' 'hi' 'hey' 'hello hi' 'hey' 'hey hi'\n",
      " 'hey hello' 'good morn' 'good afternoon' 'good even' 'good night' '_' '__'\n",
      " '' '' '' '' '' '' 'today' '' 'want help' 'need help' 'help' 'want help'\n",
      " 'want assist' 'help' 'name' 'tell name' 'name' 'great talk' 'great'\n",
      " 'thank help' 'thank' 'thank much' 'thank' 'thank much' 'mani type leav'\n",
      " 'type leav' 'type leav' 'type' 'leav type' 'mani leav taken'\n",
      " 'mani leav alreadi taken' 'mani annual leav' 'mani annual leav taken'\n",
      " 'mani annual leav alreadi taken' 'annual leav count taken'\n",
      " 'mani annual leav taken' 'number annual leav taken' 'annual leav taken'\n",
      " 'number annual leav alreadi taken' 'annual leav taken'\n",
      " 'annual leav alreadi taken' 'number annual leav taken'\n",
      " 'number annual leav' 'taken annual leav' 'annual leav'\n",
      " 'mani option leav taken' 'mani option leav' 'option leav taken'\n",
      " 'number option leav taken' 'option leav count taken'\n",
      " 'number option leav taken' 'number option leav taken'\n",
      " 'number option leav taken' 'mani option leav taken'\n",
      " 'number option leav taken' 'number option leav alreadi taken'\n",
      " 'option leav taken' 'option leav alreadi taken' 'number option leav'\n",
      " 'number option leav' 'option leav count use' 'option leav count use'\n",
      " 'option leav count use' 'option leav count use' 'option leav count taken'\n",
      " 'option leav count taken' 'option leav count taken' 'mani option leav'\n",
      " 'mani option leav' 'number option leav' 'option leav' 'mani leav'\n",
      " 'mani leav take' 'mani leav remain' 'remain leav' 'leav'\n",
      " 'tell leav balanc' 'remain leav' 'leav balanc' 'leav pend'\n",
      " 'annual leav count remain' 'mani annual leav' 'annual leav'\n",
      " 'annual leav balanc' 'annual leav' 'mani annual leav remain'\n",
      " 'annual leav remain' 'remain annual leav' 'annual leav remain'\n",
      " 'number annual leav remain' 'number annual leav' 'annual leav remain'\n",
      " 'annual leav count remain' 'annual leav count remain'\n",
      " 'annual leav count remain' 'annual leav count remain' 'annual leav balanc'\n",
      " 'annual leav balanc' 'annual leav' 'number annual leav remain'\n",
      " 'number annual leav remain' 'mani option leav remain' 'option leav remain'\n",
      " 'number option leav remain' 'mani option leav' 'mani option leav'\n",
      " 'option leav balanc' 'option leav' 'mani option leav take'\n",
      " 'option leav take' 'mani option leav' 'option leav balanc'\n",
      " 'option leav count remain' 'option leav' 'option leav'\n",
      " 'option leav balanc' 'option' 'option leav count remain'\n",
      " 'option leav count remain' 'option leav count remain'\n",
      " 'number option leav remain' 'number option leav remain'\n",
      " 'number option leav remain' 'number option leav' 'number option leav'\n",
      " 'mani carri forward leav' 'number carri forward leav'\n",
      " 'tell carri forward leav count' 'number forward leav'\n",
      " 'number forward leav' 'number forward leav'\n",
      " 'mani carri forward previou year' 'tell carri forward leav previou year'\n",
      " 'tell carri forward leav' 'tell carri forward leav' 'forward leav'\n",
      " 'carri forward leav' 'carri forward' 'previou year carri forward leav']\n"
     ]
    },
    {
     "data": {
      "text/plain": [
       "<155x38 sparse matrix of type '<class 'numpy.int64'>'\n",
       "\twith 431 stored elements in Compressed Sparse Row format>"
      ]
     },
     "execution_count": 353,
     "metadata": {},
     "output_type": "execute_result"
    }
   ],
   "source": [
    "print(extracted_features_only)\n",
    "X = vectorizer.fit_transform(extracted_features_only)\n",
    "X"
   ]
  },
  {
   "cell_type": "code",
   "execution_count": 354,
   "metadata": {
    "collapsed": false
   },
   "outputs": [
    {
     "data": {
      "text/plain": [
       "True"
      ]
     },
     "execution_count": 354,
     "metadata": {},
     "output_type": "execute_result"
    }
   ],
   "source": [
    "analyze = vectorizer.build_analyzer()\n",
    "analyze(\"This is a text document to analyze.\") == (['this', 'is', 'text', 'document', 'to', 'analyze'])"
   ]
  },
  {
   "cell_type": "code",
   "execution_count": 355,
   "metadata": {
    "collapsed": false
   },
   "outputs": [
    {
     "data": {
      "text/plain": [
       "['__',\n",
       " 'afternoon',\n",
       " 'alreadi',\n",
       " 'annual',\n",
       " 'assist',\n",
       " 'balanc',\n",
       " 'carri',\n",
       " 'count',\n",
       " 'even',\n",
       " 'forward',\n",
       " 'good',\n",
       " 'great',\n",
       " 'hello',\n",
       " 'help',\n",
       " 'hey',\n",
       " 'hi',\n",
       " 'leav',\n",
       " 'mani',\n",
       " 'morn',\n",
       " 'much',\n",
       " 'name',\n",
       " 'need',\n",
       " 'night',\n",
       " 'number',\n",
       " 'option',\n",
       " 'pend',\n",
       " 'previou',\n",
       " 'remain',\n",
       " 'take',\n",
       " 'taken',\n",
       " 'talk',\n",
       " 'tell',\n",
       " 'thank',\n",
       " 'today',\n",
       " 'type',\n",
       " 'use',\n",
       " 'want',\n",
       " 'year']"
      ]
     },
     "execution_count": 355,
     "metadata": {},
     "output_type": "execute_result"
    }
   ],
   "source": [
    "vectorizer.get_feature_names()"
   ]
  },
  {
   "cell_type": "code",
   "execution_count": 356,
   "metadata": {
    "collapsed": false
   },
   "outputs": [
    {
     "name": "stdout",
     "output_type": "stream",
     "text": [
      "(155, 38)\n"
     ]
    },
    {
     "data": {
      "text/plain": [
       "431"
      ]
     },
     "execution_count": 356,
     "metadata": {},
     "output_type": "execute_result"
    }
   ],
   "source": [
    "print(X.shape)\n",
    "sum(sum(X.toarray()))"
   ]
  },
  {
   "cell_type": "code",
   "execution_count": 357,
   "metadata": {
    "collapsed": false
   },
   "outputs": [
    {
     "data": {
      "text/plain": [
       "array([[0, 0, 0, 0, 0, 0, 0, 0, 0, 0, 0, 0, 0, 0, 0, 0, 1, 0, 0, 0, 0, 0,\n",
       "        0, 1, 1, 0, 0, 0, 0, 1, 0, 0, 0, 0, 0, 0, 0, 0],\n",
       "       [0, 0, 1, 0, 0, 0, 0, 0, 0, 0, 0, 0, 0, 0, 0, 0, 1, 0, 0, 0, 0, 0,\n",
       "        0, 1, 1, 0, 0, 0, 0, 1, 0, 0, 0, 0, 0, 0, 0, 0],\n",
       "       [0, 0, 0, 0, 0, 0, 0, 0, 0, 0, 0, 0, 0, 0, 0, 0, 1, 0, 0, 0, 0, 0,\n",
       "        0, 0, 1, 0, 0, 0, 0, 1, 0, 0, 0, 0, 0, 0, 0, 0],\n",
       "       [0, 0, 1, 0, 0, 0, 0, 0, 0, 0, 0, 0, 0, 0, 0, 0, 1, 0, 0, 0, 0, 0,\n",
       "        0, 0, 1, 0, 0, 0, 0, 1, 0, 0, 0, 0, 0, 0, 0, 0],\n",
       "       [0, 0, 0, 0, 0, 0, 0, 0, 0, 0, 0, 0, 0, 0, 0, 0, 1, 0, 0, 0, 0, 0,\n",
       "        0, 1, 1, 0, 0, 0, 0, 0, 0, 0, 0, 0, 0, 0, 0, 0],\n",
       "       [0, 0, 0, 0, 0, 0, 0, 0, 0, 0, 0, 0, 0, 0, 0, 0, 1, 0, 0, 0, 0, 0,\n",
       "        0, 1, 1, 0, 0, 0, 0, 0, 0, 0, 0, 0, 0, 0, 0, 0],\n",
       "       [0, 0, 0, 0, 0, 0, 0, 1, 0, 0, 0, 0, 0, 0, 0, 0, 1, 0, 0, 0, 0, 0,\n",
       "        0, 0, 1, 0, 0, 0, 0, 0, 0, 0, 0, 0, 0, 1, 0, 0],\n",
       "       [0, 0, 0, 0, 0, 0, 0, 1, 0, 0, 0, 0, 0, 0, 0, 0, 1, 0, 0, 0, 0, 0,\n",
       "        0, 0, 1, 0, 0, 0, 0, 0, 0, 0, 0, 0, 0, 1, 0, 0],\n",
       "       [0, 0, 0, 0, 0, 0, 0, 1, 0, 0, 0, 0, 0, 0, 0, 0, 1, 0, 0, 0, 0, 0,\n",
       "        0, 0, 1, 0, 0, 0, 0, 0, 0, 0, 0, 0, 0, 1, 0, 0],\n",
       "       [0, 0, 0, 0, 0, 0, 0, 1, 0, 0, 0, 0, 0, 0, 0, 0, 1, 0, 0, 0, 0, 0,\n",
       "        0, 0, 1, 0, 0, 0, 0, 0, 0, 0, 0, 0, 0, 1, 0, 0]], dtype=int64)"
      ]
     },
     "execution_count": 357,
     "metadata": {},
     "output_type": "execute_result"
    }
   ],
   "source": [
    "X.toarray()[70:80,]"
   ]
  },
  {
   "cell_type": "code",
   "execution_count": 358,
   "metadata": {
    "collapsed": false
   },
   "outputs": [
    {
     "data": {
      "text/plain": [
       "16"
      ]
     },
     "execution_count": 358,
     "metadata": {},
     "output_type": "execute_result"
    }
   ],
   "source": [
    "vectorizer.vocabulary_.get('leav')"
   ]
  },
  {
   "cell_type": "code",
   "execution_count": 359,
   "metadata": {
    "collapsed": true
   },
   "outputs": [],
   "source": [
    "# !! words that were not seen in the training corpus will be completely ignored in future calls to the transform method\n",
    "\n",
    "# To do next - try Bi-grams"
   ]
  },
  {
   "cell_type": "code",
   "execution_count": 360,
   "metadata": {
    "collapsed": false
   },
   "outputs": [
    {
     "name": "stdout",
     "output_type": "stream",
     "text": [
      "Hello. I am Dexter. I will serve your leave enquiries as of %(date)s\n"
     ]
    }
   ],
   "source": [
    "print(d[1][1])"
   ]
  },
  {
   "cell_type": "markdown",
   "metadata": {},
   "source": [
    "## Combine the bag_of_words result with the labels"
   ]
  },
  {
   "cell_type": "code",
   "execution_count": 363,
   "metadata": {
    "collapsed": false
   },
   "outputs": [],
   "source": [
    "# result = X.toarray() + d[][1]\n",
    "input_features = X.toarray()"
   ]
  },
  {
   "cell_type": "code",
   "execution_count": 362,
   "metadata": {
    "collapsed": false
   },
   "outputs": [
    {
     "name": "stdout",
     "output_type": "stream",
     "text": [
      "CPU times: user 131 µs, sys: 24 µs, total: 155 µs\n",
      "Wall time: 151 µs\n",
      "CPU times: user 6 µs, sys: 0 ns, total: 6 µs\n",
      "Wall time: 7.87 µs\n"
     ]
    }
   ],
   "source": [
    "# experiment\n",
    "# import numpy as np\n",
    "%time temp = np.array(d)\n",
    "%time a = temp[:,1]"
   ]
  },
  {
   "cell_type": "code",
   "execution_count": 361,
   "metadata": {
    "collapsed": false
   },
   "outputs": [
    {
     "name": "stdout",
     "output_type": "stream",
     "text": [
      "CPU times: user 26 µs, sys: 10 µs, total: 36 µs\n",
      "Wall time: 38.9 µs\n"
     ]
    }
   ],
   "source": [
    "# experiment\n",
    "# asd= X.toarray() + d[:,1]\n",
    "%time a = list(list(zip(*d))[1]) # zip is faster!!"
   ]
  },
  {
   "cell_type": "code",
   "execution_count": null,
   "metadata": {
    "collapsed": true
   },
   "outputs": [],
   "source": []
  },
  {
   "cell_type": "code",
   "execution_count": 375,
   "metadata": {
    "collapsed": false
   },
   "outputs": [],
   "source": [
    "# labels = np.array(list(list(zip(*d))[1]))\n",
    "# len(labels)\n",
    "labels = np.array(d)[:,1]"
   ]
  },
  {
   "cell_type": "code",
   "execution_count": 386,
   "metadata": {
    "collapsed": false
   },
   "outputs": [
    {
     "name": "stdout",
     "output_type": "stream",
     "text": [
      "[0 0 0 0 0 0 0 0 0 0 0 0 1 0 0 1 0 0 0 0 0 0 0 0 0 0 0 0 0 0 0 0 0 0 0 0 0\n",
      " 0]\n",
      "Hello. I am Dexter. I will serve your leave enquiries as of %(date)s\n",
      "<class 'numpy.ndarray'>\n",
      "<class 'str'>\n"
     ]
    }
   ],
   "source": [
    "print(input_features[1])\n",
    "print(labels[1])\n",
    "print(type(input_features[1]))\n",
    "print(type(labels[1]))"
   ]
  },
  {
   "cell_type": "code",
   "execution_count": 396,
   "metadata": {
    "collapsed": false
   },
   "outputs": [],
   "source": [
    "labels = np.reshape(labels, (len(labels),1))\n",
    "# print(labels)\n",
    "data = np.concatenate([input_features, labels], axis = 1)\n",
    "# input_features[1].shape\n",
    "# [labels[1]].shape"
   ]
  },
  {
   "cell_type": "code",
   "execution_count": 422,
   "metadata": {
    "collapsed": false
   },
   "outputs": [
    {
     "name": "stdout",
     "output_type": "stream",
     "text": [
      "39\n"
     ]
    }
   ],
   "source": [
    "print(len(data[1]))"
   ]
  },
  {
   "cell_type": "code",
   "execution_count": null,
   "metadata": {
    "collapsed": true
   },
   "outputs": [],
   "source": []
  },
  {
   "cell_type": "code",
   "execution_count": null,
   "metadata": {
    "collapsed": true
   },
   "outputs": [],
   "source": []
  },
  {
   "cell_type": "code",
   "execution_count": null,
   "metadata": {
    "collapsed": true
   },
   "outputs": [],
   "source": []
  },
  {
   "cell_type": "code",
   "execution_count": 448,
   "metadata": {
    "collapsed": true
   },
   "outputs": [],
   "source": [
    "## split data into train and test sets\n",
    "split_ratio = 0.8\n"
   ]
  },
  {
   "cell_type": "code",
   "execution_count": 567,
   "metadata": {
    "collapsed": true
   },
   "outputs": [],
   "source": [
    "def split_dataset(data, split_ratio):\n",
    "    random.shuffle(data)\n",
    "    data_length = len(data)\n",
    "    train_split = int(data_length * split_ratio)\n",
    "    return (data[:train_split]), (data[train_split:])"
   ]
  },
  {
   "cell_type": "code",
   "execution_count": 568,
   "metadata": {
    "collapsed": false
   },
   "outputs": [],
   "source": [
    "training_data, test_data = split_dataset(features_data, split_ratio)"
   ]
  },
  {
   "cell_type": "code",
   "execution_count": 569,
   "metadata": {
    "collapsed": true
   },
   "outputs": [],
   "source": [
    "from nltk.classify import SklearnClassifier"
   ]
  },
  {
   "cell_type": "code",
   "execution_count": 574,
   "metadata": {
    "collapsed": false
   },
   "outputs": [],
   "source": [
    "import nltk\n",
    "def train_using_decision_tree(training_data, test_data):\n",
    "    # entropy_cutoff=0.1,support_cutoff=0.7 gives awesome results\n",
    "    classifier = nltk.classify.DecisionTreeClassifier.train(training_data, verbose = True)\n",
    "#     print(classifier)\n",
    "#     print(classifier.pretty_format(width=70, prefix='', depth=4))\n",
    "    classifier_name = type(classifier).__name__\n",
    "    training_set_accuracy = nltk.classify.accuracy(classifier, training_data)\n",
    "    test_set_accuracy = nltk.classify.accuracy(classifier, test_data)\n",
    "    return classifier, classifier_name, test_set_accuracy, training_set_accuracy"
   ]
  },
  {
   "cell_type": "code",
   "execution_count": 575,
   "metadata": {
    "collapsed": false
   },
   "outputs": [
    {
     "name": "stdout",
     "output_type": "stream",
     "text": [
      "best stump for    118 toks uses annual               err=0.6864\n",
      "best stump for     25 toks uses taken                err=0.0800\n",
      "best stump for     16 toks uses mani                 err=0.0625\n",
      "best stump for     15 toks uses None                 err=0.0667\n",
      "best stump for     93 toks uses taken                err=0.6237\n",
      "best stump for     81 toks uses forward              err=0.5802\n",
      "best stump for     70 toks uses option               err=0.5429\n",
      "best stump for     33 toks uses use                  err=0.2121\n",
      "best stump for     30 toks uses None                 err=0.2333\n",
      "best stump for     37 toks uses leav                 err=0.5946\n",
      "best stump for      9 toks uses type                 err=0.0000\n",
      "best stump for     28 toks uses thank                err=0.5357\n",
      "best stump for     24 toks uses name                 err=0.5417\n",
      "best stump for     22 toks uses help                 err=0.5000\n",
      "best stump for      4 toks uses want                 err=0.2500\n",
      "best stump for     18 toks uses _                    err=0.4444\n",
      "best stump for     17 toks uses morn                 err=0.4118\n",
      "best stump for     16 toks uses type                 err=0.3750\n",
      "best stump for     15 toks uses today                err=0.3333\n",
      "best stump for     14 toks uses good                 err=0.2857\n",
      "best stump for      3 toks uses afternoon            err=0.3333\n",
      "best stump for     11 toks uses great                err=0.0909\n",
      "best stump for     10 toks uses __                   err=0.0000\n"
     ]
    }
   ],
   "source": [
    "classifier, classifier_name, test_set_accuracy, training_set_accuracy = train_using_decision_tree(training_data, test_data)"
   ]
  },
  {
   "cell_type": "code",
   "execution_count": 454,
   "metadata": {
    "collapsed": false
   },
   "outputs": [
    {
     "data": {
      "text/plain": [
       "0.9193548387096774"
      ]
     },
     "execution_count": 454,
     "metadata": {},
     "output_type": "execute_result"
    }
   ],
   "source": [
    "training_set_accuracy"
   ]
  },
  {
   "cell_type": "code",
   "execution_count": 455,
   "metadata": {
    "collapsed": false
   },
   "outputs": [
    {
     "data": {
      "text/plain": [
       "0.7419354838709677"
      ]
     },
     "execution_count": 455,
     "metadata": {},
     "output_type": "execute_result"
    }
   ],
   "source": [
    "test_set_accuracy"
   ]
  },
  {
   "cell_type": "code",
   "execution_count": 576,
   "metadata": {
    "collapsed": false
   },
   "outputs": [
    {
     "ename": "TypeError",
     "evalue": "unorderable types: NoneType() < bool()",
     "output_type": "error",
     "traceback": [
      "\u001b[0;31m---------------------------------------------------------------------------\u001b[0m",
      "\u001b[0;31mTypeError\u001b[0m                                 Traceback (most recent call last)",
      "\u001b[0;32m<ipython-input-576-dc64618292e3>\u001b[0m in \u001b[0;36m<module>\u001b[0;34m()\u001b[0m\n\u001b[0;32m----> 1\u001b[0;31m \u001b[0mclassifier\u001b[0m\u001b[0;34m.\u001b[0m\u001b[0mpretty_format\u001b[0m\u001b[0;34m(\u001b[0m\u001b[0;34m)\u001b[0m\u001b[0;34m\u001b[0m\u001b[0m\n\u001b[0m",
      "\u001b[0;32m/Library/Frameworks/Python.framework/Versions/3.5/lib/python3.5/site-packages/nltk/classify/decisiontree.py\u001b[0m in \u001b[0;36mpretty_format\u001b[0;34m(self, width, prefix, depth)\u001b[0m\n\u001b[1;32m     84\u001b[0m             \u001b[0;32mreturn\u001b[0m \u001b[0;34m'%s%s %s\\n'\u001b[0m \u001b[0;34m%\u001b[0m \u001b[0;34m(\u001b[0m\u001b[0mprefix\u001b[0m\u001b[0;34m,\u001b[0m \u001b[0;34m'.'\u001b[0m\u001b[0;34m*\u001b[0m\u001b[0mn\u001b[0m\u001b[0;34m,\u001b[0m \u001b[0mself\u001b[0m\u001b[0;34m.\u001b[0m\u001b[0m_label\u001b[0m\u001b[0;34m)\u001b[0m\u001b[0;34m\u001b[0m\u001b[0m\n\u001b[1;32m     85\u001b[0m         \u001b[0ms\u001b[0m \u001b[0;34m=\u001b[0m \u001b[0;34m''\u001b[0m\u001b[0;34m\u001b[0m\u001b[0m\n\u001b[0;32m---> 86\u001b[0;31m         \u001b[0;32mfor\u001b[0m \u001b[0mi\u001b[0m\u001b[0;34m,\u001b[0m \u001b[0;34m(\u001b[0m\u001b[0mfval\u001b[0m\u001b[0;34m,\u001b[0m \u001b[0mresult\u001b[0m\u001b[0;34m)\u001b[0m \u001b[0;32min\u001b[0m \u001b[0menumerate\u001b[0m\u001b[0;34m(\u001b[0m\u001b[0msorted\u001b[0m\u001b[0;34m(\u001b[0m\u001b[0mself\u001b[0m\u001b[0;34m.\u001b[0m\u001b[0m_decisions\u001b[0m\u001b[0;34m.\u001b[0m\u001b[0mitems\u001b[0m\u001b[0;34m(\u001b[0m\u001b[0;34m)\u001b[0m\u001b[0;34m)\u001b[0m\u001b[0;34m)\u001b[0m\u001b[0;34m:\u001b[0m\u001b[0;34m\u001b[0m\u001b[0m\n\u001b[0m\u001b[1;32m     87\u001b[0m             \u001b[0mhdr\u001b[0m \u001b[0;34m=\u001b[0m \u001b[0;34m'%s%s=%s? '\u001b[0m \u001b[0;34m%\u001b[0m \u001b[0;34m(\u001b[0m\u001b[0mprefix\u001b[0m\u001b[0;34m,\u001b[0m \u001b[0mself\u001b[0m\u001b[0;34m.\u001b[0m\u001b[0m_fname\u001b[0m\u001b[0;34m,\u001b[0m \u001b[0mfval\u001b[0m\u001b[0;34m)\u001b[0m\u001b[0;34m\u001b[0m\u001b[0m\n\u001b[1;32m     88\u001b[0m             \u001b[0mn\u001b[0m \u001b[0;34m=\u001b[0m \u001b[0mwidth\u001b[0m\u001b[0;34m-\u001b[0m\u001b[0;36m15\u001b[0m\u001b[0;34m-\u001b[0m\u001b[0mlen\u001b[0m\u001b[0;34m(\u001b[0m\u001b[0mhdr\u001b[0m\u001b[0;34m)\u001b[0m\u001b[0;34m\u001b[0m\u001b[0m\n",
      "\u001b[0;31mTypeError\u001b[0m: unorderable types: NoneType() < bool()"
     ]
    }
   ],
   "source": [
    "classifier.pretty_format()"
   ]
  },
  {
   "cell_type": "code",
   "execution_count": 417,
   "metadata": {
    "collapsed": true
   },
   "outputs": [],
   "source": [
    "??nltk.classify.DecisionTreeClassifier.train"
   ]
  },
  {
   "cell_type": "code",
   "execution_count": 460,
   "metadata": {
    "collapsed": false
   },
   "outputs": [
    {
     "ename": "TypeError",
     "evalue": "unorderable types: NoneType() < bool()",
     "output_type": "error",
     "traceback": [
      "\u001b[0;31m---------------------------------------------------------------------------\u001b[0m",
      "\u001b[0;31mTypeError\u001b[0m                                 Traceback (most recent call last)",
      "\u001b[0;32m<ipython-input-460-40ebd0614fb4>\u001b[0m in \u001b[0;36m<module>\u001b[0;34m()\u001b[0m\n\u001b[0;32m----> 1\u001b[0;31m \u001b[0mclassifier\u001b[0m\u001b[0;34m.\u001b[0m\u001b[0mpseudocode\u001b[0m\u001b[0;34m(\u001b[0m\u001b[0mprefix\u001b[0m\u001b[0;34m=\u001b[0m\u001b[0;34m''\u001b[0m\u001b[0;34m,\u001b[0m \u001b[0mdepth\u001b[0m\u001b[0;34m=\u001b[0m\u001b[0;36m4\u001b[0m\u001b[0;34m)\u001b[0m\u001b[0;34m\u001b[0m\u001b[0m\n\u001b[0m",
      "\u001b[0;32m/Library/Frameworks/Python.framework/Versions/3.5/lib/python3.5/site-packages/nltk/classify/decisiontree.py\u001b[0m in \u001b[0;36mpseudocode\u001b[0;34m(self, prefix, depth)\u001b[0m\n\u001b[1;32m    106\u001b[0m             \u001b[0;32mreturn\u001b[0m \u001b[0;34m\"%sreturn %r\\n\"\u001b[0m \u001b[0;34m%\u001b[0m \u001b[0;34m(\u001b[0m\u001b[0mprefix\u001b[0m\u001b[0;34m,\u001b[0m \u001b[0mself\u001b[0m\u001b[0;34m.\u001b[0m\u001b[0m_label\u001b[0m\u001b[0;34m)\u001b[0m\u001b[0;34m\u001b[0m\u001b[0m\n\u001b[1;32m    107\u001b[0m         \u001b[0ms\u001b[0m \u001b[0;34m=\u001b[0m \u001b[0;34m''\u001b[0m\u001b[0;34m\u001b[0m\u001b[0m\n\u001b[0;32m--> 108\u001b[0;31m         \u001b[0;32mfor\u001b[0m \u001b[0;34m(\u001b[0m\u001b[0mfval\u001b[0m\u001b[0;34m,\u001b[0m \u001b[0mresult\u001b[0m\u001b[0;34m)\u001b[0m \u001b[0;32min\u001b[0m \u001b[0msorted\u001b[0m\u001b[0;34m(\u001b[0m\u001b[0mself\u001b[0m\u001b[0;34m.\u001b[0m\u001b[0m_decisions\u001b[0m\u001b[0;34m.\u001b[0m\u001b[0mitems\u001b[0m\u001b[0;34m(\u001b[0m\u001b[0;34m)\u001b[0m\u001b[0;34m)\u001b[0m\u001b[0;34m:\u001b[0m\u001b[0;34m\u001b[0m\u001b[0m\n\u001b[0m\u001b[1;32m    109\u001b[0m             \u001b[0ms\u001b[0m \u001b[0;34m+=\u001b[0m \u001b[0;34m'%sif %s == %r: '\u001b[0m \u001b[0;34m%\u001b[0m \u001b[0;34m(\u001b[0m\u001b[0mprefix\u001b[0m\u001b[0;34m,\u001b[0m \u001b[0mself\u001b[0m\u001b[0;34m.\u001b[0m\u001b[0m_fname\u001b[0m\u001b[0;34m,\u001b[0m \u001b[0mfval\u001b[0m\u001b[0;34m)\u001b[0m\u001b[0;34m\u001b[0m\u001b[0m\n\u001b[1;32m    110\u001b[0m             \u001b[0;32mif\u001b[0m \u001b[0mresult\u001b[0m\u001b[0;34m.\u001b[0m\u001b[0m_fname\u001b[0m \u001b[0;32mis\u001b[0m \u001b[0;32mnot\u001b[0m \u001b[0;32mNone\u001b[0m \u001b[0;32mand\u001b[0m \u001b[0mdepth\u001b[0m\u001b[0;34m>\u001b[0m\u001b[0;36m1\u001b[0m\u001b[0;34m:\u001b[0m\u001b[0;34m\u001b[0m\u001b[0m\n",
      "\u001b[0;31mTypeError\u001b[0m: unorderable types: NoneType() < bool()"
     ]
    }
   ],
   "source": [
    "classifier."
   ]
  },
  {
   "cell_type": "code",
   "execution_count": null,
   "metadata": {
    "collapsed": true
   },
   "outputs": [],
   "source": []
  },
  {
   "cell_type": "code",
   "execution_count": 582,
   "metadata": {
    "collapsed": true
   },
   "outputs": [],
   "source": [
    "def train_using_naive_bayes(training_data, test_data):\n",
    "    classifier = nltk.NaiveBayesClassifier.train(training_data)\n",
    "    classifier_name = type(classifier).__name__\n",
    "    training_set_accuracy = nltk.classify.accuracy(classifier, training_data)\n",
    "    test_set_accuracy = nltk.classify.accuracy(classifier, test_data)\n",
    "    return classifier, classifier_name, test_set_accuracy, training_set_accuracy"
   ]
  },
  {
   "cell_type": "code",
   "execution_count": 588,
   "metadata": {
    "collapsed": false
   },
   "outputs": [
    {
     "name": "stdout",
     "output_type": "stream",
     "text": [
      "0.8898305084745762\n",
      "0.7666666666666667\n",
      "72\n",
      "Most Informative Features\n",
      "                    leav = None           Greeti : Balanc =     15.2 : 1.0\n",
      "                   taken = None           Balanc : Utiliz =      4.7 : 1.0\n",
      "                    mani = True           Defaul : CF     =      4.0 : 1.0\n",
      "                   thank = None           Balanc : Closin =      3.9 : 1.0\n",
      "                    help = True           No-Hel : Closin =      3.3 : 1.0\n",
      "                 alreadi = True           Utiliz : Utiliz =      2.7 : 1.0\n",
      "                   carri = None           Balanc : CF     =      2.6 : 1.0\n",
      "                    tell = True              KYC : Defaul =      2.3 : 1.0\n",
      "                   count = True           Utiliz : CF     =      2.3 : 1.0\n",
      "                  number = True               CF : Balanc =      2.2 : 1.0\n"
     ]
    }
   ],
   "source": [
    "classifier, classifier_name, test_set_accuracy, training_set_accuracy = train_using_naive_bayes(training_data, test_data)\n",
    "print(training_set_accuracy)\n",
    "print(test_set_accuracy)\n",
    "print(len(classifier.most_informative_features()))\n",
    "classifier.show_most_informative_features()"
   ]
  },
  {
   "cell_type": "code",
   "execution_count": null,
   "metadata": {
    "collapsed": true
   },
   "outputs": [],
   "source": []
  }
 ],
 "metadata": {
  "kernelspec": {
   "display_name": "Python 3",
   "language": "python",
   "name": "python3"
  },
  "language_info": {
   "codemirror_mode": {
    "name": "ipython",
    "version": 3
   },
   "file_extension": ".py",
   "mimetype": "text/x-python",
   "name": "python",
   "nbconvert_exporter": "python",
   "pygments_lexer": "ipython3",
   "version": "3.5.1"
  }
 },
 "nbformat": 4,
 "nbformat_minor": 1
}
